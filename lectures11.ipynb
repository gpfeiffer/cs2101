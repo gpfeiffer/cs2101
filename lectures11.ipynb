{
 "cells": [
  {
   "cell_type": "markdown",
   "metadata": {},
   "source": [
    "### CS2101 - Programming for Science and Finance\n",
    "Prof. Götz Pfeiffer<br />\n",
    "School of Mathematical and Statistical Sciences<br />\n",
    "University of Galway\n",
    "\n",
    "***"
   ]
  },
  {
   "cell_type": "markdown",
   "metadata": {},
   "source": [
    "# Week 11: Function Parameters,  Decorators"
   ]
  },
  {
   "cell_type": "code",
   "execution_count": null,
   "metadata": {},
   "outputs": [],
   "source": [
    "import numpy as np\n",
    "import matplotlib.pyplot as plt"
   ]
  },
  {
   "cell_type": "code",
   "execution_count": null,
   "metadata": {},
   "outputs": [],
   "source": [
    "import math"
   ]
  },
  {
   "cell_type": "markdown",
   "metadata": {},
   "source": [
    "## Decorating a Function"
   ]
  },
  {
   "cell_type": "markdown",
   "metadata": {},
   "source": [
    "* Suppose that, for a  certain function `f`, we would like to have a message printed that tells us when this function is called.\n",
    "* For example, the function `factorial` that computes the factorial $n!$ of a natural number `n`.\n",
    "* Recall the recursive formula\n",
    "  $$\n",
    "  n! = \\begin{cases}\n",
    "  1, & n = 0 \\\\\n",
    "  (n-1)! \\cdot n, & \\text{else}\n",
    "  \\end{cases}\n",
    "  $$"
   ]
  },
  {
   "cell_type": "code",
   "execution_count": null,
   "metadata": {},
   "outputs": [],
   "source": [
    "def factorial(n):\n",
    "    return 1 if n == 0 else factorial(n-1) * n"
   ]
  },
  {
   "cell_type": "code",
   "execution_count": null,
   "metadata": {},
   "outputs": [],
   "source": [
    "factorial(10)"
   ]
  },
  {
   "cell_type": "markdown",
   "metadata": {},
   "source": [
    "* We could simply add a `print` statement to the body of the function."
   ]
  },
  {
   "cell_type": "code",
   "execution_count": null,
   "metadata": {},
   "outputs": [],
   "source": [
    "def factorial_m(n):\n",
    "    print(\"calling factorial function\")\n",
    "    return 1 if n == 0 else factorial_m(n-1) * n"
   ]
  },
  {
   "cell_type": "code",
   "execution_count": null,
   "metadata": {},
   "outputs": [],
   "source": [
    "factorial_m(5)"
   ]
  },
  {
   "cell_type": "markdown",
   "metadata": {},
   "source": [
    "* Works, but feels quite intrusive.\n",
    "* Perhaps we want to do this to more than just one function.  And perhaps we want to get rid of these messages when we get tired of them ...\n",
    "* Wouldn't it be nice if we could write a **function** `add_message` that does this:  take any function as an argument, then construct and return that function with the added message whenever it gets called!\n",
    "* Here we go."
   ]
  },
  {
   "cell_type": "code",
   "execution_count": null,
   "metadata": {},
   "outputs": [],
   "source": [
    "def add_message(f):\n",
    "    def f_m(x):\n",
    "        print(f'calling {f.__name__} function')\n",
    "        return f(x)\n",
    "    return f_m"
   ]
  },
  {
   "cell_type": "markdown",
   "metadata": {},
   "source": [
    "* Test drive with `factorial`."
   ]
  },
  {
   "cell_type": "code",
   "execution_count": null,
   "metadata": {},
   "outputs": [],
   "source": [
    "factorial_mm = add_message(factorial)\n",
    "factorial_mm(5)"
   ]
  },
  {
   "cell_type": "code",
   "execution_count": null,
   "metadata": {},
   "outputs": [],
   "source": [
    "factorial_mm.__name__"
   ]
  },
  {
   "cell_type": "markdown",
   "metadata": {},
   "source": [
    "* Not quite right ..."
   ]
  },
  {
   "cell_type": "code",
   "execution_count": null,
   "metadata": {},
   "outputs": [],
   "source": [
    "factorial = add_message(factorial)\n",
    "factorial(4)"
   ]
  },
  {
   "cell_type": "markdown",
   "metadata": {},
   "source": [
    "* better ..."
   ]
  },
  {
   "cell_type": "markdown",
   "metadata": {},
   "source": [
    "### Decorators"
   ]
  },
  {
   "cell_type": "markdown",
   "metadata": {},
   "source": [
    "* Python provide a syntactic shorthand for situations like this.\n",
    "* Instead of\n",
    "  ```python\n",
    "     def factorial(n):\n",
    "         return ...\n",
    "     factorial = add_message(factorial)\n",
    "  ```\n",
    "  we can write\n",
    "  ```python\n",
    "     @add_message\n",
    "     def factorial(n):\n",
    "         return ...\n",
    "  ```\n",
    "  for the same effect.\n",
    "* The `@add_message` part is called a **decorator**.\n",
    "* In general, a decorator allows you to execute additional code before or after a function call."
   ]
  },
  {
   "cell_type": "code",
   "execution_count": null,
   "metadata": {},
   "outputs": [],
   "source": [
    "@add_message\n",
    "def factorial(n):\n",
    "    return 1 if n == 0 else factorial(n-1) * n"
   ]
  },
  {
   "cell_type": "code",
   "execution_count": null,
   "metadata": {},
   "outputs": [],
   "source": [
    "factorial(5)"
   ]
  },
  {
   "cell_type": "markdown",
   "metadata": {},
   "source": [
    "* Let's add a message before and after the function call."
   ]
  },
  {
   "cell_type": "code",
   "execution_count": null,
   "metadata": {},
   "outputs": [],
   "source": [
    "def add_messages(f):\n",
    "    def f_m(x):\n",
    "        print(f'calling {f.__name__} function')\n",
    "        value = f(x)\n",
    "        print(f'returns {value}')\n",
    "        return value\n",
    "    return f_m"
   ]
  },
  {
   "cell_type": "code",
   "execution_count": null,
   "metadata": {},
   "outputs": [],
   "source": [
    "@add_messages\n",
    "def factorial(n):\n",
    "    return 1 if n == 0 else factorial(n-1) * n"
   ]
  },
  {
   "cell_type": "code",
   "execution_count": null,
   "metadata": {},
   "outputs": [],
   "source": [
    "factorial(4)"
   ]
  },
  {
   "cell_type": "markdown",
   "metadata": {},
   "source": [
    "* In principle this should work for functions with more than one argument as well.\n",
    "* However, if we define for example\n",
    "  ```python\n",
    "     @add_messages\n",
    "     def gcd(a, b):\n",
    "         return a if b == 0 else gcd(b, a % b)\n",
    "  ```\n",
    "  then the function call\n",
    "  ```python\n",
    "     gcd(60, 24)\n",
    "  ```\n",
    "  will fail with an error message, tellung us that the function `f_m` inside `add_messages` expects 1 argument, not 2."
   ]
  },
  {
   "cell_type": "markdown",
   "metadata": {},
   "source": [
    "* Perhaps we need a separate decorator for the 2 argument case ..."
   ]
  },
  {
   "cell_type": "code",
   "execution_count": null,
   "metadata": {},
   "outputs": [],
   "source": [
    "def add_messages2(f):\n",
    "    def f_m(x, y):\n",
    "        print(f'calling {f.__name__} function')\n",
    "        value = f(x, y)\n",
    "        print(f'returns {value}')\n",
    "        return value\n",
    "    return f_m"
   ]
  },
  {
   "cell_type": "code",
   "execution_count": null,
   "metadata": {},
   "outputs": [],
   "source": [
    "@add_messages2\n",
    "def gcd(a, b):\n",
    "    return a if b == 0 else gcd(b, a % b)"
   ]
  },
  {
   "cell_type": "code",
   "execution_count": null,
   "metadata": {},
   "outputs": [],
   "source": [
    "gcd(60, 24)"
   ]
  },
  {
   "cell_type": "markdown",
   "metadata": {},
   "source": [
    "* Works, but feels a bit repetitive.\n",
    "* What if the function we'd like to decorate has 3 arguments, or 4 ...?\n",
    "* A better solution uses a multiple arguments parameter `*args`."
   ]
  },
  {
   "cell_type": "code",
   "execution_count": null,
   "metadata": {},
   "outputs": [],
   "source": [
    "def add_messages_x(f):\n",
    "    def f_m(*args):\n",
    "        print(f'calling {f.__name__} function')\n",
    "        value = f(*args)\n",
    "        print(f'returns {value}')\n",
    "        return value\n",
    "    return f_m"
   ]
  },
  {
   "cell_type": "markdown",
   "metadata": {},
   "source": [
    "* Now we can decorate functions regardless of their number of positional arguments."
   ]
  },
  {
   "cell_type": "code",
   "execution_count": null,
   "metadata": {},
   "outputs": [],
   "source": [
    "@add_messages_x\n",
    "def factorial(n):\n",
    "    return 1 if n == 0 else factorial(n-1) * n"
   ]
  },
  {
   "cell_type": "code",
   "execution_count": null,
   "metadata": {},
   "outputs": [],
   "source": [
    "factorial(3)"
   ]
  },
  {
   "cell_type": "code",
   "execution_count": null,
   "metadata": {},
   "outputs": [],
   "source": [
    "#@add_messages_x\n",
    "def gcd(a, b):\n",
    "    return a if b == 0 else gcd(b, a % b)"
   ]
  },
  {
   "cell_type": "code",
   "execution_count": null,
   "metadata": {},
   "outputs": [],
   "source": [
    "gcd(60, 24)"
   ]
  },
  {
   "cell_type": "markdown",
   "metadata": {},
   "source": [
    "* But what about keyword arguments?"
   ]
  },
  {
   "cell_type": "markdown",
   "metadata": {},
   "source": [
    "##  Positional vs. Keyword arguments"
   ]
  },
  {
   "cell_type": "markdown",
   "metadata": {},
   "source": [
    "* In a Python **function definition**, a parameter can be given a **default value**.\n",
    "* A function parameter with a default value is an **optional parameter**, and one without is a **required parameter**.\n",
    "* This means that when the function is called, for each required parameter there **must be** an argument value in the function call, for each optional parameter there **can be** an argument."
   ]
  },
  {
   "cell_type": "code",
   "execution_count": null,
   "metadata": {},
   "outputs": [],
   "source": [
    "def f(a, b, c=0, d=1): print(a, b, c, d)  # silly example"
   ]
  },
  {
   "cell_type": "code",
   "execution_count": null,
   "metadata": {},
   "outputs": [],
   "source": [
    "f(1,2,3)"
   ]
  },
  {
   "cell_type": "markdown",
   "metadata": {},
   "source": [
    "<div class=\"alert alert-danger\">\n",
    "    \n",
    "* **Rule:** required parameters come before optional parameters.\n",
    "</div>"
   ]
  },
  {
   "cell_type": "markdown",
   "metadata": {},
   "source": [
    "* In a Python **function call**, there are **positional arguments** and **keyword arguments**.\n",
    "* Positional arguments are matched up with parameters according to (guess what) their **position**.\n",
    "* Keyword arguments are matched up by **name**."
   ]
  },
  {
   "cell_type": "code",
   "execution_count": null,
   "metadata": {},
   "outputs": [],
   "source": [
    "f(1, d=2, b=3, c=4)"
   ]
  },
  {
   "cell_type": "markdown",
   "metadata": {},
   "source": [
    "* Despite their looks, positional arguments need not correspond to required parameters.\n",
    "* In principle, all parameters can be assigned positional arguments.\n",
    "* In principle, all parameters can be assigned keyword arguments.\n",
    "* However, if one of the parameters is `*args` there are some restrictions, see below."
   ]
  },
  {
   "cell_type": "code",
   "execution_count": null,
   "metadata": {},
   "outputs": [],
   "source": [
    "f(5, 6, 7, 8)"
   ]
  },
  {
   "cell_type": "code",
   "execution_count": null,
   "metadata": {},
   "outputs": [],
   "source": [
    "f(b='b', a='a', d='d', c='c')"
   ]
  },
  {
   "cell_type": "markdown",
   "metadata": {},
   "source": [
    "<div class=\"alert alert-danger\">\n",
    "    \n",
    "* **Rule:** positional arguments come before keyword arguments.\n",
    "</div>"
   ]
  },
  {
   "cell_type": "markdown",
   "metadata": {},
   "source": [
    "* If `*args` is one of the parameters in the function definition, then a function call can have **more positional arguments** than there are declared parameters.  Any additional positional arguments will then be collected in tuple `arg`.\n",
    "* If  `**kwargs` is one of the parameters in the function definition, then a function can have **more keyword arguments** than there are declared parameters.  Any additional keyword arguments will then be collected in a dictionary `kwargs`.\n",
    "* Here, `args` and `kwargs` are just arbitrary names, what matters are the stars `*` and `**`."
   ]
  },
  {
   "cell_type": "markdown",
   "metadata": {},
   "source": [
    "<div class=\"alert alert-danger\">\n",
    "    \n",
    "* **Rule:** `**kwargs` must be the last of of the parameters.\n",
    "</div>"
   ]
  },
  {
   "cell_type": "code",
   "execution_count": null,
   "metadata": {},
   "outputs": [],
   "source": [
    "def f(a, b, *args, c, d, **kwargs):\n",
    "    print(a, b, args, c, d, kwargs)"
   ]
  },
  {
   "cell_type": "code",
   "execution_count": null,
   "metadata": {},
   "outputs": [],
   "source": [
    "f(1, 2, 3, c=4, d=5, e=6)"
   ]
  },
  {
   "cell_type": "markdown",
   "metadata": {},
   "source": [
    "<div class=\"alert alert-danger\">\n",
    "    \n",
    "* **Rule:** All the parameters before `*args` can only get positional arguments, and all the parameters after `*args` can only get keyword arguments.\n",
    "</div>"
   ]
  },
  {
   "cell_type": "markdown",
   "metadata": {},
   "source": [
    "* For `*args` to work, all the parameters before `*args` can only get positional arguments, and all the parameters after `*args` can only get keyword arguments.\n",
    "* If `*args` is not an argument, Python allows us to explicitly introduce such restrictions with the virtual parameters `/` and `*`.\n",
    "* A parameter `/` marks the end of the parameters that are positional only.\n",
    "* A parameter `*` marks the start of the parameters that are keyword only."
   ]
  },
  {
   "cell_type": "code",
   "execution_count": null,
   "metadata": {},
   "outputs": [],
   "source": [
    "def f(a, b, /, c, d, *, e, f):\n",
    "    print(a, b, c, d, e, f)"
   ]
  },
  {
   "cell_type": "markdown",
   "metadata": {},
   "source": [
    "* Here `a` and `b` are **positional only** parameters, `c` and `d` are **standard parameters** (meaning they can get positional or keyword arguments), `e` and `f` are **keyword only** parameters.\n",
    "* A valid call to this function looks like:"
   ]
  },
  {
   "cell_type": "code",
   "execution_count": null,
   "metadata": {},
   "outputs": [],
   "source": [
    "f(1, 2, 3, d=4, e=5, f=6)"
   ]
  },
  {
   "cell_type": "markdown",
   "metadata": {},
   "source": [
    "* In any case, the arguments of any function call to a function `f` are **positional arguments followed by keyword arguments**, always matching the pattern `f(*args, **kwargs)`.\n",
    "* So if we define a function with signature `ff(*args, **kwargs)`, we can pass on its arguments, whatever they are, to a function call `f(*args, **kwargs)` in its body.\n",
    "* It seems appropriate to use this technique in a decorator."
   ]
  },
  {
   "cell_type": "code",
   "execution_count": null,
   "metadata": {},
   "outputs": [],
   "source": [
    "def add_messages_y(f):\n",
    "    def f_m(*args, **kwargs):\n",
    "        print(f'calling {f.__name__} function with args {args} and kwargs {kwargs}')\n",
    "        value = f(*args, **kwargs)\n",
    "        print(f'returns {value}')\n",
    "        return value\n",
    "    return f_m"
   ]
  },
  {
   "cell_type": "markdown",
   "metadata": {},
   "source": [
    "* For example, a general adder ..."
   ]
  },
  {
   "cell_type": "code",
   "execution_count": null,
   "metadata": {},
   "outputs": [],
   "source": [
    "@add_messages_y\n",
    "def my_sum(*args, zero=0):\n",
    "    result = zero\n",
    "    for a in args:\n",
    "        result += a\n",
    "    return result"
   ]
  },
  {
   "cell_type": "code",
   "execution_count": null,
   "metadata": {},
   "outputs": [],
   "source": [
    "my_sum(1, 2, 3, 4)"
   ]
  },
  {
   "cell_type": "code",
   "execution_count": null,
   "metadata": {},
   "outputs": [],
   "source": [
    "my_sum('a', 'b', 'c', zero=\"\")"
   ]
  },
  {
   "cell_type": "code",
   "execution_count": null,
   "metadata": {},
   "outputs": [],
   "source": [
    "my_sum([1], [2], [3,4], zero=[])"
   ]
  },
  {
   "cell_type": "markdown",
   "metadata": {},
   "source": [
    "##  Class Based Decorators."
   ]
  },
  {
   "cell_type": "markdown",
   "metadata": {},
   "source": [
    "* A decorator need not be a function, it only has to be **callable**.\n",
    "* An object `o` of a class `C` is callable, if the class `C` implements the special method `__call__`.\n",
    "* Then a function call like `o(arg)` will refer back to `o.__call__(arg)`.\n",
    "* We can thus write a **decorator class** whose objects become the decorated functions.\n",
    "* This allows a proper separation of creating the decorated function, and its application in a function call.\n",
    "  "
   ]
  },
  {
   "cell_type": "markdown",
   "metadata": {},
   "source": [
    "* For example the logging decorator."
   ]
  },
  {
   "cell_type": "code",
   "execution_count": null,
   "metadata": {},
   "outputs": [],
   "source": [
    "class logger:\n",
    "    def __init__(self, func):\n",
    "        self.func = func\n",
    "    def __call__(self, *args, **kwargs):\n",
    "        print(f'calling {self.func.__name__} function with args {args} and kwargs {kwargs}')\n",
    "        value = self.func(*args, **kwargs)\n",
    "        print(f'returns {value}')\n",
    "        return value\n"
   ]
  },
  {
   "cell_type": "code",
   "execution_count": null,
   "metadata": {},
   "outputs": [],
   "source": [
    "@logger\n",
    "def gcd(a, b):\n",
    "    return a if b == 0 else gcd(b, a % b)"
   ]
  },
  {
   "cell_type": "code",
   "execution_count": null,
   "metadata": {},
   "outputs": [],
   "source": [
    "gcd(60, 24)"
   ]
  },
  {
   "cell_type": "markdown",
   "metadata": {},
   "source": [
    "* Recall the [Fibonacci sequence](https://en.wikipedia.org/wiki/Fibonacci_sequence) $F_n$ defined recursively as\n",
    "  $$\n",
    "  F_n = \\begin{cases}\n",
    "  n, & \\text{if } 0 \\leq n < 2,\\\\\n",
    "  F_{n-2} + F_{n-1}, & \\text{else.}\n",
    "  \\end{cases}\n",
    "  $$\n",
    "*  When implemented in this form as a function `fibonacci` it tends to need a lot of recursive calls to `fibonacci`, as can be demonstrtated with the `logger`. "
   ]
  },
  {
   "cell_type": "code",
   "execution_count": null,
   "metadata": {},
   "outputs": [],
   "source": [
    "@logger\n",
    "def fibonacci(n):\n",
    "    return n if n < 2 else fibonacci(n-2) + fibonacci(n-1)"
   ]
  },
  {
   "cell_type": "code",
   "execution_count": null,
   "metadata": {},
   "outputs": [],
   "source": [
    "fibonacci(5)"
   ]
  },
  {
   "cell_type": "markdown",
   "metadata": {},
   "source": [
    "### Memoizing Return Values"
   ]
  },
  {
   "cell_type": "markdown",
   "metadata": {},
   "source": [
    "* Often, when a function gets called frequently with the same arguments, it pays off to store previously computed values and return them again, rather that recompute."
   ]
  },
  {
   "cell_type": "code",
   "execution_count": null,
   "metadata": {},
   "outputs": [],
   "source": [
    "class memoizer:\n",
    "    def __init__(self, func):\n",
    "        self.func = func\n",
    "        self.cache = {}\n",
    "\n",
    "    def __call__(self, *args, **kwargs):\n",
    "        if args in self.cache:\n",
    "            print(f\"re-using cache value {self.cache[args]} for args {args}!\")\n",
    "            return self.cache[args]\n",
    "        else:\n",
    "            print(f'calling {self.func.__name__} function with args {args} and kwargs {kwargs}')\n",
    "            value = self.func(*args, **kwargs)\n",
    "            print(f'returns {value}')\n",
    "            self.cache[args] = value\n",
    "            return value\n",
    "           "
   ]
  },
  {
   "cell_type": "code",
   "execution_count": null,
   "metadata": {},
   "outputs": [],
   "source": [
    "@memoizer\n",
    "def fibonacci(n):\n",
    "    return n if n < 2 else fibonacci(n-2) + fibonacci(n-1)"
   ]
  },
  {
   "cell_type": "code",
   "execution_count": null,
   "metadata": {},
   "outputs": [],
   "source": [
    "fibonacci(5)"
   ]
  },
  {
   "cell_type": "code",
   "execution_count": null,
   "metadata": {},
   "outputs": [],
   "source": [
    "fibonacci(10)"
   ]
  },
  {
   "cell_type": "markdown",
   "metadata": {},
   "source": [
    "## References"
   ]
  },
  {
   "cell_type": "markdown",
   "metadata": {},
   "source": [
    "### Python\n",
    "\n",
    "* [Decorators](https://book.pythontips.com/en/latest/decorators.html)"
   ]
  },
  {
   "cell_type": "markdown",
   "metadata": {},
   "source": [
    "### Numpy\n"
   ]
  },
  {
   "cell_type": "markdown",
   "metadata": {},
   "source": [
    "### Other\n"
   ]
  },
  {
   "cell_type": "markdown",
   "metadata": {},
   "source": [
    "##  Exercises"
   ]
  },
  {
   "cell_type": "markdown",
   "metadata": {},
   "source": [
    "1.  Write a decorator function `counted` that, when applied to a function definition for a function `func`, keeps track of the number of times `func` is called in the attribute `count` of `func`."
   ]
  },
  {
   "cell_type": "code",
   "execution_count": null,
   "metadata": {},
   "outputs": [],
   "source": [
    "def counted(func):\n",
    "    def counted_func(*args, **kwargs):\n",
    "        counted_func.count += 1\n",
    "        return func(*args, **kwargs)\n",
    "    counted_func.count = 0\n",
    "    return counted_func"
   ]
  },
  {
   "cell_type": "markdown",
   "metadata": {},
   "source": [
    "2.  Apply the `@counted` decorator to your favorite implementation `fibonacci` of the Fibonacci numbers.  Compute `fibonacci(20)` and check the value of the attribute `fibonacci.count`."
   ]
  },
  {
   "cell_type": "code",
   "execution_count": null,
   "metadata": {},
   "outputs": [],
   "source": [
    "@counted\n",
    "def fibonacci(n):\n",
    "    return n if n < 2 else fibonacci(n-1) + fibonacci(n-2)"
   ]
  },
  {
   "cell_type": "code",
   "execution_count": null,
   "metadata": {},
   "outputs": [],
   "source": [
    "print(fibonacci(20))\n",
    "fibonacci.count"
   ]
  },
  {
   "cell_type": "markdown",
   "metadata": {},
   "source": [
    "3.  Write a decorator function `timed` that, when applied to a function definition for a function `func` prints a message containing the time spent with any call of `func`."
   ]
  },
  {
   "cell_type": "code",
   "execution_count": null,
   "metadata": {},
   "outputs": [],
   "source": [
    "from time import perf_counter\n",
    "\n",
    "def timed(func):\n",
    "    def timed_func(*args, **kwargs):\n",
    "        start = perf_counter()\n",
    "        value = func(*args, **kwargs)\n",
    "        stop = perf_counter()\n",
    "        runtime = stop -  start\n",
    "        print(f'{func.__name__}: {runtime:4f} sec')\n",
    "        return value\n",
    "    return timed_func\n",
    "    "
   ]
  },
  {
   "cell_type": "markdown",
   "metadata": {},
   "source": [
    "4. Apply the `@timed` decorator to your favorite implementation of `gcd` and then compute the gcd of two large numbers."
   ]
  },
  {
   "cell_type": "code",
   "execution_count": null,
   "metadata": {},
   "outputs": [],
   "source": [
    "@timed\n",
    "def gcd(a, b):\n",
    "    return a if b == 0 else gcd(b, a % b)"
   ]
  },
  {
   "cell_type": "code",
   "execution_count": null,
   "metadata": {},
   "outputs": [],
   "source": [
    "gcd(60354678907625, 24345678909875)"
   ]
  },
  {
   "cell_type": "markdown",
   "metadata": {},
   "source": [
    "5.  Write a decorator **class** `timer` that, when applied to a function definition for a function `func` prints a message containing the time spent with any call of `func`.  Apply this decorator to your favorite implemntation of `gcd`, then compute the gcd of two large numbers."
   ]
  },
  {
   "cell_type": "code",
   "execution_count": null,
   "metadata": {},
   "outputs": [],
   "source": [
    "class timer:\n",
    "    def __init__(self, func):\n",
    "        self.func = func\n",
    "    def __call__(self, *args, **kwargs):\n",
    "        clock = -perf_counter()\n",
    "        value = self.func(*args, **kwargs)\n",
    "        clock += perf_counter()\n",
    "        print(f'{self.func.__name__}: {clock:4f} sec')\n",
    "        return value"
   ]
  },
  {
   "cell_type": "code",
   "execution_count": null,
   "metadata": {},
   "outputs": [],
   "source": [
    "@timer\n",
    "def gcd(a, b):\n",
    "    return a if b == 0 else gcd(b, a % b)"
   ]
  },
  {
   "cell_type": "code",
   "execution_count": null,
   "metadata": {},
   "outputs": [],
   "source": [
    "gcd(60354678907625, 24345678909875)"
   ]
  }
 ],
 "metadata": {
  "kernelspec": {
   "display_name": "Python 3 (ipykernel)",
   "language": "python",
   "name": "python3"
  },
  "language_info": {
   "codemirror_mode": {
    "name": "ipython",
    "version": 3
   },
   "file_extension": ".py",
   "mimetype": "text/x-python",
   "name": "python",
   "nbconvert_exporter": "python",
   "pygments_lexer": "ipython3",
   "version": "3.12.3"
  }
 },
 "nbformat": 4,
 "nbformat_minor": 4
}
