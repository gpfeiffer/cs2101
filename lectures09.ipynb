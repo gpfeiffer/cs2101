{
 "cells": [
  {
   "cell_type": "markdown",
   "metadata": {},
   "source": [
    "### CS2101 - Programming for Science and Finance\n",
    "Prof. Götz Pfeiffer<br />\n",
    "School of Mathematical and Statistical Sciences<br />\n",
    "University of Galway\n",
    "\n",
    "***"
   ]
  },
  {
   "cell_type": "markdown",
   "metadata": {},
   "source": [
    "# Week 9: Further Image Processing"
   ]
  },
  {
   "cell_type": "markdown",
   "metadata": {},
   "source": [
    "* Edge Detection\n",
    "* Seam Carving"
   ]
  },
  {
   "cell_type": "code",
   "execution_count": null,
   "metadata": {},
   "outputs": [],
   "source": [
    "import numpy as np\n",
    "import matplotlib.pyplot as plt"
   ]
  },
  {
   "cell_type": "markdown",
   "metadata": {},
   "source": [
    "## Edge Detection"
   ]
  },
  {
   "cell_type": "markdown",
   "metadata": {},
   "source": [
    "* We will use **convolution** with a suitable kernel to detect edges in a digital image.\n",
    "* A so-called **Sobel Filter**  uses two $3 \\times 3$ kernels $G_x$ and $G_y$, which are convolved with the original image.\n",
    "* Their purpose is to identify horizontal and vertical changes:\n",
    "  $$\n",
    "  G_x = \\left[\\begin{array}{ccc}\n",
    "  1 & 0 & -1 \\\\\n",
    "  2 & 0 & -2 \\\\\n",
    "  1 & 0 & -1\n",
    "  \\end{array}\\right],\n",
    "  \\quad\n",
    "  G_y = \\left[\\begin{array}{ccc}\n",
    "  1 & 2 & 1 \\\\\n",
    "  0 & 0 & 0 \\\\\n",
    "  -1 & -2 & -1\n",
    "  \\end{array}\\right],\n",
    "  $$\n",
    "* Note how $G_y = G_x^T$.\n",
    "* Also, how $G_x = (1, 2, 1)^T (1, 0, -1)$ is a product of a **smoothing** filter and a **central difference**.\n",
    "* As such, convolution with $G_x$ yields the $x$-part of the gradient of the image intensity function, and convolution with $G_y$ yields the $y$-part.\n",
    "* The overall gradient of a matrix $A$ can this be found as $\\sqrt{((A*G_x)^2 + (A*G_y)^2}$, where the square is meant component-wise (and not as matrix product)."
   ]
  },
  {
   "cell_type": "markdown",
   "metadata": {},
   "source": [
    "* Let's start with the matrices:"
   ]
  },
  {
   "cell_type": "code",
   "execution_count": null,
   "metadata": {},
   "outputs": [],
   "source": [
    "Gx = np.array([1,0,-1,2,0,-2,1,0,-1]).reshape((3,3))\n",
    "Gy = np.array([1,2,1,0,0,0,-1,-2,-1]).reshape((3,3))\n",
    "print(Gx,'\\n\\n',Gy)"
   ]
  },
  {
   "cell_type": "code",
   "execution_count": null,
   "metadata": {},
   "outputs": [],
   "source": [
    "Gx = np.array([[1,2,1]]).T @ np.array([[1,0,-1]])  # matrix product\n",
    "Gy = Gx.T   # matrix transpose\n",
    "Gx, Gy"
   ]
  },
  {
   "cell_type": "markdown",
   "metadata": {},
   "source": [
    "* Let's recreate last week's two circles image."
   ]
  },
  {
   "cell_type": "code",
   "execution_count": null,
   "metadata": {
    "scrolled": true
   },
   "outputs": [],
   "source": [
    "expic = np.zeros((100,100,3),dtype='uint8')\n",
    "for i in range(expic.shape[0]):\n",
    "    for j in range(expic.shape[1]):\n",
    "        if (i-20)**2 + (j-15)**2 <= 10**2:\n",
    "            # a red circle with centre (20,15) and radius 10\n",
    "            expic[i,j,0]=255\n",
    "        if (i-60)**2 + (j-55)**2 <= 25**2:\n",
    "            # a blue circle with centre (60,55) and radius 25\n",
    "            expic[i,j,2] = 255\n",
    "\n",
    "plt.imshow(expic)"
   ]
  },
  {
   "cell_type": "code",
   "execution_count": null,
   "metadata": {},
   "outputs": [],
   "source": [
    "plt.figure(figsize=(8,8))\n",
    "plt.imshow(expic[40:50,30:40,:])"
   ]
  },
  {
   "cell_type": "markdown",
   "metadata": {},
   "source": [
    "* Apply the two kernels"
   ]
  },
  {
   "cell_type": "code",
   "execution_count": null,
   "metadata": {},
   "outputs": [],
   "source": [
    "xchange = np.zeros((100,100,3), dtype=float)\n",
    "for r in range(1,99):\n",
    "    for c in range(1,99):\n",
    "        for k in range(3):\n",
    "            val = 0\n",
    "            for i in range(3):\n",
    "                for j in range(3):\n",
    "                    val = val + Gx[i, j]*float(expic[r-i+1, c-j+1, k])\n",
    "            xchange[r,c,k] = val"
   ]
  },
  {
   "cell_type": "code",
   "execution_count": null,
   "metadata": {},
   "outputs": [],
   "source": [
    "plt.imshow(np.uint8(255*xchange/xchange.max()))"
   ]
  },
  {
   "cell_type": "code",
   "execution_count": null,
   "metadata": {},
   "outputs": [],
   "source": [
    "ychange = np.zeros((100,100,3), dtype=float)\n",
    "for r in range(1,99):\n",
    "    for c in range(1,99):\n",
    "        for k in range(3):\n",
    "            val = 0\n",
    "            for i in range(3):\n",
    "                for j in range(3):\n",
    "                    val = val + Gy[i, j]*float(expic[r-i+1, c-j+1,k])\n",
    "            ychange[r,c,k] = val"
   ]
  },
  {
   "cell_type": "code",
   "execution_count": null,
   "metadata": {},
   "outputs": [],
   "source": [
    "plt.imshow(np.uint8(255*ychange/ychange.max()))"
   ]
  },
  {
   "cell_type": "markdown",
   "metadata": {},
   "source": [
    "* Compute the gradient and check the 'blue' intensities."
   ]
  },
  {
   "cell_type": "code",
   "execution_count": null,
   "metadata": {},
   "outputs": [],
   "source": [
    "edges = np.sqrt(xchange**2 + ychange**2)"
   ]
  },
  {
   "cell_type": "code",
   "execution_count": null,
   "metadata": {},
   "outputs": [],
   "source": [
    "edges.shape"
   ]
  },
  {
   "cell_type": "code",
   "execution_count": null,
   "metadata": {},
   "outputs": [],
   "source": [
    "print(edges[40:50,30:40,2])"
   ]
  },
  {
   "cell_type": "code",
   "execution_count": null,
   "metadata": {},
   "outputs": [],
   "source": [
    "plt.imshow(np.uint8(255*edges/edges.max()))"
   ]
  },
  {
   "cell_type": "code",
   "execution_count": null,
   "metadata": {},
   "outputs": [],
   "source": [
    "pic = plt.imread(\"images/long_walk.png\")"
   ]
  },
  {
   "cell_type": "code",
   "execution_count": null,
   "metadata": {},
   "outputs": [],
   "source": [
    "plt.imshow(pic)"
   ]
  },
  {
   "cell_type": "code",
   "execution_count": null,
   "metadata": {},
   "outputs": [],
   "source": [
    "pic.shape"
   ]
  },
  {
   "cell_type": "code",
   "execution_count": null,
   "metadata": {},
   "outputs": [],
   "source": [
    "pic.dtype"
   ]
  },
  {
   "cell_type": "code",
   "execution_count": null,
   "metadata": {},
   "outputs": [],
   "source": [
    "from PIL import Image"
   ]
  },
  {
   "cell_type": "code",
   "execution_count": null,
   "metadata": {
    "scrolled": true
   },
   "outputs": [],
   "source": [
    "expic = np.uint8(255*pic)\n",
    "Image.fromarray(expic)"
   ]
  },
  {
   "cell_type": "code",
   "execution_count": null,
   "metadata": {},
   "outputs": [],
   "source": [
    "xchange = np.zeros(expic.shape, dtype=float)\n",
    "for r in range(1,200):\n",
    "    for c in range(1,999):\n",
    "        for k in range(3):\n",
    "            val = 0\n",
    "            for i in range(3):\n",
    "                for j in range(3):\n",
    "                    val = val + Gx[i, j]*float(expic[r-i+1, c-j+1, k])\n",
    "            xchange[r,c,k] = val"
   ]
  },
  {
   "cell_type": "code",
   "execution_count": null,
   "metadata": {},
   "outputs": [],
   "source": [
    "ychange = np.zeros(expic.shape, dtype=float)\n",
    "for r in range(1,200):\n",
    "    for c in range(1,999):\n",
    "        for k in range(3):\n",
    "            val = 0\n",
    "            for i in range(3):\n",
    "                for j in range(3):\n",
    "                    val = val + Gy[i, j]*float(expic[r-i+1, c-j+1, k])\n",
    "            ychange[r,c,k] = val"
   ]
  },
  {
   "cell_type": "code",
   "execution_count": null,
   "metadata": {},
   "outputs": [],
   "source": [
    "edges = np.sqrt(xchange**2 + ychange**2)"
   ]
  },
  {
   "cell_type": "code",
   "execution_count": null,
   "metadata": {},
   "outputs": [],
   "source": [
    "Image.fromarray(np.uint8(255*edges/edges.max()))"
   ]
  },
  {
   "cell_type": "markdown",
   "metadata": {},
   "source": [
    "# Seam Carving"
   ]
  },
  {
   "cell_type": "markdown",
   "metadata": {},
   "source": [
    "* Suppose a digital image is too wide.\n",
    "* Clipping to fit will loose content on the side\n",
    "* Scaling to size will distort content.\n",
    "* Seam carving is a more subtle way of ... getting rid of one pixel per row."
   ]
  },
  {
   "cell_type": "code",
   "execution_count": null,
   "metadata": {},
   "outputs": [],
   "source": [
    "Image.fromarray(expic)"
   ]
  },
  {
   "cell_type": "code",
   "execution_count": null,
   "metadata": {},
   "outputs": [],
   "source": [
    "expic.shape"
   ]
  },
  {
   "cell_type": "markdown",
   "metadata": {},
   "source": [
    "* Here is the **clipped** version:"
   ]
  },
  {
   "cell_type": "code",
   "execution_count": null,
   "metadata": {},
   "outputs": [],
   "source": [
    "Image.fromarray(expic[:,250:750])"
   ]
  },
  {
   "cell_type": "markdown",
   "metadata": {},
   "source": [
    "* And here is the **scaled** version:"
   ]
  },
  {
   "cell_type": "code",
   "execution_count": null,
   "metadata": {},
   "outputs": [],
   "source": [
    "Image.fromarray(expic[:,::2])"
   ]
  },
  {
   "cell_type": "markdown",
   "metadata": {},
   "source": [
    "### Seams, Energy"
   ]
  },
  {
   "cell_type": "markdown",
   "metadata": {},
   "source": [
    "* A **seam** is a connected string of pixels, one per row, starting with some pixel in the top row, such that the pixel in the next row is either immediately below the current pixel ($0$) or one to the left ($-1$) or one to the right ($+1$).\n",
    "* The **energy** of a pixel is its gradient in the sense of edge detection.  Then **energy** of a seam is the sum of the energies of its pixels.\n",
    "* **Aim:**  Find a seam of **minimal energy** and remove it form the picture ..."
   ]
  },
  {
   "cell_type": "markdown",
   "metadata": {},
   "source": [
    "* Problem: There are just too many seams.  About $1000 \\cdot 3^{200}$ in a $201 \\times 1000$-array ..."
   ]
  },
  {
   "cell_type": "code",
   "execution_count": null,
   "metadata": {},
   "outputs": [],
   "source": [
    "1000 * 3**200"
   ]
  },
  {
   "cell_type": "markdown",
   "metadata": {},
   "source": [
    "* Here is a **recursive approach**:  Suppose `arr` is the matrix of energy values.\n",
    "* Looking at the problem from row $r$ and column $c$, the minimal energy path from here consists of the $(r,c)$-pixel followed by the minimal energy path from either $(r+1, c-1)$ or $(r+1, c)$ or $(r+1,c+1)$, whichever has the smallest energy.\n",
    "* Its energy is the energy of pixel $(r,c)$ plus the energy of that minimal energy path from one below."
   ]
  },
  {
   "cell_type": "code",
   "execution_count": null,
   "metadata": {},
   "outputs": [],
   "source": [
    "def minimise_from_pos(arr, r, c):\n",
    "    if r == arr.shape[0] - 1:   # bottom row\n",
    "        return arr[r,c], [c]\n",
    "    minval, minpath = minimise_from_pos(arr, r+1, c)\n",
    "    if c > 0:\n",
    "        val, path = minimise_from_pos(arr, r+1, c-1)\n",
    "        if val < minval:\n",
    "            minval, minpath = val, path\n",
    "    if c < arr.shape[1] - 1:\n",
    "        val, path = minimise_from_pos(arr, r+1, c+1)\n",
    "        if val < minval:\n",
    "            minval, minpath = val, path\n",
    "    return minval+arr[r,c], [c]+minpath\n",
    "        "
   ]
  },
  {
   "cell_type": "markdown",
   "metadata": {},
   "source": [
    "* Let's set up a random toy matrix `randarr` of integral energy values in `range(256)`."
   ]
  },
  {
   "cell_type": "code",
   "execution_count": null,
   "metadata": {},
   "outputs": [],
   "source": [
    "rng = np.random.default_rng()"
   ]
  },
  {
   "cell_type": "code",
   "execution_count": null,
   "metadata": {},
   "outputs": [],
   "source": [
    "randarr = rng.integers(0, 256, size=(10,20))\n",
    "print(randarr)\n",
    "plt.imshow(randarr)"
   ]
  },
  {
   "cell_type": "markdown",
   "metadata": {},
   "source": [
    "* Apply the function to the top left pixel."
   ]
  },
  {
   "cell_type": "code",
   "execution_count": null,
   "metadata": {},
   "outputs": [],
   "source": [
    "minimise_from_pos(randarr, 0, 0)"
   ]
  },
  {
   "cell_type": "markdown",
   "metadata": {},
   "source": [
    "* Apply the function to **all** pixels in the top row."
   ]
  },
  {
   "cell_type": "code",
   "execution_count": null,
   "metadata": {},
   "outputs": [],
   "source": [
    "mins = [minimise_from_pos(randarr, 0, c) for c in range(randarr.shape[1])] \n",
    "mins"
   ]
  },
  {
   "cell_type": "markdown",
   "metadata": {},
   "source": [
    "* Find the minimal energy value among these minimal energy seams."
   ]
  },
  {
   "cell_type": "code",
   "execution_count": null,
   "metadata": {},
   "outputs": [],
   "source": [
    "min(x[0] for x in mins)"
   ]
  },
  {
   "cell_type": "markdown",
   "metadata": {},
   "source": [
    "* Find the **position** of the seam of minimal energy in that list."
   ]
  },
  {
   "cell_type": "code",
   "execution_count": null,
   "metadata": {},
   "outputs": [],
   "source": [
    "pos = np.argmin([x[0] for x in mins])\n",
    "pos"
   ]
  },
  {
   "cell_type": "code",
   "execution_count": null,
   "metadata": {},
   "outputs": [],
   "source": [
    "mins[pos]"
   ]
  },
  {
   "cell_type": "markdown",
   "metadata": {},
   "source": [
    "* We could now procede and remove the corresponding pixels, one per row, from the image.\n",
    "* However, this approach is very inefficient, as a lot of data is recomputed over and over again.  It probably won't work on arrays with more rows.\n",
    "* In a more systematic approach, we try compute all that is needed only once, and store intermediate results.\n",
    "* Here, it helps to construct two separate arrays, one that determines the paths, and one for the minimum energies.\n",
    "* We take advantage of the fact that the bottom values are known."
   ]
  },
  {
   "cell_type": "markdown",
   "metadata": {},
   "source": [
    "* Starting from the bottom of the matrix, we will construct two arrays, `mins` and `minpaths` to compute the minimum weights/paths in each position."
   ]
  },
  {
   "cell_type": "code",
   "execution_count": null,
   "metadata": {},
   "outputs": [],
   "source": [
    "def minimise_paths(arr):\n",
    "    \n",
    "    rows, cols = arr.shape[0], arr.shape[1]\n",
    "    mins = np.zeros(arr.shape)\n",
    "    minpaths = np.zeros(arr.shape, dtype=int)\n",
    "\n",
    "    # bottom row of mins is the same as bottom row of arr\n",
    "    mins[-1,:] = arr[-1,:]\n",
    "\n",
    "    # loop from bottom to top\n",
    "    for r in reversed(range(rows-1)):\n",
    "        for c in range(cols):\n",
    "            minval = arr[r,c]+mins[r+1,c]\n",
    "            minpaths[r,c] = 0\n",
    "            if c > 0:\n",
    "                val  = arr[r,c] + mins[r+1,c-1]\n",
    "                if val < minval:\n",
    "                    minval = val\n",
    "                    minpaths[r,c] = -1\n",
    "            if c < cols - 1:\n",
    "                val = arr[r,c] + mins[r+1, c+1]\n",
    "                if val < minval:\n",
    "                    minval = val\n",
    "                    minpaths[r,c] = 1\n",
    "            mins[r,c] = minval\n",
    "    return mins, minpaths\n",
    "            "
   ]
  },
  {
   "cell_type": "markdown",
   "metadata": {},
   "source": [
    "* Apply this to the toy matrix `randarr`."
   ]
  },
  {
   "cell_type": "code",
   "execution_count": null,
   "metadata": {},
   "outputs": [],
   "source": [
    "mins, paths = minimise_paths(randarr)\n",
    "print(mins)"
   ]
  },
  {
   "cell_type": "code",
   "execution_count": null,
   "metadata": {},
   "outputs": [],
   "source": [
    "print(paths)"
   ]
  },
  {
   "cell_type": "code",
   "execution_count": null,
   "metadata": {},
   "outputs": [],
   "source": [
    "pos = np.argmin(mins[0])"
   ]
  },
  {
   "cell_type": "code",
   "execution_count": null,
   "metadata": {},
   "outputs": [],
   "source": [
    "paths[:, pos]"
   ]
  },
  {
   "cell_type": "markdown",
   "metadata": {},
   "source": [
    "* Does it also work for the `edges` matrix resulting from the edge detection on the larger image `expic`?"
   ]
  },
  {
   "cell_type": "code",
   "execution_count": null,
   "metadata": {},
   "outputs": [],
   "source": [
    "edges.shape"
   ]
  },
  {
   "cell_type": "markdown",
   "metadata": {},
   "source": [
    "* First, let's turn this color image into a proper 2D array, by adding up the three color intensities for each pixel"
   ]
  },
  {
   "cell_type": "code",
   "execution_count": null,
   "metadata": {},
   "outputs": [],
   "source": [
    "sum_edges = edges.sum(axis=2)\n",
    "sum_edges.shape"
   ]
  },
  {
   "cell_type": "markdown",
   "metadata": {},
   "source": [
    "* Now apply the function to the resulting array `sum_edges`, perhaps excluding the first and last column from the search, as they are all-zero by construction."
   ]
  },
  {
   "cell_type": "code",
   "execution_count": null,
   "metadata": {},
   "outputs": [],
   "source": [
    "mins1, paths1 = minimise_paths(sum_edges[:,1:-1])\n",
    "min(mins1[0]), max(mins1[0])"
   ]
  },
  {
   "cell_type": "code",
   "execution_count": null,
   "metadata": {},
   "outputs": [],
   "source": [
    "pos = np.argmin(mins1[0])\n",
    "pos"
   ]
  },
  {
   "cell_type": "code",
   "execution_count": null,
   "metadata": {},
   "outputs": [],
   "source": [
    "mins1[0, pos]"
   ]
  },
  {
   "cell_type": "code",
   "execution_count": null,
   "metadata": {},
   "outputs": [],
   "source": [
    "paths1[:, pos]"
   ]
  },
  {
   "cell_type": "markdown",
   "metadata": {},
   "source": [
    "* Back to the toy matrix.\n",
    "* The next step is to take the image, and the minimal paths computation, and remove those pixels from the image.\n",
    "* This is achived by the followinfg function."
   ]
  },
  {
   "cell_type": "code",
   "execution_count": null,
   "metadata": {},
   "outputs": [],
   "source": [
    "def remove_path(im, minvals, minpaths):\n",
    "    rows = im.shape[0]\n",
    "    new = np.zeros(im.shape, dtype=np.uint8)[:, 1:]\n",
    "    col = np.argmin(minvals[0])\n",
    "\n",
    "    # loop through the rows\n",
    "    for r in range(im.shape[0]):\n",
    "        new[r, :col] = im[r, :col]\n",
    "        new[r, col:] = im[r, col+1:]\n",
    "        col = col + minpaths[r, col]\n",
    "    return new\n"
   ]
  },
  {
   "cell_type": "markdown",
   "metadata": {},
   "source": [
    "* Apply the function to the array `randarr` and its minimal energy seams."
   ]
  },
  {
   "cell_type": "code",
   "execution_count": null,
   "metadata": {},
   "outputs": [],
   "source": [
    "mins, paths = minimise_paths(randarr)\n",
    "randarr2 = remove_path(randarr, mins, paths)"
   ]
  },
  {
   "cell_type": "markdown",
   "metadata": {},
   "source": [
    "* Let's see the resulting reduced array `randarr2`:"
   ]
  },
  {
   "cell_type": "code",
   "execution_count": null,
   "metadata": {},
   "outputs": [],
   "source": [
    "randarr2.shape"
   ]
  },
  {
   "cell_type": "code",
   "execution_count": null,
   "metadata": {},
   "outputs": [],
   "source": [
    "plt.figure(figsize=(8,8))\n",
    "plt.subplot(1,2,1)\n",
    "plt.imshow(randarr)\n",
    "plt.subplot(1,2,2)\n",
    "plt.imshow(randarr2)"
   ]
  },
  {
   "cell_type": "markdown",
   "metadata": {},
   "source": [
    "* And do it again:"
   ]
  },
  {
   "cell_type": "code",
   "execution_count": null,
   "metadata": {},
   "outputs": [],
   "source": [
    "mins, paths = minimise_paths(randarr2)\n",
    "randarr3 = remove_path(randarr2, mins, paths)"
   ]
  },
  {
   "cell_type": "code",
   "execution_count": null,
   "metadata": {},
   "outputs": [],
   "source": [
    "randarr3.shape"
   ]
  },
  {
   "cell_type": "code",
   "execution_count": null,
   "metadata": {},
   "outputs": [],
   "source": [
    "plt.figure(figsize=(8,8))\n",
    "plt.subplot(1,2,1)\n",
    "plt.imshow(randarr2)\n",
    "plt.subplot(1,2,2)\n",
    "plt.imshow(randarr3)"
   ]
  },
  {
   "cell_type": "markdown",
   "metadata": {},
   "source": [
    "* ... and so on ..."
   ]
  },
  {
   "cell_type": "markdown",
   "metadata": {},
   "source": [
    "## References"
   ]
  },
  {
   "cell_type": "markdown",
   "metadata": {},
   "source": [
    "### Numpy\n",
    "\n",
    "*  [`rng.integers`](https://numpy.org/doc/stable/reference/random/generated/numpy.random.Generator.integers.html)\n",
    "*  [`np.argmin`](https://numpy.org/doc/stable/reference/generated/numpy.argmin.html)"
   ]
  },
  {
   "cell_type": "markdown",
   "metadata": {},
   "source": [
    "### Other\n",
    "\n",
    "* Edge Detection [[wikipedia]](https://en.wikipedia.org/wiki/Edge_detection)\n",
    "* Sobel Filter [[wikipedia]](https://en.wikipedia.org/wiki/Sobel_operator)\n",
    "* Seam Carving [[wikipedia]](https://en.wikipedia.org/wiki/Seam_carving)"
   ]
  },
  {
   "cell_type": "markdown",
   "metadata": {},
   "source": [
    "##  Exercises"
   ]
  },
  {
   "cell_type": "markdown",
   "metadata": {},
   "source": [
    "* Define a function `edginess` which takes a digital image as input, then applies the Sobel filter for edge detection and returns, as an array of the same size as the given image, the resulting gradient values."
   ]
  },
  {
   "cell_type": "code",
   "execution_count": null,
   "metadata": {},
   "outputs": [],
   "source": []
  },
  {
   "cell_type": "markdown",
   "metadata": {},
   "source": [
    "* Apply the `edginess` function to the picture of the long walk."
   ]
  },
  {
   "cell_type": "code",
   "execution_count": null,
   "metadata": {},
   "outputs": [],
   "source": []
  },
  {
   "cell_type": "markdown",
   "metadata": {},
   "source": [
    "* Define a function `seem_carved` which takes a digital images as input, computes its edginess in order apply the seam carving procedure and return a modified version of the given image which is one pixel less wide."
   ]
  },
  {
   "cell_type": "code",
   "execution_count": null,
   "metadata": {},
   "outputs": [],
   "source": []
  },
  {
   "cell_type": "markdown",
   "metadata": {},
   "source": [
    "* Apply the seam carving procedure to the picture of the long walk sufficiently often to reduce its width by a factor $1/2$."
   ]
  },
  {
   "cell_type": "code",
   "execution_count": null,
   "metadata": {},
   "outputs": [],
   "source": []
  }
 ],
 "metadata": {
  "kernelspec": {
   "display_name": "Python 3 (ipykernel)",
   "language": "python",
   "name": "python3"
  },
  "language_info": {
   "codemirror_mode": {
    "name": "ipython",
    "version": 3
   },
   "file_extension": ".py",
   "mimetype": "text/x-python",
   "name": "python",
   "nbconvert_exporter": "python",
   "pygments_lexer": "ipython3",
   "version": "3.12.3"
  }
 },
 "nbformat": 4,
 "nbformat_minor": 4
}
