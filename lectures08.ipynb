{
 "cells": [
  {
   "cell_type": "markdown",
   "metadata": {},
   "source": [
    "### CS2101 - Programming for Science and Finance\n",
    "Prof. Götz Pfeiffer<br />\n",
    "School of Mathematical and Statistical Sciences<br />\n",
    "University of Galway\n",
    "\n",
    "***"
   ]
  },
  {
   "cell_type": "markdown",
   "metadata": {},
   "source": [
    "# Week 8: Vectorized Operations; Convolutions"
   ]
  },
  {
   "cell_type": "markdown",
   "metadata": {},
   "source": [
    "* `numpy` provides efficient **storage** for homogeneous multidimensional data.\n",
    "* `numpy` also provides efficient **vectorized operations** on such data.\n",
    "* **Convolution** is one such operation on arrays which has many applications in image processing."
   ]
  },
  {
   "cell_type": "code",
   "execution_count": null,
   "metadata": {},
   "outputs": [],
   "source": [
    "import numpy as np\n",
    "from PIL import Image"
   ]
  },
  {
   "cell_type": "markdown",
   "metadata": {},
   "source": [
    "## Vectorized Operations.\n",
    "\n",
    "* Numpy arrays can be added, multiplied, ..., provided they have the **same shape**.\n",
    "* Numpy's implementation of these **vectorized operations** is usually faster than native Python loops."
   ]
  },
  {
   "cell_type": "code",
   "execution_count": null,
   "metadata": {},
   "outputs": [],
   "source": [
    "a = np.arange(6).reshape(2, 3)\n",
    "a"
   ]
  },
  {
   "cell_type": "code",
   "execution_count": null,
   "metadata": {},
   "outputs": [],
   "source": [
    "rng = np.random.default_rng()\n",
    "b = rng.random((2, 3))\n",
    "b"
   ]
  },
  {
   "cell_type": "markdown",
   "metadata": {},
   "source": [
    "* The sum `a + b` of arrays `a` and `b` is the array `c` whose entry in row $i$ and column $j$ is the sum of the entries in row $i$ and column $j$ of the arrays `a` and `b`:  $c_{ij} = a_{ij} + b_{ij}$."
   ]
  },
  {
   "cell_type": "code",
   "execution_count": null,
   "metadata": {},
   "outputs": [],
   "source": [
    "a + b"
   ]
  },
  {
   "cell_type": "markdown",
   "metadata": {},
   "source": [
    "* The product `a * b` of arrays `a` and `b` is the array `c` whose entry in row $i$ and column $j$ is the product of the entries in row $i$ and column $j$ of the arrays `a` and `b`:  $c_{ij} = a_{ij} \\times  b_{ij}$."
   ]
  },
  {
   "cell_type": "code",
   "execution_count": null,
   "metadata": {},
   "outputs": [],
   "source": [
    "a * b"
   ]
  },
  {
   "cell_type": "markdown",
   "metadata": {},
   "source": [
    "* Note that this (coordinate-wise) multipliction is different from the matrix multiplication in Linear Algebra.\n",
    "* But this concept is easy to apply to all kinds of operations…"
   ]
  },
  {
   "cell_type": "code",
   "execution_count": null,
   "metadata": {},
   "outputs": [],
   "source": [
    "np.sin(b)"
   ]
  },
  {
   "cell_type": "markdown",
   "metadata": {},
   "source": [
    "## Broadcasting."
   ]
  },
  {
   "cell_type": "markdown",
   "metadata": {},
   "source": [
    "* If the arrays `a` and `b` involved in such an operation do not have the same shape, numpy tries to \"blow up\" the smaller array to match the size of the larger array by a process called **broadcasting**.\n",
    "* In the special case where `a` is a **scalar**, i.e., an array of shape `()`, it is treated like an array of shape `b.shape` with all its entries equal to `a`."
   ]
  },
  {
   "cell_type": "code",
   "execution_count": null,
   "metadata": {},
   "outputs": [],
   "source": [
    "a = np.array(5)\n",
    "print(a)\n",
    "a.shape"
   ]
  },
  {
   "cell_type": "code",
   "execution_count": null,
   "metadata": {},
   "outputs": [],
   "source": [
    "a + b"
   ]
  },
  {
   "cell_type": "code",
   "execution_count": null,
   "metadata": {},
   "outputs": [],
   "source": [
    "a * b"
   ]
  },
  {
   "cell_type": "code",
   "execution_count": null,
   "metadata": {},
   "outputs": [],
   "source": [
    "b[1]"
   ]
  },
  {
   "cell_type": "code",
   "execution_count": null,
   "metadata": {},
   "outputs": [],
   "source": [
    "b[1] = a\n",
    "b"
   ]
  },
  {
   "cell_type": "markdown",
   "metadata": {},
   "source": [
    "*  This **philosophy** of vectorized behavior might be useful for some of this week's homework..."
   ]
  },
  {
   "cell_type": "markdown",
   "metadata": {},
   "source": [
    "## Convolutions."
   ]
  },
  {
   "cell_type": "markdown",
   "metadata": {},
   "source": [
    "* Convolution is an operator that takes two functions and creates a new function.\n",
    "* For a more thorough discussion, see the [Wikipedia page](https://en.wikipedia.org/wiki/Convolution)."
   ]
  },
  {
   "cell_type": "markdown",
   "metadata": {},
   "source": [
    "### The Continuous Case\n",
    "\n",
    "* The perhaps most common situation is the continuous case, when we have two functions $f,g:\\mathbb{R} \\rightarrow \\mathbb{R}$; their convolution $f \\ast g$ is then defined by:\n",
    "$$\n",
    "(f \\ast g)(t) = \\int_{-\\infty}^{\\infty} f(\\tau)g(t-\\tau)\\, d\\tau.\n",
    "$$\n",
    "* For this to be defined there are some requirements on $f$ and $g$ (otherwise the integral might be infinite).\n",
    "* We will not be dealing with the continuous case in this module.\n",
    "* It might not be completely obvious from the definition, but the convolution operator is in fact **commutative**, i.e. we have\n",
    "$$\n",
    "f \\ast g = g \\ast f,\n",
    "$$\n",
    "this can be seen by changing variables in the integration."
   ]
  },
  {
   "cell_type": "markdown",
   "metadata": {},
   "source": [
    "## The Discrete Case.\n",
    "\n",
    "* The integral can be thought of as a generalisation of a sum, so it should not come as a surprise that we can define a discrete version of the convolution.\n",
    "* We will start by looking at the 1-dimensional case."
   ]
  },
  {
   "cell_type": "markdown",
   "metadata": {},
   "source": [
    "### 1D Convolution.\n",
    "\n",
    "* Now we let $f$ and $g$ be functions $f,g : \\mathbb{Z} \\rightarrow \\mathbb{R}$. Their convolution $f\\star g : \\mathbb{Z} \\rightarrow \\mathbb{R}$ is then defined by\n",
    "$$\n",
    "(f \\ast g)(n) = \\sum_{i = -\\infty}^{+\\infty} f(i)g(n-i).\n",
    "$$\n",
    "* This convolution is also commutative.\n",
    "* There is functionality in NumPy for computing these 1D convolutions via the function `np.convolve(a, b)` where `a` and `b` are both 1D arrays."
   ]
  },
  {
   "cell_type": "markdown",
   "metadata": {},
   "source": [
    "#### Example: a noisy sin function\n",
    "\n",
    "* As an example we'll look at the $\\sin$ function, but with an added noise to it.\n",
    "* The noise will be coming from the `gauss` function from the `random` module, which generates normally distributed numbers with a given mean and standard deviation."
   ]
  },
  {
   "cell_type": "code",
   "execution_count": null,
   "metadata": {},
   "outputs": [],
   "source": [
    "import math\n",
    "import matplotlib.pyplot as plt"
   ]
  },
  {
   "cell_type": "markdown",
   "metadata": {},
   "source": [
    "* We can use list comprehension to create lists of function values."
   ]
  },
  {
   "cell_type": "code",
   "execution_count": null,
   "metadata": {},
   "outputs": [],
   "source": [
    "xxx = range(50)\n",
    "yyy = np.array([math.sin(2*math.pi*i/50) for i in xxx])\n",
    "plt.plot(xxx, yyy)"
   ]
  },
  {
   "cell_type": "markdown",
   "metadata": {},
   "source": [
    "* Or we use numpy's vectorized operations:"
   ]
  },
  {
   "cell_type": "code",
   "execution_count": null,
   "metadata": {},
   "outputs": [],
   "source": [
    "xxx = np.arange(50)\n",
    "yyy = np.sin(2*math.pi*xxx/50)\n",
    "plt.plot(xxx, yyy)"
   ]
  },
  {
   "cell_type": "markdown",
   "metadata": {},
   "source": [
    "* Generate some noise from a normal (Gaussian) distribution with  standard deviation $0.4$."
   ]
  },
  {
   "cell_type": "code",
   "execution_count": null,
   "metadata": {},
   "outputs": [],
   "source": [
    "rng = np.random.default_rng()"
   ]
  },
  {
   "cell_type": "code",
   "execution_count": null,
   "metadata": {},
   "outputs": [],
   "source": [
    "noise = rng.normal(scale=0.4, size=xxx.shape)\n",
    "plt.scatter(xxx, noise)"
   ]
  },
  {
   "cell_type": "markdown",
   "metadata": {},
   "source": [
    "* Quick check: is this bell shaped?"
   ]
  },
  {
   "cell_type": "code",
   "execution_count": null,
   "metadata": {},
   "outputs": [],
   "source": [
    "plt.hist(noise, bins=7)"
   ]
  },
  {
   "cell_type": "code",
   "execution_count": null,
   "metadata": {},
   "outputs": [],
   "source": [
    "data = yyy + noise\n",
    "plt.plot(xxx, data)"
   ]
  },
  {
   "cell_type": "markdown",
   "metadata": {},
   "source": [
    "* We see that the graph of resulting curve is rather jagged.\n",
    "* We can now take a rolling average of the original value and its ten closest neighbours to attempt to smoothen the curve."
   ]
  },
  {
   "cell_type": "code",
   "execution_count": null,
   "metadata": {},
   "outputs": [],
   "source": [
    "w = 11\n",
    "kernel = np.ones(w)/w\n",
    "kernel"
   ]
  },
  {
   "cell_type": "code",
   "execution_count": null,
   "metadata": {},
   "outputs": [],
   "source": [
    "(data[:w] * kernel).sum()"
   ]
  },
  {
   "cell_type": "markdown",
   "metadata": {},
   "source": [
    "* Pad data with 5 zeros on either side."
   ]
  },
  {
   "cell_type": "code",
   "execution_count": null,
   "metadata": {},
   "outputs": [],
   "source": [
    "data2 = np.zeros(60)\n",
    "data2[5:-5] = data"
   ]
  },
  {
   "cell_type": "code",
   "execution_count": null,
   "metadata": {},
   "outputs": [],
   "source": [
    "data2"
   ]
  },
  {
   "cell_type": "code",
   "execution_count": null,
   "metadata": {},
   "outputs": [],
   "source": [
    "conv = [(data2[i:w+i] * kernel).sum() for i in range(50)]\n",
    "plt.plot(xxx, conv)"
   ]
  },
  {
   "cell_type": "markdown",
   "metadata": {},
   "source": [
    "* Luckily, numpy's `convolve` command does all of this automatically.\n",
    "* Here, the parameter `'same'` that the convolved result should have the same length as the original `data`."
   ]
  },
  {
   "cell_type": "code",
   "execution_count": null,
   "metadata": {},
   "outputs": [],
   "source": [
    "plt.plot(xxx, np.convolve(data, kernel, 'same'))"
   ]
  },
  {
   "cell_type": "markdown",
   "metadata": {},
   "source": [
    "* Instead of a straight average, we can let closer points be weighted higher than points further away.\n",
    "* Let `v` be an array of values that decay exponentially with the distance from the middle element at position 5:\n",
    "  $$\n",
    "  v_i = e^{-\\frac{(i-5)^2}{16}}\n",
    "  $$"
   ]
  },
  {
   "cell_type": "code",
   "execution_count": null,
   "metadata": {},
   "outputs": [],
   "source": [
    "v = np.array([math.exp(-((i-5)**2/16)) for i in range(11)])\n",
    "v"
   ]
  },
  {
   "cell_type": "code",
   "execution_count": null,
   "metadata": {},
   "outputs": [],
   "source": [
    "v = np.exp(-(np.arange(11)-5)**2/16)\n",
    "v"
   ]
  },
  {
   "cell_type": "markdown",
   "metadata": {},
   "source": [
    "* The sum of the entries in the kernel should be 1."
   ]
  },
  {
   "cell_type": "code",
   "execution_count": null,
   "metadata": {},
   "outputs": [],
   "source": [
    "kernel1 = v/v.sum()\n",
    "kernel1"
   ]
  },
  {
   "cell_type": "markdown",
   "metadata": {},
   "source": [
    "* We now get an even smoother curve."
   ]
  },
  {
   "cell_type": "code",
   "execution_count": null,
   "metadata": {},
   "outputs": [],
   "source": [
    "plt.plot(range(50), np.convolve(data, kernel1, 'same'))"
   ]
  },
  {
   "cell_type": "markdown",
   "metadata": {},
   "source": [
    "* Let's plot all the curves together.\n",
    "* The blue is the original, the orange is the plain average and the green is with the Gaussian kernel."
   ]
  },
  {
   "cell_type": "code",
   "execution_count": null,
   "metadata": {},
   "outputs": [],
   "source": [
    "plt.plot(yyy)     # blue\n",
    "plt.plot(data)    # orange\n",
    "plt.plot(np.convolve(data, kernel, 'same'))  # green\n",
    "plt.plot(np.convolve(data, kernel1, 'same')) # red "
   ]
  },
  {
   "cell_type": "markdown",
   "metadata": {},
   "source": [
    "## 2D convolution\n",
    "\n",
    "* Next up we'll look at convolutions of functions of two variables.\n",
    "* The use case for us is pixels in images, so we will only deal with the discrete case.\n",
    "* Here we let $f$ and $g$ be functions $f,g : \\mathbb{Z}^2 \\rightarrow \\mathbb{R}$, and define their convolution to be\n",
    "  $$\n",
    "  (f\\ast g)(m,n) = \\sum_{i=-\\infty}^{+\\infty} \\sum_{j=-\\infty}^{+\\infty} f(i,j)g(m-i,n-j)\n",
    "  $$\n",
    "* Unfortunately, there is no built-in functionality for 2D convolutions in NumPy, so we'll have to implement it ourselves."
   ]
  },
  {
   "cell_type": "markdown",
   "metadata": {},
   "source": [
    "#### An example image\n",
    "\n",
    "* Let's generate an image of size 100 by 100 pixels, with two circles drawn on it.\n",
    "* The low resolution is intentional, because it allows us to better see the blurring effect of applying a convolution."
   ]
  },
  {
   "cell_type": "code",
   "execution_count": null,
   "metadata": {},
   "outputs": [],
   "source": [
    "expic = np.zeros((100,100,3),dtype='uint8')\n",
    "for i in range(expic.shape[0]):\n",
    "    for j in range(expic.shape[1]):\n",
    "        if (i-20)**2 + (j-15)**2 <= 10**2:\n",
    "            # a red circle with centre (20,15) and radius 10\n",
    "            expic[i,j,0]=255\n",
    "        if (i-60)**2 + (j-55)**2 <= 25**2:\n",
    "            # a blue circle with centre (60,55) and radius 25\n",
    "            expic[i,j,2] = 255\n",
    "\n",
    "Image.fromarray(expic)"
   ]
  },
  {
   "cell_type": "markdown",
   "metadata": {},
   "source": [
    "* Using matplotlib, we can zoom in a bit."
   ]
  },
  {
   "cell_type": "code",
   "execution_count": null,
   "metadata": {},
   "outputs": [],
   "source": [
    "plt.imshow(expic[20:50,20:50])"
   ]
  },
  {
   "cell_type": "markdown",
   "metadata": {},
   "source": [
    "* We can see that the image is rather blocky, so we might want to smoothen the circles by blurring.\n",
    "* To this end, we will convolve the image with a $3 \\times 3$ matrix in such a way that the intensity of a pixel will be the average of the  original intensity in the pixel and that of its neighbouring pixels."
   ]
  },
  {
   "cell_type": "code",
   "execution_count": null,
   "metadata": {
    "scrolled": true
   },
   "outputs": [],
   "source": [
    "kernel = np.ones((3,3))/9\n",
    "kernel"
   ]
  },
  {
   "cell_type": "code",
   "execution_count": null,
   "metadata": {
    "scrolled": true
   },
   "outputs": [],
   "source": [
    "avblur = np.zeros((100,100,3), dtype='uint8')\n",
    "for r in range(1,99):\n",
    "    for c in range(1,99):\n",
    "        val = np.array([0,0,0])\n",
    "        for i in range(3):\n",
    "            for j in range(3):\n",
    "                val = val + kernel[i, j]*expic[r-i+1, c-j+1]\n",
    "        avblur[r,c,:] = np.uint8(val)\n",
    "\n"
   ]
  },
  {
   "cell_type": "code",
   "execution_count": null,
   "metadata": {
    "scrolled": true
   },
   "outputs": [],
   "source": [
    "plt.imshow(avblur)"
   ]
  },
  {
   "cell_type": "markdown",
   "metadata": {},
   "source": [
    "* Let's zoom in here as well in the same way as on our original."
   ]
  },
  {
   "cell_type": "code",
   "execution_count": null,
   "metadata": {},
   "outputs": [],
   "source": [
    "plt.figure(figsize=(8,8))\n",
    "plt.imshow(avblur[20:50,20:50])"
   ]
  },
  {
   "cell_type": "markdown",
   "metadata": {},
   "source": [
    "#### Blurring with a Gaussian kernel\n",
    "\n",
    "* We saw earlier that we might get even better results by having a Gaussian kernel for the convolution, so let's create one now."
   ]
  },
  {
   "cell_type": "markdown",
   "metadata": {},
   "source": [
    "* The entries in the matrix should decay exponentially with the distance from the middle entry at position (1,1):\n",
    "  $$\n",
    "  v_{ij} = e^{-\\frac{(i-1)^2 + (j-1)^2}{2}}\n",
    "  $$\n",
    "* As before, the sum of the weights should be 1."
   ]
  },
  {
   "cell_type": "code",
   "execution_count": null,
   "metadata": {},
   "outputs": [],
   "source": [
    "v = np.array([[math.exp(-((i-1)**2+(j-1)**2)/2) for j in range(3)] for i in range(3)])\n",
    "kernel1 = v/v.sum()\n",
    "kernel1"
   ]
  },
  {
   "cell_type": "markdown",
   "metadata": {},
   "source": [
    "* We can now compute the blurring."
   ]
  },
  {
   "cell_type": "code",
   "execution_count": null,
   "metadata": {},
   "outputs": [],
   "source": [
    "gaussblur = np.zeros((100,100,3), dtype='uint8')\n",
    "for r in range(1,99):\n",
    "    for c in range(1,99):\n",
    "        val = np.array([0,0,0])\n",
    "        for i in range(3):\n",
    "            for j in range(3):\n",
    "                val = val + kernel1[i, j]*expic[r-i+1, c-j+1]\n",
    "        gaussblur[r,c,:] = np.uint8(val)\n",
    "\n",
    "       "
   ]
  },
  {
   "cell_type": "code",
   "execution_count": null,
   "metadata": {},
   "outputs": [],
   "source": [
    "plt.imshow(gaussblur)"
   ]
  },
  {
   "cell_type": "markdown",
   "metadata": {},
   "source": [
    "* And zoom in again.\n",
    "* The difference is not huge, but it's clearly there."
   ]
  },
  {
   "cell_type": "code",
   "execution_count": null,
   "metadata": {},
   "outputs": [],
   "source": [
    "plt.figure(figsize=(8,8))\n",
    "plt.imshow(gaussblur[20:50,20:50])"
   ]
  },
  {
   "cell_type": "code",
   "execution_count": null,
   "metadata": {},
   "outputs": [],
   "source": [
    "plt.figure(figsize=(8,8))\n",
    "plt.subplot(1, 2, 1)\n",
    "plt.imshow(avblur[20:50,20:50])\n",
    "plt.subplot(1,2,2)\n",
    "plt.imshow(gaussblur[20:50,20:50])"
   ]
  },
  {
   "cell_type": "markdown",
   "metadata": {},
   "source": [
    "## References"
   ]
  },
  {
   "cell_type": "markdown",
   "metadata": {},
   "source": [
    "* Convolution [[wikipedia]](https://en.wikipedia.org/wiki/Convolution)"
   ]
  },
  {
   "cell_type": "markdown",
   "metadata": {},
   "source": [
    "##  Exercises"
   ]
  },
  {
   "cell_type": "markdown",
   "metadata": {},
   "source": [
    "* Using numpy's vectorized operations, find a more efficient way to convolute the image array `expic` with whatever kernel."
   ]
  },
  {
   "cell_type": "code",
   "execution_count": null,
   "metadata": {},
   "outputs": [],
   "source": []
  }
 ],
 "metadata": {
  "kernelspec": {
   "display_name": "Python 3 (ipykernel)",
   "language": "python",
   "name": "python3"
  },
  "language_info": {
   "codemirror_mode": {
    "name": "ipython",
    "version": 3
   },
   "file_extension": ".py",
   "mimetype": "text/x-python",
   "name": "python",
   "nbconvert_exporter": "python",
   "pygments_lexer": "ipython3",
   "version": "3.12.3"
  }
 },
 "nbformat": 4,
 "nbformat_minor": 4
}
