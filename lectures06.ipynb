{
 "cells": [
  {
   "cell_type": "markdown",
   "metadata": {},
   "source": [
    "## CS2101 - Programming for Science and Finance\n",
    "Prof. Götz Pfeiffer<br />\n",
    "School of Mathematics, Statistics and Applied Mathematics<br />\n",
    "University of Galway\n",
    "\n",
    "***"
   ]
  },
  {
   "cell_type": "markdown",
   "metadata": {},
   "source": [
    "### Digital Image Processing\n",
    "# Week 6: Images"
   ]
  },
  {
   "cell_type": "markdown",
   "metadata": {},
   "source": [
    "* **Digital images** are natural examples of collections of data.\n",
    "* In fact, a digital image can be regarded as a matrix, or rather a **tensor, of numbers**.\n",
    "* We'll discuss how this works and the tools in the `numpy` and `PIL` packages can be used to manipulate images, and to convert between **graphical** and **numerical representations** of the same data.\n",
    "* First, we load the packages into the session."
   ]
  },
  {
   "cell_type": "code",
   "execution_count": null,
   "metadata": {},
   "outputs": [],
   "source": [
    "import numpy as np\n",
    "print(np.__version__)\n",
    "import PIL\n",
    "print(PIL.__version__)\n",
    "from PIL import Image"
   ]
  },
  {
   "cell_type": "markdown",
   "metadata": {},
   "source": [
    "# Reading an image from a file"
   ]
  },
  {
   "cell_type": "markdown",
   "metadata": {},
   "source": [
    "* Images often reside in files (as a sequence of $0$s and $1$s).\n",
    "* One way to get an image into a Jupyter session is by using the `Image.open` function from the `PIL` library.\n",
    "* The argument to `Image.open()` should be the file name if the file is in the same directory as the notebook. Otherwise, you will have to provide the full path to the file."
   ]
  },
  {
   "cell_type": "code",
   "execution_count": null,
   "metadata": {},
   "outputs": [],
   "source": [
    "img = Image.open('images/long_walk.png')\n",
    "img"
   ]
  },
  {
   "cell_type": "markdown",
   "metadata": {},
   "source": [
    "##  The RGB Color Model"
   ]
  },
  {
   "cell_type": "markdown",
   "metadata": {},
   "source": [
    "* A digital image is a rectangular grid of **pixels**.\n",
    "* Each pixel has one **intensity value** for each of the colours **red**, **green**, and **blue**.\n",
    "* The **colour** of the pixel is determined by these three values.\n",
    "* In NumPy, a digital image as a **three-dimensional array** of rows, columns, and colours.\n",
    "* The entries in this array are either unsigned 8-bit integers, or floating point numbers in the interval $[0, 1]$."
   ]
  },
  {
   "cell_type": "markdown",
   "metadata": {},
   "source": [
    "* Let's convert the image to an array, and has a look inside."
   ]
  },
  {
   "cell_type": "code",
   "execution_count": null,
   "metadata": {},
   "outputs": [],
   "source": [
    "pic = np.asarray(img)"
   ]
  },
  {
   "cell_type": "code",
   "execution_count": null,
   "metadata": {},
   "outputs": [],
   "source": [
    "print(pic)"
   ]
  },
  {
   "cell_type": "markdown",
   "metadata": {},
   "source": [
    "* Three brackets at either end indicate that `pic` is a $3$-dimensional **tensor**.\n",
    "* Let's check that `pic` is indeed a `numpy` array."
   ]
  },
  {
   "cell_type": "code",
   "execution_count": null,
   "metadata": {},
   "outputs": [],
   "source": [
    "type(pic)"
   ]
  },
  {
   "cell_type": "markdown",
   "metadata": {},
   "source": [
    "* The entries themselves are of the type `uint8`, which means that they are unsigned 8-bit integers.\n",
    "* These are the integers between $0$ and $255 = (2^8-1)$.\n",
    "* **Warning**: All arithmetic on them is done modulo $256$."
   ]
  },
  {
   "cell_type": "code",
   "execution_count": null,
   "metadata": {},
   "outputs": [],
   "source": [
    "pic.dtype"
   ]
  },
  {
   "cell_type": "code",
   "execution_count": null,
   "metadata": {},
   "outputs": [],
   "source": [
    "print(pic[0,0,0])\n",
    "type(pic[0,0,0])"
   ]
  },
  {
   "cell_type": "markdown",
   "metadata": {},
   "source": [
    "* We can see the modular artithmetic in action with some examples.\n",
    "* This is a potential source of programming errors."
   ]
  },
  {
   "cell_type": "code",
   "execution_count": null,
   "metadata": {},
   "outputs": [],
   "source": [
    "a = pic[0,0,0]\n",
    "b = pic[0,0,1]\n",
    "print(a, b)\n",
    "a, b"
   ]
  },
  {
   "cell_type": "code",
   "execution_count": null,
   "metadata": {},
   "outputs": [],
   "source": [
    "print(a + b)\n",
    "a + b"
   ]
  },
  {
   "cell_type": "markdown",
   "metadata": {},
   "source": [
    "* We can check how many rows, columns, and colours the array has. "
   ]
  },
  {
   "cell_type": "code",
   "execution_count": null,
   "metadata": {},
   "outputs": [],
   "source": [
    "pic.shape"
   ]
  },
  {
   "cell_type": "markdown",
   "metadata": {},
   "source": [
    "* The first dimension is the rows, the second is the columns, and the third is the [RGB](https://en.wikipedia.org/wiki/RGB_color_model) values of each pixel."
   ]
  },
  {
   "cell_type": "markdown",
   "metadata": {},
   "source": [
    "* PIL's `Image.fromarray` can convert the (numerical) array back into an image."
   ]
  },
  {
   "cell_type": "code",
   "execution_count": null,
   "metadata": {},
   "outputs": [],
   "source": [
    "Image.fromarray(pic)"
   ]
  },
  {
   "cell_type": "markdown",
   "metadata": {},
   "source": [
    "* As `pic` is a numpy array, we can use `numpy` methods to manipulate the image.\n",
    "* E.g., **slicing** the original produces a smaller picture.\n",
    "* Here is all rows (in dim 0), columns 400 through 600 (in dim1) and all colours (in dim 3):"
   ]
  },
  {
   "cell_type": "code",
   "execution_count": null,
   "metadata": {},
   "outputs": [],
   "source": [
    "smallpic = pic[:,400:601,:]\n",
    "Image.fromarray(smallpic)"
   ]
  },
  {
   "cell_type": "code",
   "execution_count": null,
   "metadata": {},
   "outputs": [],
   "source": [
    "smallpic.shape"
   ]
  },
  {
   "cell_type": "markdown",
   "metadata": {},
   "source": [
    "* We will now see that we can make the image darker by multiplying each entry by a coefficient smaller than 1.\n",
    "* When we multiply a `uint8` (or any integer) by a floating point value, the result is also a float, so we have to cast it back to a `uint8` after the multiplication."
   ]
  },
  {
   "cell_type": "code",
   "execution_count": null,
   "metadata": {},
   "outputs": [],
   "source": [
    "np.uint8(0.3 * pic[0,0,0])"
   ]
  },
  {
   "cell_type": "code",
   "execution_count": null,
   "metadata": {},
   "outputs": [],
   "source": [
    "# change the intesity of the image by making it darker\n",
    "coeff = 0.3\n",
    "darker = smallpic.copy()\n",
    "for i in range(darker.shape[0]):\n",
    "    for j in range(darker.shape[1]):\n",
    "        for k in range(darker.shape[2]):\n",
    "            darker[i,j,k] = np.uint8(coeff * smallpic[i,j,k])"
   ]
  },
  {
   "cell_type": "markdown",
   "metadata": {},
   "source": [
    "* Note how the 3 **nested** for loops make sure that every single entry of the array is multiplied by the same constant `coeff`.\n",
    "* Also note how the `darker` array is first initialized as a copy of `smallpic` to provide the space for the darker pixels.\n",
    "* Finally, the **type** `np.uint8` of the entries is used as a converion function.\n",
    "* Let's see the resulting picture."
   ]
  },
  {
   "cell_type": "code",
   "execution_count": null,
   "metadata": {},
   "outputs": [],
   "source": [
    "Image.fromarray(darker)"
   ]
  },
  {
   "cell_type": "markdown",
   "metadata": {},
   "source": [
    "* Numpy actually allows for a much quicker way to do this.  Quicker to write, and quicker to run!\n",
    "* Instead of looping over all the pixels one by one, you can simply apply the operations to the whole matrix at once, like so:\n",
    "  ```python\n",
    "  np.uint8(coeff * smallpic)\n",
    "  ```\n",
    "*  Here, the time difference is perhaps not so noticable, but if we tried the nested loop on a larger picture with millions of pixels, it would take much longer than the quick way ..."
   ]
  },
  {
   "cell_type": "code",
   "execution_count": null,
   "metadata": {},
   "outputs": [],
   "source": [
    "darker2 = np.uint8(coeff * smallpic)\n",
    "Image.fromarray(darker2)"
   ]
  },
  {
   "cell_type": "markdown",
   "metadata": {},
   "source": [
    "* We can change the intensity to make it lighter as well by multiplying by a coefficient larger than 1."
   ]
  },
  {
   "cell_type": "code",
   "execution_count": null,
   "metadata": {},
   "outputs": [],
   "source": [
    "# change the intesity of the image by making it lighter\n",
    "coeff = 1.5\n",
    "lighter0 = np.uint8(coeff * smallpic)\n",
    "Image.fromarray(lighter0)"
   ]
  },
  {
   "cell_type": "code",
   "execution_count": null,
   "metadata": {},
   "outputs": [],
   "source": [
    "np.uint8(coeff * smallpic)"
   ]
  },
  {
   "cell_type": "markdown",
   "metadata": {},
   "source": [
    "* Oops ... what happened there?!"
   ]
  },
  {
   "attachments": {},
   "cell_type": "markdown",
   "metadata": {},
   "source": [
    "*  Before we convert the result of the multiplication back to a `uint8` we need to make sure that it is not greater than 255.\n",
    "*  We can see a better way of doing this shortly, but for the time being we will use the nested loop approach. (Because applying the `min` function directly to the array does not work the way we want.)"
   ]
  },
  {
   "cell_type": "code",
   "execution_count": null,
   "metadata": {},
   "outputs": [],
   "source": [
    "# change the intesity of the image by making it lighter\n",
    "coeff = 1.5\n",
    "lighter = smallpic.copy()\n",
    "for i in range(lighter.shape[0]):\n",
    "    for j in range(lighter.shape[1]):\n",
    "        for k in range(lighter.shape[2]):\n",
    "            lighter[i,j,k] = np.uint8(min(coeff * smallpic[i,j,k], 255))"
   ]
  },
  {
   "cell_type": "code",
   "execution_count": null,
   "metadata": {},
   "outputs": [],
   "source": [
    "Image.fromarray(lighter)"
   ]
  },
  {
   "cell_type": "markdown",
   "metadata": {},
   "source": [
    "## Separating Colors"
   ]
  },
  {
   "cell_type": "markdown",
   "metadata": {},
   "source": [
    "* We can also see the different colour channels separately. To see e.g. the red separately, we set the blue and the green intensities to zero."
   ]
  },
  {
   "cell_type": "code",
   "execution_count": null,
   "metadata": {
    "scrolled": true
   },
   "outputs": [],
   "source": [
    "r_pic = pic.copy()\n",
    "r_pic[:,:,1:] = 0\n",
    "Image.fromarray(r_pic)"
   ]
  },
  {
   "cell_type": "code",
   "execution_count": null,
   "metadata": {},
   "outputs": [],
   "source": [
    "r_pic"
   ]
  },
  {
   "cell_type": "markdown",
   "metadata": {},
   "source": [
    "* To see the blue channel, we set the red and the green to zero."
   ]
  },
  {
   "cell_type": "code",
   "execution_count": null,
   "metadata": {
    "scrolled": true
   },
   "outputs": [],
   "source": [
    "b_pic = pic.copy()\n",
    "b_pic[:,:,:2] = 0\n",
    "Image.fromarray(b_pic)"
   ]
  },
  {
   "cell_type": "code",
   "execution_count": null,
   "metadata": {
    "scrolled": true
   },
   "outputs": [],
   "source": [
    "g_pic = pic.copy()\n",
    "g_pic[:,:,::2] = 0\n",
    "Image.fromarray(g_pic)"
   ]
  },
  {
   "cell_type": "markdown",
   "metadata": {},
   "source": [
    "* The original image is the **sum** of its R, G and B colors."
   ]
  },
  {
   "cell_type": "code",
   "execution_count": null,
   "metadata": {},
   "outputs": [],
   "source": [
    "Image.fromarray(r_pic + b_pic + g_pic)"
   ]
  },
  {
   "cell_type": "markdown",
   "metadata": {},
   "source": [
    "## Black Out"
   ]
  },
  {
   "cell_type": "markdown",
   "metadata": {},
   "source": [
    "* We can change some portion of the image to black, by setting the RGB intensities to zero in some rectangular region."
   ]
  },
  {
   "cell_type": "code",
   "execution_count": null,
   "metadata": {},
   "outputs": [],
   "source": [
    "picwithsquare = pic.copy()\n",
    "picwithsquare[50:150,400:500] = 0\n",
    "Image.fromarray(picwithsquare)"
   ]
  },
  {
   "cell_type": "markdown",
   "metadata": {},
   "source": [
    "## Flip"
   ]
  },
  {
   "cell_type": "markdown",
   "metadata": {},
   "source": [
    "* Numpy provides a method `flip` to, well, flip an array with respect to a given dimension."
   ]
  },
  {
   "cell_type": "code",
   "execution_count": null,
   "metadata": {},
   "outputs": [],
   "source": [
    "# dimension 0 is the rows of the image\n",
    "flip0 = np.flip(pic, 0)\n",
    "Image.fromarray(flip0)"
   ]
  },
  {
   "cell_type": "code",
   "execution_count": null,
   "metadata": {},
   "outputs": [],
   "source": [
    "# dimension 1 is the columns of the image\n",
    "flip1 = np.flip(pic, 1)\n",
    "Image.fromarray(flip1)"
   ]
  },
  {
   "cell_type": "code",
   "execution_count": null,
   "metadata": {},
   "outputs": [],
   "source": [
    "# dimension 2 is the colors. What does it mean to flip them?\n",
    "flip2 = np.flip(pic, 2)\n",
    "Image.fromarray(flip2)"
   ]
  },
  {
   "cell_type": "code",
   "execution_count": null,
   "metadata": {},
   "outputs": [],
   "source": []
  },
  {
   "cell_type": "markdown",
   "metadata": {},
   "source": [
    "## Convex Combinations"
   ]
  },
  {
   "cell_type": "markdown",
   "metadata": {},
   "source": [
    "* Like vectors and matrices, we can add arrays of the **same shape**.\n",
    "* What does a sum mean, in terms of the corresponding images?"
   ]
  },
  {
   "cell_type": "code",
   "execution_count": null,
   "metadata": {},
   "outputs": [],
   "source": [
    "smallpic2 = pic[:,500:701,:]\n",
    "Image.fromarray(smallpic2)"
   ]
  },
  {
   "cell_type": "code",
   "execution_count": null,
   "metadata": {},
   "outputs": [],
   "source": [
    "Image.fromarray(np.uint8(smallpic + smallpic2))"
   ]
  },
  {
   "cell_type": "markdown",
   "metadata": {},
   "source": [
    "* Oops!\n",
    "* Perhaps the average of two images works better ..."
   ]
  },
  {
   "cell_type": "code",
   "execution_count": null,
   "metadata": {},
   "outputs": [],
   "source": [
    "Image.fromarray(np.uint8(0.5*smallpic + 0.5*smallpic2))"
   ]
  },
  {
   "cell_type": "code",
   "execution_count": null,
   "metadata": {},
   "outputs": [],
   "source": [
    "smallpic3 = pic[:,405:606,:]\n",
    "Image.fromarray(smallpic3)"
   ]
  },
  {
   "cell_type": "code",
   "execution_count": null,
   "metadata": {
    "jupyter": {
     "source_hidden": true
    }
   },
   "outputs": [],
   "source": [
    "Image.fromarray(np.uint8(0.5*smallpic + 0.5*smallpic3))"
   ]
  },
  {
   "cell_type": "markdown",
   "metadata": {},
   "source": [
    "### Convex sets\n",
    "\n",
    "* A subset $X$ of $\\mathbb{R}^n$ (for some $n$) is said to be **convex**, if for all $p,q \\in X$, the line segment from $p$ to $q$ is also contained in $X$.\n",
    "* If you think about this for a minute in 2 dimensions, it should be clear that this captures what we usually mean by 'convex' - something like 'no indentations'.\n",
    "\n",
    "### Convex combinations\n",
    "\n",
    "* The line segment from $p$ to $q$ consists of the points $(1-t)p + tq$ where $0\\leq t \\leq 1$. As a 2-dimensional example, let $p = (0,2)$ and $q = (3,1)$.\n",
    "*  Then point halfway between $p$ and $q$ has coordinates\n",
    "$$\n",
    "0.5(0,2) + 0.5(3,1) = (1.5, 1.5).\n",
    "$$\n",
    "* The point three quarters of the way from $p$ to $q$ has coordinates\n",
    "$$\n",
    "0.25(0,2) + 0.75(3,1) = (2.25, 1.25).\n",
    "$$"
   ]
  },
  {
   "cell_type": "markdown",
   "metadata": {},
   "source": [
    "* If we have more points, say $p_1, p_2, p_3, \\ldots, p_n$, then a _convex combination_ of $p_1, \\ldots, p_n$ is a sum of the form\n",
    "  $$\n",
    "  \\sum_{i=1}^n c_i p_i\n",
    "  $$\n",
    "  where $c_i \\geq 0$ for $i=1,\\ldots,n$ and $\\sum c_i = 1$."
   ]
  },
  {
   "cell_type": "code",
   "execution_count": null,
   "metadata": {},
   "outputs": [],
   "source": [
    "Image.fromarray(np.uint8(0.6*pic + 0.4*flip0))"
   ]
  },
  {
   "cell_type": "code",
   "execution_count": null,
   "metadata": {},
   "outputs": [],
   "source": [
    "Image.fromarray(np.uint8(0.3*pic + 0.7*flip2))"
   ]
  },
  {
   "cell_type": "code",
   "execution_count": null,
   "metadata": {},
   "outputs": [],
   "source": [
    "Image.fromarray(np.uint8(0.1*pic + 0.2*flip0 + 0.3*flip1 + 0.4*flip2))"
   ]
  },
  {
   "cell_type": "markdown",
   "metadata": {},
   "source": [
    "## Generating images"
   ]
  },
  {
   "cell_type": "markdown",
   "metadata": {},
   "source": [
    "* We can generate images completely from scratch as well.\n",
    "* As a first example, let's create a red circle on a black background."
   ]
  },
  {
   "cell_type": "markdown",
   "metadata": {},
   "source": [
    "* Create a black background to start with: a 500 by 500 pixel image, with the 3 colour channels."
   ]
  },
  {
   "cell_type": "code",
   "execution_count": null,
   "metadata": {
    "scrolled": true
   },
   "outputs": [],
   "source": [
    "circpic = np.zeros((500,500,3), dtype=np.uint8)\n",
    "Image.fromarray(circpic)"
   ]
  },
  {
   "cell_type": "markdown",
   "metadata": {},
   "source": [
    "* Formula:  point $(x, y)$ is in the circle with **center** $(c, d)$ and **radius** $r$ if\n",
    "  $$\n",
    "  (x - c)^2 + (y - d)^2 \\leq r^2\n",
    "  $$"
   ]
  },
  {
   "cell_type": "code",
   "execution_count": null,
   "metadata": {
    "scrolled": true
   },
   "outputs": [],
   "source": [
    "for i in range(circpic.shape[0]):\n",
    "    for j in range(circpic.shape[1]):\n",
    "        # if we are at distance at most 100 from the point (200,350), make the pixel blue\n",
    "        if (i-200)**2 + (j-350)**2 <= 100**2:\n",
    "            circpic[i,j,2] = 200  # blue!\n",
    "            \n",
    "Image.fromarray(circpic)"
   ]
  },
  {
   "cell_type": "markdown",
   "metadata": {},
   "source": [
    "* We can now add more than one circle, by defining the function `addcircle` that takes an x-coordinate and a y-coordinate for the centre of the circle as well as a value for the radius as parameters."
   ]
  },
  {
   "cell_type": "code",
   "execution_count": null,
   "metadata": {},
   "outputs": [],
   "source": [
    "def addcircle(arr, x, y, radius, blue):\n",
    "    for r in range(arr.shape[0]):\n",
    "        for c in range(arr.shape[1]):\n",
    "            if (r-x)**2 + (c-y)**2 <= radius**2:\n",
    "                arr[r,c,0] = blue"
   ]
  },
  {
   "cell_type": "markdown",
   "metadata": {},
   "source": [
    "* Then we call that function repeatedly with random values for the coordinates and the radius."
   ]
  },
  {
   "cell_type": "code",
   "execution_count": null,
   "metadata": {},
   "outputs": [],
   "source": [
    "import random"
   ]
  },
  {
   "cell_type": "code",
   "execution_count": null,
   "metadata": {},
   "outputs": [],
   "source": [
    "circpic2 = np.zeros((500,500,3), dtype=np.uint8)\n",
    "for i in range(25):\n",
    "    x = random.choice(range(500))\n",
    "    y = random.choice(range(500))\n",
    "    r = random.choice(range(60))\n",
    "    c = random.choice(range(256))\n",
    "    addcircle(circpic2, x, y, r, c)\n",
    "                \n",
    "Image.fromarray(circpic2)"
   ]
  },
  {
   "cell_type": "markdown",
   "metadata": {},
   "source": [
    "## Summary\n",
    "\n",
    "* Images really are 3D arrays of numbers.\n",
    "* `numpy` can be used to efficiently manipulate images."
   ]
  },
  {
   "cell_type": "markdown",
   "metadata": {},
   "source": [
    "## References"
   ]
  },
  {
   "cell_type": "markdown",
   "metadata": {},
   "source": [
    "### python\n",
    "\n",
    "* The [`random` library](https://docs.python.org/3/library/random.html)."
   ]
  },
  {
   "cell_type": "markdown",
   "metadata": {},
   "source": [
    "### numpy\n",
    "\n",
    "* [flip](https://numpy.org/doc/stable/reference/generated/numpy.flip.html)\n",
    "* [asarray](https://numpy.org/doc/stable/reference/generated/numpy.asarray.html)"
   ]
  },
  {
   "cell_type": "markdown",
   "metadata": {},
   "source": [
    "### Other\n",
    "\n",
    "* The Pillow [Tutorial](https://pillow.readthedocs.io/en/stable/handbook/tutorial.html)\n",
    "* Matplotlib's [Image Tutorial](https://matplotlib.org/stable/tutorials/images.html)."
   ]
  },
  {
   "cell_type": "markdown",
   "metadata": {},
   "source": [
    "## Exercises"
   ]
  },
  {
   "cell_type": "markdown",
   "metadata": {},
   "source": [
    "* Load the image file `../aras_brun.png` and convert it into a numpy array of 8 bit unsigned integers."
   ]
  },
  {
   "cell_type": "code",
   "execution_count": null,
   "metadata": {},
   "outputs": [],
   "source": [
    "#  your code goes here"
   ]
  },
  {
   "cell_type": "code",
   "execution_count": null,
   "metadata": {},
   "outputs": [],
   "source": []
  }
 ],
 "metadata": {
  "kernelspec": {
   "display_name": "Python 3 (ipykernel)",
   "language": "python",
   "name": "python3"
  },
  "language_info": {
   "codemirror_mode": {
    "name": "ipython",
    "version": 3
   },
   "file_extension": ".py",
   "mimetype": "text/x-python",
   "name": "python",
   "nbconvert_exporter": "python",
   "pygments_lexer": "ipython3",
   "version": "3.12.3"
  }
 },
 "nbformat": 4,
 "nbformat_minor": 4
}
