{
 "cells": [
  {
   "cell_type": "markdown",
   "metadata": {},
   "source": [
    "### CS2101 - Programming for Science and Finance\n",
    "Prof. Götz Pfeiffer<br />\n",
    "School of Mathematical and Statistical Sciences<br />\n",
    "University of Galway"
   ]
  },
  {
   "cell_type": "markdown",
   "metadata": {},
   "source": [
    "# Computer Lab 7"
   ]
  },
  {
   "cell_type": "markdown",
   "metadata": {},
   "source": [
    "Provide answers to the problems in the boxes provided.  Partial marks will be awarded for\n",
    "participation and engagement.\n",
    "\n",
    "**Important:** When finished, print this notebook into a **pdf** file and submit this pdf to\n",
    "**canvas**.  (Submissions in other formats will not be accepted.)\n",
    "\n",
    "**Deadline** is a week on Friday, at 5pm."
   ]
  },
  {
   "cell_type": "markdown",
   "metadata": {},
   "source": [
    "## Setup"
   ]
  },
  {
   "cell_type": "markdown",
   "metadata": {},
   "source": [
    "This is a `jupyter` notebook.   You can open and interact\n",
    "with the notebook through one of sites recommended at\n",
    "its [github repository](https://github.com/gpfeiffer/cs2101).\n",
    "\n",
    "Or, you can\n",
    "install and use `jupyter` as a `python` package on your own laptop or PC.  "
   ]
  },
  {
   "cell_type": "markdown",
   "metadata": {},
   "source": [
    "* First, import some packages"
   ]
  },
  {
   "cell_type": "code",
   "execution_count": null,
   "metadata": {},
   "outputs": [],
   "source": [
    "import numpy as np\n",
    "import matplotlib.pyplot as plt\n",
    "import math"
   ]
  },
  {
   "cell_type": "markdown",
   "metadata": {},
   "source": [
    "## 1. Numerical Differentiation."
   ]
  },
  {
   "cell_type": "markdown",
   "metadata": {
    "scrolled": true
   },
   "source": [
    "1. As the derivative of a function $f \\colon D \\to \\mathbb{R}$ (for some $D \\subseteq \\mathbb{R}$) at a point $x \\in D$ is given by the limit \n",
    "  $$\n",
    "  f'(x) = \\lim_{h \\to 0} \\frac{f(x+h) - f(x-h)}{2h}\n",
    "  $$\n",
    "  we can use\n",
    "  $$\n",
    "  f'(x) \\approx \\frac{f(x+h) - f(x-h)}{2h}\n",
    "  $$\n",
    "  for small values of $h$ as an approximation of the value of the derivative of $f$ at $x$.  Write a function `derivative` that takes a function $f$ and a small value $h$ as input and the computes and returns the derivative $f'$ as a function, using the above approximation.  Can you use a `lambda` expression to avoid having to invent a variable name for the derivative?"
   ]
  },
  {
   "cell_type": "code",
   "execution_count": null,
   "metadata": {},
   "outputs": [],
   "source": [
    "def derivative(f, h):\n",
    "    ##  your code here ..."
   ]
  },
  {
   "cell_type": "markdown",
   "metadata": {},
   "source": [
    "2. Check, perhaps with $h = 10^{-5}$, that your function computes $-\\sin(x)$ as the derivative of $\\cos(x)$ by plotting both your derivative and the $-\\sin(x)$ function over the interval $[0, 2\\pi]$."
   ]
  },
  {
   "cell_type": "code",
   "execution_count": null,
   "metadata": {},
   "outputs": [],
   "source": []
  },
  {
   "cell_type": "markdown",
   "metadata": {},
   "source": [
    "3. Using your `derivative` function, plot $f(x) = 3x^4 - 4x^3 - 12x^2 + 5$ (over the interval $[-2, 3]$), its first derivative $f'$ (over the interval $[-1.4,2.3]$) and its second derivative $f''$ (over the interval $[-1,1.6]$)."
   ]
  },
  {
   "cell_type": "code",
   "execution_count": null,
   "metadata": {},
   "outputs": [],
   "source": []
  },
  {
   "cell_type": "markdown",
   "metadata": {},
   "source": [
    "## 2.  Newton's Method"
   ]
  },
  {
   "cell_type": "markdown",
   "metadata": {},
   "source": [
    "1.  Using your function `derivative`, implement Newton's method `newton` from the lectures."
   ]
  },
  {
   "cell_type": "code",
   "execution_count": null,
   "metadata": {},
   "outputs": [],
   "source": [
    "def newton(f, eps, h):\n",
    "    ##  your code here ..."
   ]
  },
  {
   "cell_type": "markdown",
   "metadata": {},
   "source": [
    "2.  Use your implementation of Newton's method to find solutions to the equation $\\cos(x) = \\sqrt{2}/2$, say for $50$ different starting values $x_0$ in the interval $[1,11]$. Check that all your solutions are integer multiples of $\\pi/4$.  Modulo $8$, which integers do occur? (And which ones don't?)"
   ]
  },
  {
   "cell_type": "code",
   "execution_count": null,
   "metadata": {},
   "outputs": [],
   "source": []
  },
  {
   "cell_type": "code",
   "execution_count": null,
   "metadata": {},
   "outputs": [],
   "source": []
  },
  {
   "cell_type": "markdown",
   "metadata": {},
   "source": [
    "## 3.  Solving Differential Equations"
   ]
  },
  {
   "cell_type": "markdown",
   "metadata": {},
   "source": [
    "1. [Euler's method](https://en.wikipedia.org/wiki/Euler_method) is a simple method for solving a first-order initial value problem of the form\n",
    "  $$\n",
    "  \\begin{cases}\n",
    "  y' = f(t, y(t)) \\\\\n",
    "  y(t_0) = y_0\n",
    "  \\end{cases}\n",
    "  $$\n",
    "  numerically.  Using the approximation\n",
    "  $$\n",
    "  y'(t_0) = \\frac{y(t_0 + h) - y(t_0)}{h}\n",
    "  $$\n",
    "  for the derivative of $y$ at a point $t_0$, one obtains for any chosen step-size $h$ a solution\n",
    "  $$\n",
    "  y_1 = y(t_0+h) = y(t_0) + h f(t_0, y(t_0)) = y_0 + h f(t_0, y_0).\n",
    "  $$\n",
    "  This process can be iterated.  Letting $t_n = t_0 + nh$, we compute $y_n$, an approximation of $y(t_n)$ by iterating the following step:\n",
    "  $$\n",
    "  y_{i+1} = y_i + h f(t_i, y_i).\n",
    "  $$\n",
    "  Implement this process as a function `euler` as follows.  The function `euler` has $4$ parameters: the function $f$, the initial value $t_0$, the initial value $y_0$ and the step-size $h$.  From these it constructs an returns a function `approx` so that a call `approx(n)`  computes and returns the approximation $y_n$ of $y(t_n)$."
   ]
  },
  {
   "cell_type": "code",
   "execution_count": null,
   "metadata": {},
   "outputs": [],
   "source": [
    "def euler(f, t0, y0, h):\n",
    "    ##  your code here ..."
   ]
  },
  {
   "cell_type": "markdown",
   "metadata": {},
   "source": [
    "2. Use your function `euler` to approximately solve the initial value problem\n",
    "  $$\n",
    "  \\begin{cases}\n",
    "  y' = 2y + t^2 - t \\\\\n",
    "  y(0) = 1\n",
    "  \\end{cases}\n",
    "  $$\n",
    "  using a step size of $h = 0.01$. (This initial-value problem has the exact solution $y(t) = e^{2t} -t^2/2$ which can be verified by differentiation.)"
   ]
  },
  {
   "cell_type": "code",
   "execution_count": null,
   "metadata": {},
   "outputs": [],
   "source": []
  },
  {
   "cell_type": "markdown",
   "metadata": {},
   "source": [
    "3. Plot your solution and the exact solution over `np.linspace(0, 1, 101)`."
   ]
  },
  {
   "cell_type": "code",
   "execution_count": null,
   "metadata": {},
   "outputs": [],
   "source": []
  },
  {
   "cell_type": "markdown",
   "metadata": {},
   "source": [
    "## 4.  Numerical Integration"
   ]
  },
  {
   "cell_type": "markdown",
   "metadata": {},
   "source": [
    "* One well-known method to approximate a definite integral\n",
    "  $$\n",
    "  I = \\int_a^b f(x) \\, dx.\n",
    "  $$\n",
    "  is the [Trapezoid method](https://en.wikipedia.org/wiki/Trapezoidal_rule). It approximates the definite integral $I$ by the area beneath the graph of $f$ by trapezoids.  For this, we choose a value for the parameter $N$, which is the number of subintervals we divide the interval $[a,b]$ into. Then we get the approximation\n",
    "  $$\n",
    "  I \\approx  \\frac{b-a}{2N}(f(x_0) + 2f(x_1) + 2 f(x_3) + \\cdots + 2f(x_{N-1}) + f(x_N)).\n",
    "  $$"
   ]
  },
  {
   "cell_type": "markdown",
   "metadata": {},
   "source": [
    "1. Your task is to write a function `trapezoid`, taking two parameters: the function `f` to integrate, and the number `N` of subintervals.  It then constructs and returns a function `F`, say, of two parameters `a` and `b`,  which approximates $I$ according to the above rule. Thus, for example:\n",
    "   ```python\n",
    "       F = trapezoid(lambda x: x, 10)\n",
    "       F(1,2)\n",
    "   ```\n",
    "   should yield the value $1.5$."
   ]
  },
  {
   "cell_type": "code",
   "execution_count": null,
   "metadata": {},
   "outputs": [],
   "source": [
    "def trapezoid(f, N):\n",
    "    ##  your code here ..."
   ]
  },
  {
   "cell_type": "code",
   "execution_count": null,
   "metadata": {},
   "outputs": [],
   "source": []
  },
  {
   "cell_type": "markdown",
   "metadata": {},
   "source": [
    "2.  Approximate $I = \\int_0^1 e^{x^2}\\, dx$, using your function `trapezoid` once with $10$ subintervals, then with $100$ subintervals, and again with $1000$ subintervals."
   ]
  },
  {
   "cell_type": "code",
   "execution_count": null,
   "metadata": {},
   "outputs": [],
   "source": []
  },
  {
   "cell_type": "code",
   "execution_count": null,
   "metadata": {},
   "outputs": [],
   "source": []
  },
  {
   "cell_type": "code",
   "execution_count": null,
   "metadata": {},
   "outputs": [],
   "source": []
  },
  {
   "cell_type": "markdown",
   "metadata": {},
   "source": [
    "## 5.  Decorators"
   ]
  },
  {
   "cell_type": "markdown",
   "metadata": {},
   "source": [
    "* A **decorator** is a function that takes a function `f` as argument, constructs and returns a new function `ff` which is then reassigned to `f`.  In Python, a decorator can be applied to function definition with the `@` syntax."
   ]
  },
  {
   "cell_type": "markdown",
   "metadata": {},
   "source": [
    "1. Define a decorator `logCall` that, when applied to a function `f`, each time `f` is called, the function call with its arguments and the return value are printed as in `f(x, y) = z`.  For example, if `f` computes the absolute value of the difference of `x` and `y`, then after defining\n",
    "   ```python\n",
    "      @logCall\n",
    "      def f(x, y):\n",
    "          return abs(x - y)\n",
    "   ```\n",
    "   a call like `f(3, 5)` should cause a printed message like\n",
    "   ```python\n",
    "      f(3, 5) = 2\n",
    "   ```"
   ]
  },
  {
   "cell_type": "code",
   "execution_count": null,
   "metadata": {},
   "outputs": [],
   "source": [
    "def logCall(f):\n",
    "    ##  your code here ..."
   ]
  },
  {
   "cell_type": "markdown",
   "metadata": {},
   "source": [
    "2.  Test your decorator on the function `f(x, y)` above."
   ]
  },
  {
   "cell_type": "code",
   "execution_count": null,
   "metadata": {},
   "outputs": [],
   "source": [
    "@logCall\n",
    "def f(x, y):\n",
    "    return abs(x - y)"
   ]
  },
  {
   "cell_type": "code",
   "execution_count": null,
   "metadata": {},
   "outputs": [],
   "source": [
    "f(3, 5)"
   ]
  },
  {
   "cell_type": "markdown",
   "metadata": {},
   "source": [
    "3. Define a version of the greatest common denominator, decorated with `@logCall`.  Then test `gcd(60, 24)`."
   ]
  },
  {
   "cell_type": "code",
   "execution_count": null,
   "metadata": {},
   "outputs": [],
   "source": []
  },
  {
   "cell_type": "code",
   "execution_count": null,
   "metadata": {},
   "outputs": [],
   "source": []
  },
  {
   "cell_type": "markdown",
   "metadata": {},
   "source": [
    "4. A decorator need not be a function, it only has to be **callable**.  An object `o` of a class `C` is callable, if the class `C` implements the special method `__call__`.  Then a function call like `o(arg)` will refer back to `o.__call__(arg)`.  Write a **decorator class** `countedFunc` which for the decorated function counts how often it gets called.  This class should implement two special functions: `__init__` has parameters `self` and the function `func` to be decorated, and should assign `func` to the attribute `func` of `self`, and initialize an attribute `count` of `self` as $0$; and `__call__` should have arguments `self` and `*args`, increment the counter `self.count` by one, and then call the function `self.func` with arguments `*args` and return the resulting value."
   ]
  },
  {
   "cell_type": "code",
   "execution_count": null,
   "metadata": {},
   "outputs": [],
   "source": [
    "class countedFunc:\n",
    "    def __init__(self, func):\n",
    "        ##  your code here ...\n",
    "\n",
    "    def __call__(self, *args):\n",
    "        ##  your code here ...\n"
   ]
  },
  {
   "cell_type": "markdown",
   "metadata": {},
   "source": [
    "5. Decorate a simple function for computing [Fibonacci numbers](https://en.wikipedia.org/wiki/Fibonacci_sequence)\n",
    "   ```python\n",
    "      def fibonacci(n):\n",
    "          return n if n < 2 else fibonacci(n-2) + fibonacci(n-1)\n",
    "   ```\n",
    "   with your decorator `countedFunc`, then call `fibonacci(20)` and check that the value of `fibonacci.count` is $21891$."
   ]
  },
  {
   "cell_type": "code",
   "execution_count": null,
   "metadata": {},
   "outputs": [],
   "source": []
  },
  {
   "cell_type": "code",
   "execution_count": null,
   "metadata": {},
   "outputs": [],
   "source": [
    "fibonacci(20)"
   ]
  },
  {
   "cell_type": "code",
   "execution_count": null,
   "metadata": {},
   "outputs": [],
   "source": [
    "fibonacci.count"
   ]
  },
  {
   "cell_type": "markdown",
   "metadata": {},
   "source": [
    "##  Submit your work in PDF format!"
   ]
  },
  {
   "cell_type": "code",
   "execution_count": null,
   "metadata": {},
   "outputs": [],
   "source": []
  }
 ],
 "metadata": {
  "kernelspec": {
   "display_name": "Python 3 (ipykernel)",
   "language": "python",
   "name": "python3"
  },
  "language_info": {
   "codemirror_mode": {
    "name": "ipython",
    "version": 3
   },
   "file_extension": ".py",
   "mimetype": "text/x-python",
   "name": "python",
   "nbconvert_exporter": "python",
   "pygments_lexer": "ipython3",
   "version": "3.12.3"
  }
 },
 "nbformat": 4,
 "nbformat_minor": 4
}
