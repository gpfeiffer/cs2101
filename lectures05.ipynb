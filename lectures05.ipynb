{
 "cells": [
  {
   "cell_type": "markdown",
   "metadata": {},
   "source": [
    "## CS2101 - Programming for Science and Finance\n",
    "Prof. Götz Pfeiffer<br />\n",
    "School of Mathematical and Statistical Sciences<br />\n",
    "University of Galway\n",
    "\n",
    "***"
   ]
  },
  {
   "cell_type": "markdown",
   "metadata": {},
   "source": [
    "### Objects and Classes\n",
    "# Week 5: Matrices vs Arrays"
   ]
  },
  {
   "attachments": {},
   "cell_type": "markdown",
   "metadata": {},
   "source": [
    "* At a large scale, in terms of both space and time, plain Python is not as efficient as other programming languages.\n",
    "* The `numpy` package restores some of this efficiency.\n",
    "* To understand the problem, and its solution, we now look into the inner workings of Python's data types.\n",
    "* First, we review `python`'s basic data types, and some of their properties.\n",
    "* Then we introduce the `numpy` package and discuss its `array` data type for **homogeneous** lists of data."
   ]
  },
  {
   "cell_type": "markdown",
   "metadata": {},
   "source": [
    "* `numpy` arrays improve on `python` lists in many ways.\n",
    "* `numpy` arrays are **homogeneous** **multi-dimensional** collections of data.\n",
    "* As such, a `numpy` array has:\n",
    "    * a **shape**, specifying its size in each dimension;\n",
    "    * a common **data type** for all its elements.\n",
    "* These (and related) **attributes** of an array can be directly accessed.\n",
    "* Among many other operations, `numpy` extends `python`s set of **indexing** and **slicing** operators.\n"
   ]
  },
  {
   "cell_type": "markdown",
   "metadata": {},
   "source": [
    "## Dynamic Typing vs Static Typing"
   ]
  },
  {
   "cell_type": "markdown",
   "metadata": {},
   "source": [
    "* A **statically-typed** language like `C` or `Java` requires each \n",
    "  variable to be explicitly declared, together with a type.\n",
    "* In a **dynamically-typed** language like `python` this kind of\n",
    "  specification is not needed, a variable is implicitly declared\n",
    "  when it is first used."
   ]
  },
  {
   "attachments": {},
   "cell_type": "markdown",
   "metadata": {},
   "source": [
    "* For example, in the `C` language one might specify a particular operation as follows:\n",
    "  ```C\n",
    "  /* C code */\n",
    "  int result = 0;\n",
    "  for (int i = 0; i < 100; i++) {\n",
    "      result += i;\n",
    "  }\n",
    "  ```\n",
    "  Note how every variable (`result` and `i`) in this code is declared to be of type `int`.\n",
    "* In `C`, the data type of each variable (`int` for integer) is\n",
    "  explicitly declared (and thus known to the compiler)."
   ]
  },
  {
   "attachments": {},
   "cell_type": "markdown",
   "metadata": {},
   "source": [
    "* In `python` the equivalent operation could be written this way:\n",
    "  ```python\n",
    "  # Python code\n",
    "  result = 0\n",
    "  for i in range(100):\n",
    "      result += i\n",
    "  ```\n",
    "  Here, the variables (`result` and `i`) have no declared type, they just happen to have values of type `int`.\n",
    "* In `python`, the data type is **dynamically** inferred (at runtime) from the **value** of the variable."
   ]
  },
  {
   "attachments": {},
   "cell_type": "markdown",
   "metadata": {},
   "source": [
    "* The standard `python` interpreters are implemented in `C`.  Thus, at runtime, every `python` object is really a `C` object.\n",
    "* However, there is a big difference between the **memory** needed for storing an integer value in a `C` variable\n",
    "  or in  a `python` variable ...\n",
    "* In `C`, an integer variable is simply a label for a **slot** in \n",
    "  machine memory whose bytes encode an integer value.\n",
    "* A `python` variable is a **pointer** to a complex data structure, which contains administrative information about a\n",
    "  `python` object (such as its **type**) in addition to the \n",
    "  integer value."
   ]
  },
  {
   "attachments": {},
   "cell_type": "markdown",
   "metadata": {},
   "source": [
    "* The `C` type definition for a `python` (long) integer effectively looks like this:\n",
    "  ```C\n",
    "  /* C code */\n",
    "  struct _longobject {\n",
    "      long ob_refcnt;\n",
    "      PyTypeObject *ob_type;\n",
    "      size_t ob_size;\n",
    "      long ob_digit[1];\n",
    "  };\n",
    "  ```\n",
    "* A single integer object in Python thus actually contains four pieces of information:\n",
    "  * `ob_refcnt`, a **reference** count that helps Python silently handle memory allocation and deallocation\n",
    "  * `ob_type`, which encodes the **type** of the object\n",
    "  * `ob_size`, which specifies the **size** of the object (i.e., its number of \"digits\")\n",
    "  * `ob_digit`, the array of digits representing an actual integer value."
   ]
  },
  {
   "cell_type": "markdown",
   "metadata": {},
   "source": [
    "![c vs python](images/cint_vs_pyint.png)"
   ]
  },
  {
   "cell_type": "markdown",
   "metadata": {},
   "source": [
    "* The function `sys.getsizeof` reveals that in `python`, there is \n",
    "  an **administrative overhead** of $24$ bytes for each integer, whose\n",
    "  value only requires $4$ bytes (if it is small, i.e. a single digit) ..."
   ]
  },
  {
   "cell_type": "code",
   "execution_count": null,
   "metadata": {},
   "outputs": [],
   "source": [
    "from sys import getsizeof\n",
    "print(getsizeof(100))\n",
    "print(getsizeof(2**30-1))\n",
    "print(getsizeof(2**30))\n",
    "print(getsizeof(0))"
   ]
  },
  {
   "cell_type": "markdown",
   "metadata": {},
   "source": [
    "* This memory overhead becomes even more drastic when it comes to \n",
    "  **lists** of integers."
   ]
  },
  {
   "cell_type": "markdown",
   "metadata": {},
   "source": [
    "## The Size of a List"
   ]
  },
  {
   "cell_type": "markdown",
   "metadata": {},
   "source": [
    "* Dynamic typing allows lists in `python` to be **heterogeneous**."
   ]
  },
  {
   "cell_type": "code",
   "execution_count": null,
   "metadata": {},
   "outputs": [],
   "source": [
    "L = [True, 2, 3.0, \"4\"]\n",
    "[type(x) for x in L]"
   ]
  },
  {
   "cell_type": "markdown",
   "metadata": {},
   "source": [
    "* This flexibility comes at a price, as each object in the list\n",
    "  needs to store their own administrative information, in addition to the list's own overhead."
   ]
  },
  {
   "cell_type": "code",
   "execution_count": null,
   "metadata": {},
   "outputs": [],
   "source": [
    "[(x, getsizeof(x)) for x in L]"
   ]
  },
  {
   "cell_type": "code",
   "execution_count": null,
   "metadata": {},
   "outputs": [],
   "source": [
    "getsizeof(L)"
   ]
  },
  {
   "attachments": {},
   "cell_type": "markdown",
   "metadata": {},
   "source": [
    "* Clearly, if all the objects in a list are of the same type, most of\n",
    "  this information is redundant.\n",
    "* It would be more efficient to store these data in a\n",
    "  fixed-type array, or even as a string ..."
   ]
  },
  {
   "cell_type": "code",
   "execution_count": null,
   "metadata": {},
   "outputs": [],
   "source": [
    "P = [2, 3, 5, 7, 11, 13, 17, 19]\n",
    "print(P)\n",
    "print(sum(getsizeof(x) for x in P) + getsizeof(P))\n",
    "print(str(P))\n",
    "print(getsizeof(str(P)))"
   ]
  },
  {
   "cell_type": "markdown",
   "metadata": {},
   "source": [
    "## `NumPy` Arrays"
   ]
  },
  {
   "cell_type": "markdown",
   "metadata": {},
   "source": [
    "* This is where the `numpy` package comes in.\n",
    "* `numpy` provides efficient **storage** and efficient **operations** on array based data."
   ]
  },
  {
   "cell_type": "markdown",
   "metadata": {},
   "source": [
    "![array vs list](images/array_vs_list.png)"
   ]
  },
  {
   "cell_type": "markdown",
   "metadata": {},
   "source": [
    "* When imported, `numpy` ususally gets the short nickname `np`."
   ]
  },
  {
   "cell_type": "code",
   "execution_count": null,
   "metadata": {},
   "outputs": [],
   "source": [
    "import numpy as np"
   ]
  },
  {
   "cell_type": "markdown",
   "metadata": {},
   "source": [
    "* `numpy` provides a new data type `np.array` for **homogeneous** lists of (lists of ...) data.\n",
    "* Such a `numpy` fixed-type array can easily be constructed from a `python` list."
   ]
  },
  {
   "cell_type": "code",
   "execution_count": null,
   "metadata": {},
   "outputs": [],
   "source": [
    "l = [3,1,4,1,5,9,2,6]\n",
    "a = np.array(l)\n",
    "a"
   ]
  },
  {
   "cell_type": "code",
   "execution_count": null,
   "metadata": {},
   "outputs": [],
   "source": [
    "print(\"Size of list: \", sum(getsizeof(x) for x in l) + getsizeof(l))\n",
    "print(\"Size of array: \", getsizeof(a))"
   ]
  },
  {
   "cell_type": "markdown",
   "metadata": {},
   "source": [
    "* If necessary (and possible) `numpy` will **upcast** to\n",
    "  make all values in the array have the same type."
   ]
  },
  {
   "cell_type": "code",
   "execution_count": null,
   "metadata": {},
   "outputs": [],
   "source": [
    "b = np.array([3.14, 1, 5, 9, 2, 6, 5, 3])\n",
    "b"
   ]
  },
  {
   "cell_type": "code",
   "execution_count": null,
   "metadata": {},
   "outputs": [],
   "source": [
    "getsizeof(b)"
   ]
  },
  {
   "cell_type": "markdown",
   "metadata": {},
   "source": [
    "* `numpy` arrays can be **multidimensional**, e.g., 2-d matrices."
   ]
  },
  {
   "cell_type": "code",
   "execution_count": null,
   "metadata": {},
   "outputs": [],
   "source": [
    "ll = [list(range(i, i+4)) for i in [2,5,7]]\n",
    "print(ll)\n",
    "np.array(ll)"
   ]
  },
  {
   "cell_type": "markdown",
   "metadata": {},
   "source": [
    "* There are many ways to create arrays from scratch, using\n",
    "  `numpy`'s builtin routines."
   ]
  },
  {
   "cell_type": "code",
   "execution_count": null,
   "metadata": {},
   "outputs": [],
   "source": [
    "# Create a length-10 integer array filled with zeros\n",
    "np.zeros(10, dtype=int)"
   ]
  },
  {
   "cell_type": "code",
   "execution_count": null,
   "metadata": {},
   "outputs": [],
   "source": [
    "# Create a 3x5 floating-point array filled with ones\n",
    "np.ones((3, 5), dtype=float)"
   ]
  },
  {
   "cell_type": "code",
   "execution_count": null,
   "metadata": {},
   "outputs": [],
   "source": [
    "# Create an array of five values evenly spaced between 0 and 1 (incl)\n",
    "np.linspace(0, 1, 5)"
   ]
  },
  {
   "cell_type": "markdown",
   "metadata": {},
   "source": [
    "* Matrices with random entries can sometimes serve as useful examples or test cases.\n",
    "* Numpy provides a **random number generator** for that purpose"
   ]
  },
  {
   "cell_type": "code",
   "execution_count": null,
   "metadata": {},
   "outputs": [],
   "source": [
    "# create a random number generator\n",
    "rng = np.random.default_rng()"
   ]
  },
  {
   "cell_type": "code",
   "execution_count": null,
   "metadata": {},
   "outputs": [],
   "source": [
    "# Create a 3x4 array of uniformly distributed\n",
    "# random values between 0 and 1\n",
    "rng.random((3, 4))"
   ]
  },
  {
   "cell_type": "code",
   "execution_count": null,
   "metadata": {},
   "outputs": [],
   "source": [
    "# Create a 3x5 array of random integers in the interval [0, 10)\n",
    "rng.integers(0, 10, (3, 5))"
   ]
  },
  {
   "cell_type": "code",
   "execution_count": null,
   "metadata": {},
   "outputs": [],
   "source": [
    "# Create a 3x3 identity matrix\n",
    "np.eye(3, dtype=int)"
   ]
  },
  {
   "cell_type": "code",
   "execution_count": null,
   "metadata": {},
   "outputs": [],
   "source": []
  },
  {
   "cell_type": "markdown",
   "metadata": {},
   "source": [
    "## Array Attributes"
   ]
  },
  {
   "cell_type": "markdown",
   "metadata": {},
   "source": [
    "* a `numpy` array is a **multi-dimensional** **homogeneous** collection of data.\n",
    "* in **mathematics** and **physics**, such an object is often called a **tensor**.\n",
    "* a `numpy` array has a **shape** and a **dtype**.\n",
    "* let's investigate these in some simple examples.\n",
    "* start with three random arrays, a one-dimensional, two-dimensional, and three-dimensional array."
   ]
  },
  {
   "cell_type": "code",
   "execution_count": null,
   "metadata": {},
   "outputs": [],
   "source": [
    "x0 = rng.integers(0, 10) # A single random integer\n",
    "print(x0)"
   ]
  },
  {
   "cell_type": "code",
   "execution_count": null,
   "metadata": {},
   "outputs": [],
   "source": [
    "x1 = rng.integers(0, 10, size=4)  # One-dimensional array; here size means shape :-(\n",
    "x1"
   ]
  },
  {
   "cell_type": "code",
   "execution_count": null,
   "metadata": {},
   "outputs": [],
   "source": [
    "x2 = rng.integers(0, 10, size=(3, 4))  # Two-dimensional array: shape 3 x 4\n",
    "x2"
   ]
  },
  {
   "cell_type": "code",
   "execution_count": null,
   "metadata": {},
   "outputs": [],
   "source": [
    "x3 = rng.integers(0, 10, size=(2, 3, 4))  # Three-dimensional: shape 2 x 3 x 4\n",
    "x3"
   ]
  },
  {
   "cell_type": "markdown",
   "metadata": {},
   "source": [
    "Each array has the attributes \n",
    "* `dtype`: the **data type** of the array.\n",
    "* `shape`: the **size in each dimension**, and"
   ]
  },
  {
   "cell_type": "code",
   "execution_count": null,
   "metadata": {},
   "outputs": [],
   "source": [
    "print(\"x2 dtype:\", x2.dtype)\n",
    "print(\"x2 shape:\", x2.shape)"
   ]
  },
  {
   "cell_type": "code",
   "execution_count": null,
   "metadata": {},
   "outputs": [],
   "source": [
    "print(\"x3 dtype:\", x3.dtype)\n",
    "print(\"x3 shape:\", x3.shape)"
   ]
  },
  {
   "cell_type": "markdown",
   "metadata": {},
   "source": [
    "Further attributes of interest are\n",
    "* `ndim`: the **number of dimensions**, and\n",
    "* `size`: the **total number** of elements."
   ]
  },
  {
   "cell_type": "code",
   "execution_count": null,
   "metadata": {},
   "outputs": [],
   "source": [
    "print(\"x3 ndim: \", x3.ndim)\n",
    "print(\"x3 size: \", x3.size)"
   ]
  },
  {
   "cell_type": "markdown",
   "metadata": {},
   "source": [
    "Obviously, `size` is the product of the numbers in the list `shape`, and `ndim` is the length of that list."
   ]
  },
  {
   "cell_type": "code",
   "execution_count": null,
   "metadata": {},
   "outputs": [],
   "source": [
    "from math import prod \n",
    "prod(x3.shape) == x3.size"
   ]
  },
  {
   "cell_type": "code",
   "execution_count": null,
   "metadata": {},
   "outputs": [],
   "source": [
    "len(x3.shape) == x3.ndim"
   ]
  },
  {
   "cell_type": "markdown",
   "metadata": {},
   "source": [
    "## Indexing: Accessing Single Elements"
   ]
  },
  {
   "cell_type": "markdown",
   "metadata": {},
   "source": [
    "* In a one-dimensional array, the $i^{th}$ value (counting from **zero**) can be accessed by specifying the desired index in square brackets, just as with `python` lists:"
   ]
  },
  {
   "cell_type": "code",
   "execution_count": null,
   "metadata": {},
   "outputs": [],
   "source": [
    "x1"
   ]
  },
  {
   "cell_type": "code",
   "execution_count": null,
   "metadata": {},
   "outputs": [],
   "source": [
    "print(x1[0])\n",
    "print(x1[3])\n",
    "print(x1[-1])"
   ]
  },
  {
   "cell_type": "markdown",
   "metadata": {},
   "source": [
    "* **NEW:** In a **multi-dimensional** array, items can be accessed using **comma-separated indices**:"
   ]
  },
  {
   "cell_type": "code",
   "execution_count": null,
   "metadata": {},
   "outputs": [],
   "source": [
    "x2"
   ]
  },
  {
   "cell_type": "code",
   "execution_count": null,
   "metadata": {},
   "outputs": [],
   "source": [
    "print(x2[0, 0])\n",
    "print(x2[2, -1])"
   ]
  },
  {
   "cell_type": "markdown",
   "metadata": {},
   "source": [
    "* Comma separated indices can also be use for assignments."
   ]
  },
  {
   "cell_type": "code",
   "execution_count": null,
   "metadata": {},
   "outputs": [],
   "source": [
    "x2[0, 0] = 12\n",
    "x2"
   ]
  },
  {
   "cell_type": "markdown",
   "metadata": {},
   "source": [
    "## Slicing: Accessing Subarrays"
   ]
  },
  {
   "cell_type": "markdown",
   "metadata": {},
   "source": [
    "* The `numpy` slicing syntax follows that of the standard `python` list.\n",
    "* To access a slice of an array ``x``, use\n",
    "  ``` python\n",
    "  x[start:stop:step]\n",
    "  ```\n",
    "  where the `:step` part is optional.\n",
    "* If any of these are unspecified, they default to the values \n",
    "$0$ for `start`, the size (of the dimension) for `stop`, and $1$ for `step`."
   ]
  },
  {
   "cell_type": "markdown",
   "metadata": {},
   "source": [
    "### One-dimensional slicing"
   ]
  },
  {
   "cell_type": "code",
   "execution_count": null,
   "metadata": {},
   "outputs": [],
   "source": [
    "x = np.arange(10)\n",
    "x"
   ]
  },
  {
   "cell_type": "code",
   "execution_count": null,
   "metadata": {},
   "outputs": [],
   "source": [
    "x[:5]  # first five elements"
   ]
  },
  {
   "cell_type": "code",
   "execution_count": null,
   "metadata": {},
   "outputs": [],
   "source": [
    "x[5:]  # elements after index 5"
   ]
  },
  {
   "cell_type": "code",
   "execution_count": null,
   "metadata": {},
   "outputs": [],
   "source": [
    "x[4:7]  # middle sub-array"
   ]
  },
  {
   "cell_type": "code",
   "execution_count": null,
   "metadata": {},
   "outputs": [],
   "source": [
    "x[::2]  # every other element"
   ]
  },
  {
   "cell_type": "code",
   "execution_count": null,
   "metadata": {},
   "outputs": [],
   "source": [
    "x[1::2]  # every other element, starting at index 1"
   ]
  },
  {
   "cell_type": "markdown",
   "metadata": {},
   "source": [
    "* **Note:** When the `step` value is **negative**, the defaults for `start` and `stop` are **swapped**.\n",
    "* This gives a convenient way to reverse an array"
   ]
  },
  {
   "cell_type": "code",
   "execution_count": null,
   "metadata": {},
   "outputs": [],
   "source": [
    "x[::-1]  # all elements, reversed"
   ]
  },
  {
   "cell_type": "code",
   "execution_count": null,
   "metadata": {},
   "outputs": [],
   "source": [
    "x[7::-2]  # reversed every other from index 7 down to 0"
   ]
  },
  {
   "cell_type": "markdown",
   "metadata": {},
   "source": [
    "### Multi-dimensional slicing\n",
    "\n",
    "* **NEW:** Multi-dimensional slices work similar, with multiple **slices separated by commas**."
   ]
  },
  {
   "cell_type": "code",
   "execution_count": null,
   "metadata": {},
   "outputs": [],
   "source": [
    "x2"
   ]
  },
  {
   "cell_type": "code",
   "execution_count": null,
   "metadata": {},
   "outputs": [],
   "source": [
    "x2[:2, :3]  # two rows, three columns"
   ]
  },
  {
   "cell_type": "code",
   "execution_count": null,
   "metadata": {},
   "outputs": [],
   "source": [
    "x2[:, ::2]  # all rows, every other column"
   ]
  },
  {
   "cell_type": "code",
   "execution_count": null,
   "metadata": {},
   "outputs": [],
   "source": [
    "x2[::-1, ::-1]  # reversing both rows and cols"
   ]
  },
  {
   "cell_type": "markdown",
   "metadata": {},
   "source": [
    "### Accessing array rows and columns\n",
    "\n",
    "* Single rows or columns of an array can be accessed by **combining indexing and slicing**."
   ]
  },
  {
   "cell_type": "code",
   "execution_count": null,
   "metadata": {},
   "outputs": [],
   "source": [
    "x2[:, 0]  # first column of x2"
   ]
  },
  {
   "cell_type": "code",
   "execution_count": null,
   "metadata": {},
   "outputs": [],
   "source": [
    "x2[0, :]  # first row of x2"
   ]
  },
  {
   "cell_type": "markdown",
   "metadata": {},
   "source": [
    "* Trailing empty slices can be omitted."
   ]
  },
  {
   "cell_type": "code",
   "execution_count": null,
   "metadata": {},
   "outputs": [],
   "source": [
    "x2[0]  # equivalent to x2[0, :]"
   ]
  },
  {
   "cell_type": "markdown",
   "metadata": {},
   "source": [
    "### Subarrays are no-copy views!\n",
    "\n",
    "* Recall that, for a `python` list `l`, the slice `l[:]` is a convenient way of making a copy of the list `l`.\n",
    "* **CAUTION:** Array slices are **views** rather than **copies** of the array data.\n",
    "* This means that they refer to (and modify) the same underlying data as the original array."
   ]
  },
  {
   "cell_type": "code",
   "execution_count": null,
   "metadata": {},
   "outputs": [],
   "source": [
    "print(x2)"
   ]
  },
  {
   "cell_type": "markdown",
   "metadata": {},
   "source": [
    "* Let's extract a $2 \\times 2$ subarray from this:"
   ]
  },
  {
   "cell_type": "code",
   "execution_count": null,
   "metadata": {},
   "outputs": [],
   "source": [
    "x22 = x2[:2, :2]\n",
    "print(x22)"
   ]
  },
  {
   "attachments": {},
   "cell_type": "markdown",
   "metadata": {},
   "source": [
    "* Now, if we modify this subarray, the original array is changed, too!"
   ]
  },
  {
   "cell_type": "code",
   "execution_count": null,
   "metadata": {},
   "outputs": [],
   "source": [
    "x22[0, 0] = 99\n",
    "print(x22)\n",
    "print(x2)"
   ]
  },
  {
   "cell_type": "markdown",
   "metadata": {},
   "source": [
    "* When working with **large datasets**, this behaviour allows us to access and process pieces of these datasets without the need to copy the entire underlying data buffer."
   ]
  },
  {
   "cell_type": "markdown",
   "metadata": {},
   "source": [
    "### Creating copies of arrays\n",
    "\n",
    "* To make an explicit copy of the data within an array or a subarray use the `copy()` method:"
   ]
  },
  {
   "cell_type": "code",
   "execution_count": null,
   "metadata": {},
   "outputs": [],
   "source": [
    "x22copy = x2[:2, :2].copy()\n",
    "print(x22copy)"
   ]
  },
  {
   "attachments": {},
   "cell_type": "markdown",
   "metadata": {},
   "source": [
    "* Now, if we modify this copied subarray, the original array is not affected:"
   ]
  },
  {
   "cell_type": "code",
   "execution_count": null,
   "metadata": {},
   "outputs": [],
   "source": [
    "x22copy[0, 0] = 42\n",
    "print(x22copy)\n",
    "print(x2)"
   ]
  },
  {
   "cell_type": "markdown",
   "metadata": {},
   "source": [
    "## Reshaping of Arrays\n",
    "\n",
    "* Another useful type of operation is reshaping of arrays.\n",
    "* The most flexible way of doing this is with the `reshape` method.\n",
    "* For example, to put the numbers 1 through 9 into a $3 \\times 3$ matrix grid, you can do the following:"
   ]
  },
  {
   "cell_type": "code",
   "execution_count": null,
   "metadata": {},
   "outputs": [],
   "source": [
    "grid = np.arange(1, 10)\n",
    "print(grid)\n",
    "grid = np.arange(1, 10).reshape(3, 3)\n",
    "print(grid)"
   ]
  },
  {
   "cell_type": "code",
   "execution_count": null,
   "metadata": {},
   "outputs": [],
   "source": [
    "grid.shape"
   ]
  },
  {
   "cell_type": "markdown",
   "metadata": {},
   "source": [
    "* Note that for this to work, the **size** of the initial array **must match** the size of the reshaped array. \n",
    "* **CAUTION:** Where possible, the ``reshape`` method will use a **no-copy view** of the initial array."
   ]
  },
  {
   "cell_type": "markdown",
   "metadata": {},
   "source": [
    "## References"
   ]
  },
  {
   "cell_type": "markdown",
   "metadata": {},
   "source": [
    "### `python`"
   ]
  },
  {
   "attachments": {},
   "cell_type": "markdown",
   "metadata": {},
   "source": [
    "* `sys.getsizeof`: [[doc]](https://docs.python.org/2/library/sys.html#sys.getsizeof)\n",
    "determines the size (in bytes) of an object\n",
    "* `l[i]`: indexing [[doc]](https://docs.python.org/3/library/stdtypes.html?highlight=mutable%20sequence#sequence-types-list-tuple-range)\n",
    "* `l[start:stop:step]`: slicing [[doc]](https://docs.python.org/3/library/stdtypes.html?highlight=mutable%20sequence#sequence-types-list-tuple-range)\n",
    "* `slice` [[doc]](https://docs.python.org/3/library/functions.html#slice)"
   ]
  },
  {
   "cell_type": "markdown",
   "metadata": {},
   "source": [
    "### `numpy`"
   ]
  },
  {
   "attachments": {},
   "cell_type": "markdown",
   "metadata": {},
   "source": [
    "* `np.array`: [[doc]](https://numpy.org/doc/stable/user/basics.creation.html)\n",
    "  constructs a `numpy` multidimensional array.\n",
    "* `dtype`: [[doc]](https://numpy.org/doc/stable/reference/arrays.dtypes.html)\n",
    "  the common type of the entries of a `numpy` array.\n",
    "* `np.zeros`: [[doc]](https://numpy.org/doc/stable/reference/generated/numpy.zeros.html) fills an array with $0$ values of the specified type\n",
    "* `np.ones`: [[doc]](https://numpy.org/doc/stable/reference/generated/numpy.ones.html) fills an array with $1$ values\n",
    "* `np.eye`: [[doc]](https://numpy.org/doc/stable/reference/generated/numpy.eye.html) creates the identity matrix of the given shape\n",
    "* `np.empty`: [[doc]](https://numpy.org/doc/stable/reference/generated/numpy.empty.html) creates an array w/o setting the values\n",
    "* `np.linspace`: [[doc]](https://numpy.org/doc/stable/reference/generated/numpy.linspace.html) constructs an array of equally spaced values.\n",
    "* `np.random`: [[doc]](https://numpy.org/doc/stable/reference/random/index.html) random sampling.\n",
    "* indexing, slicing: [[doc]](https://numpy.org/doc/stable/reference/arrays.indexing.html)\n",
    "* `reshape`: [[doc]](https://numpy.org/doc/stable/reference/generated/numpy.reshape.html)"
   ]
  },
  {
   "cell_type": "markdown",
   "metadata": {},
   "source": [
    "##  Exercises"
   ]
  },
  {
   "cell_type": "markdown",
   "metadata": {},
   "source": [
    "1. Create a `numpy` array with entries $2, 3, 5, 7, 11, 13, 17, 19$\n",
    "   and then use `sys.getsizeof` to compare its size with the size\n",
    "   of the `python` list with the same entries.   "
   ]
  },
  {
   "cell_type": "code",
   "execution_count": null,
   "metadata": {},
   "outputs": [],
   "source": []
  },
  {
   "cell_type": "markdown",
   "metadata": {},
   "source": [
    "2. Construct a `numpy` $3 \\times 3 \\times 3$ array of $1$s (of type `int`)."
   ]
  },
  {
   "cell_type": "code",
   "execution_count": null,
   "metadata": {},
   "outputs": [],
   "source": []
  },
  {
   "cell_type": "markdown",
   "metadata": {},
   "source": [
    "3. Construct a `numpy` $3 \\times 4 \\times 5$ array of random integers\n",
    "   in the range $1$ to $99$ (inclusive).   "
   ]
  },
  {
   "cell_type": "code",
   "execution_count": null,
   "metadata": {},
   "outputs": [],
   "source": []
  },
  {
   "cell_type": "markdown",
   "metadata": {},
   "source": [
    "4. Create an array of $21$ values, evenly spaced between $0$ and $100$."
   ]
  },
  {
   "cell_type": "code",
   "execution_count": null,
   "metadata": {},
   "outputs": [],
   "source": []
  },
  {
   "cell_type": "markdown",
   "metadata": {},
   "source": [
    "5. Determine the basic attributes of the above arrays."
   ]
  },
  {
   "cell_type": "code",
   "execution_count": null,
   "metadata": {},
   "outputs": [],
   "source": []
  },
  {
   "cell_type": "markdown",
   "metadata": {},
   "source": [
    "6. Create an array with a sequence of integers,\n",
    "   starting at $1950$, ending at $2015$, stepping by $5$.   "
   ]
  },
  {
   "cell_type": "code",
   "execution_count": null,
   "metadata": {},
   "outputs": [],
   "source": []
  },
  {
   "cell_type": "markdown",
   "metadata": {},
   "source": [
    "7. Create a list of all odd squares between $0$ and $10000$."
   ]
  },
  {
   "cell_type": "code",
   "execution_count": null,
   "metadata": {},
   "outputs": [],
   "source": []
  },
  {
   "cell_type": "markdown",
   "metadata": {},
   "source": [
    "8. Starting with a $1$-dimensional array of length $60$,\n",
    "   reshape it into a $3$-dimensional array with dimensions\n",
    "   of sizes $5$, $4$ and $3$, respectively."
   ]
  },
  {
   "cell_type": "code",
   "execution_count": null,
   "metadata": {},
   "outputs": [],
   "source": []
  },
  {
   "cell_type": "markdown",
   "metadata": {},
   "source": [
    "9. Create a `numpy` array from the matrix\n",
    "   ```python\n",
    "   ma = Matrix(\n",
    "    Vector(1, 0, 1),\n",
    "    Vector(2, 1, 1),\n",
    "    Vector(0, 1, 1),\n",
    "    Vector(1, 1, 2)\n",
    "   )\n",
    "   ```"
   ]
  },
  {
   "cell_type": "code",
   "execution_count": null,
   "metadata": {},
   "outputs": [],
   "source": [
    "from python.matrix import Vector, Matrix\n",
    "ma = Matrix(\n",
    "    Vector(1, 0, 1),\n",
    "    Vector(2, 1, 1),\n",
    "    Vector(0, 1, 1),\n",
    "    Vector(1, 1, 2)\n",
    ")\n",
    "na = np.array(ma)\n",
    "na"
   ]
  },
  {
   "cell_type": "code",
   "execution_count": null,
   "metadata": {},
   "outputs": [],
   "source": []
  }
 ],
 "metadata": {
  "kernelspec": {
   "display_name": "Python 3 (ipykernel)",
   "language": "python",
   "name": "python3"
  },
  "language_info": {
   "codemirror_mode": {
    "name": "ipython",
    "version": 3
   },
   "file_extension": ".py",
   "mimetype": "text/x-python",
   "name": "python",
   "nbconvert_exporter": "python",
   "pygments_lexer": "ipython3",
   "version": "3.12.3"
  }
 },
 "nbformat": 4,
 "nbformat_minor": 4
}
