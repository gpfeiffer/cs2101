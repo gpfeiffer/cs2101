{
 "cells": [
  {
   "cell_type": "markdown",
   "metadata": {},
   "source": [
    "### CS2101 - Programming for Science and Finance\n",
    "Prof. Götz Pfeiffer<br />\n",
    "School of Mathematical and Statistical Sciences<br />\n",
    "University of Galway\n",
    "\n",
    "***"
   ]
  },
  {
   "cell_type": "markdown",
   "metadata": {},
   "source": [
    "# Week 10: Higher-Order Functions"
   ]
  },
  {
   "cell_type": "code",
   "execution_count": 1,
   "metadata": {},
   "outputs": [],
   "source": [
    "import numpy as np\n",
    "import matplotlib.pyplot as plt"
   ]
  },
  {
   "cell_type": "code",
   "execution_count": 2,
   "metadata": {},
   "outputs": [],
   "source": [
    "import math"
   ]
  },
  {
   "cell_type": "markdown",
   "metadata": {},
   "source": [
    "* We will further explore the relationship between functions in Python and mathematical functions."
   ]
  },
  {
   "cell_type": "code",
   "execution_count": 3,
   "metadata": {},
   "outputs": [],
   "source": [
    "def f(x):\n",
    "    \"\"\"f(x) computes the cube of x\"\"\"\n",
    "    return x**3"
   ]
  },
  {
   "cell_type": "code",
   "execution_count": 4,
   "metadata": {},
   "outputs": [
    {
     "data": {
      "text/plain": [
       "['__annotations__',\n",
       " '__builtins__',\n",
       " '__call__',\n",
       " '__class__',\n",
       " '__closure__',\n",
       " '__code__',\n",
       " '__defaults__',\n",
       " '__delattr__',\n",
       " '__dict__',\n",
       " '__dir__',\n",
       " '__doc__',\n",
       " '__eq__',\n",
       " '__format__',\n",
       " '__ge__',\n",
       " '__get__',\n",
       " '__getattribute__',\n",
       " '__getstate__',\n",
       " '__globals__',\n",
       " '__gt__',\n",
       " '__hash__',\n",
       " '__init__',\n",
       " '__init_subclass__',\n",
       " '__kwdefaults__',\n",
       " '__le__',\n",
       " '__lt__',\n",
       " '__module__',\n",
       " '__name__',\n",
       " '__ne__',\n",
       " '__new__',\n",
       " '__qualname__',\n",
       " '__reduce__',\n",
       " '__reduce_ex__',\n",
       " '__repr__',\n",
       " '__setattr__',\n",
       " '__sizeof__',\n",
       " '__str__',\n",
       " '__subclasshook__',\n",
       " '__type_params__']"
      ]
     },
     "execution_count": 4,
     "metadata": {},
     "output_type": "execute_result"
    }
   ],
   "source": [
    "dir(f)"
   ]
  },
  {
   "cell_type": "code",
   "execution_count": 5,
   "metadata": {},
   "outputs": [
    {
     "data": {
      "text/plain": [
       "'f(x) computes the cube of x'"
      ]
     },
     "execution_count": 5,
     "metadata": {},
     "output_type": "execute_result"
    }
   ],
   "source": [
    "f.__doc__"
   ]
  },
  {
   "cell_type": "code",
   "execution_count": 6,
   "metadata": {},
   "outputs": [
    {
     "data": {
      "text/plain": [
       "\u001b[0;31mSignature:\u001b[0m \u001b[0mf\u001b[0m\u001b[0;34m(\u001b[0m\u001b[0mx\u001b[0m\u001b[0;34m)\u001b[0m\u001b[0;34m\u001b[0m\u001b[0;34m\u001b[0m\u001b[0m\n",
       "\u001b[0;31mDocstring:\u001b[0m f(x) computes the cube of x\n",
       "\u001b[0;31mFile:\u001b[0m      /tmp/ipykernel_267878/1591644188.py\n",
       "\u001b[0;31mType:\u001b[0m      function"
      ]
     },
     "metadata": {},
     "output_type": "display_data"
    }
   ],
   "source": [
    "?f"
   ]
  },
  {
   "cell_type": "code",
   "execution_count": 7,
   "metadata": {},
   "outputs": [
    {
     "data": {
      "text/plain": [
       "'f'"
      ]
     },
     "execution_count": 7,
     "metadata": {},
     "output_type": "execute_result"
    }
   ],
   "source": [
    "f.__name__"
   ]
  },
  {
   "cell_type": "markdown",
   "metadata": {},
   "source": [
    "## Anonymous Functions"
   ]
  },
  {
   "cell_type": "markdown",
   "metadata": {},
   "source": [
    "* A function in python does not necessarily need to have a name.\n",
    "* Often, when the function is short, and when it used only once, one can use a **lambda expression** instead of a function definition.\n"
   ]
  },
  {
   "cell_type": "markdown",
   "metadata": {},
   "source": [
    "### Example"
   ]
  },
  {
   "cell_type": "markdown",
   "metadata": {},
   "source": [
    "* A lambda expression to compute cubes can be written as\n",
    "  ```python\n",
    "  lambda x: x**3\n",
    "  ```\n",
    "* This corresponds somehow to the mathematical notation for functions: $x \\mapsto x^3$.\n",
    "* We can assign this lambda object to a variable and then call it like a function.    "
   ]
  },
  {
   "cell_type": "code",
   "execution_count": 8,
   "metadata": {},
   "outputs": [
    {
     "data": {
      "text/plain": [
       "81"
      ]
     },
     "execution_count": 8,
     "metadata": {},
     "output_type": "execute_result"
    }
   ],
   "source": [
    "(lambda x: x**4)(3)"
   ]
  },
  {
   "cell_type": "code",
   "execution_count": 9,
   "metadata": {},
   "outputs": [
    {
     "data": {
      "text/plain": [
       "8"
      ]
     },
     "execution_count": 9,
     "metadata": {},
     "output_type": "execute_result"
    }
   ],
   "source": [
    "g = lambda x: x**3\n",
    "g(2)"
   ]
  },
  {
   "cell_type": "markdown",
   "metadata": {},
   "source": [
    "* But that's somewhat pointless ..."
   ]
  },
  {
   "cell_type": "code",
   "execution_count": 10,
   "metadata": {},
   "outputs": [
    {
     "data": {
      "text/plain": [
       "'<lambda>'"
      ]
     },
     "execution_count": 10,
     "metadata": {},
     "output_type": "execute_result"
    }
   ],
   "source": [
    "g.__name__"
   ]
  },
  {
   "cell_type": "code",
   "execution_count": 11,
   "metadata": {},
   "outputs": [
    {
     "data": {
      "text/plain": [
       "\u001b[0;31mSignature:\u001b[0m \u001b[0mg\u001b[0m\u001b[0;34m(\u001b[0m\u001b[0mx\u001b[0m\u001b[0;34m)\u001b[0m\u001b[0;34m\u001b[0m\u001b[0;34m\u001b[0m\u001b[0m\n",
       "\u001b[0;31mDocstring:\u001b[0m <no docstring>\n",
       "\u001b[0;31mFile:\u001b[0m      /tmp/ipykernel_267878/1947591100.py\n",
       "\u001b[0;31mType:\u001b[0m      function"
      ]
     },
     "metadata": {},
     "output_type": "display_data"
    }
   ],
   "source": [
    "?g"
   ]
  },
  {
   "cell_type": "code",
   "execution_count": 12,
   "metadata": {},
   "outputs": [],
   "source": [
    "g.__doc__"
   ]
  },
  {
   "cell_type": "markdown",
   "metadata": {},
   "source": [
    "* Anonymous function an be quite useful inside other functions, e.g., as their arguments, or return values ..."
   ]
  },
  {
   "cell_type": "code",
   "execution_count": 13,
   "metadata": {},
   "outputs": [
    {
     "data": {
      "text/plain": [
       "[{'make': 'VW', 'year': 2013},\n",
       " {'make': 'Ford', 'year': 2015},\n",
       " {'make': 'Renault', 'year': 2023}]"
      ]
     },
     "execution_count": 13,
     "metadata": {},
     "output_type": "execute_result"
    }
   ],
   "source": [
    "mycars = [\n",
    "    { 'make': 'Ford', 'year': 2015 },\n",
    "    { 'make': 'VW', 'year': 2013 },\n",
    "    { 'make': 'Renault', 'year': 2023 }\n",
    "]\n",
    "mycars.sort(key = lambda car: car['year'])\n",
    "mycars"
   ]
  },
  {
   "cell_type": "markdown",
   "metadata": {},
   "source": [
    "## Functions returning functions\n",
    "\n",
    "* In Python, functions are **first class objects**.\n",
    "* In particular, this means that they can be **assigned** to variables, passed as **arguments** to a function, and **returned** by function, just like numbers or strings.\n",
    "* We shall see some examples of functions returning functions."
   ]
  },
  {
   "cell_type": "markdown",
   "metadata": {},
   "source": [
    "### Example."
   ]
  },
  {
   "cell_type": "markdown",
   "metadata": {},
   "source": [
    "* As a first example, let's make a function that returns the **power function** $f(x) = x^n$ if $n$ is given as an argument."
   ]
  },
  {
   "cell_type": "code",
   "execution_count": 14,
   "metadata": {},
   "outputs": [],
   "source": [
    "def power(n):\n",
    "    def power_n(x):\n",
    "        return x**n\n",
    "    return power_n"
   ]
  },
  {
   "cell_type": "code",
   "execution_count": 15,
   "metadata": {},
   "outputs": [
    {
     "data": {
      "text/plain": [
       "[0, 1, 4, 9, 16, 25, 36, 49, 64, 81]"
      ]
     },
     "execution_count": 15,
     "metadata": {},
     "output_type": "execute_result"
    }
   ],
   "source": [
    "p2 = power(2)\n",
    "[p2(x) for x in range(10)]"
   ]
  },
  {
   "cell_type": "code",
   "execution_count": 16,
   "metadata": {},
   "outputs": [
    {
     "data": {
      "text/plain": [
       "[0, 1, 8, 27, 64, 125, 216, 343, 512, 729]"
      ]
     },
     "execution_count": 16,
     "metadata": {},
     "output_type": "execute_result"
    }
   ],
   "source": [
    "p3 = power(3)\n",
    "[p3(x) for x in range(10)]"
   ]
  },
  {
   "cell_type": "markdown",
   "metadata": {},
   "source": [
    "* Here, a lambda expression could be used to shorten the definition of `power` as follows."
   ]
  },
  {
   "cell_type": "code",
   "execution_count": 17,
   "metadata": {},
   "outputs": [],
   "source": [
    "def power(n):\n",
    "    return lambda x : x**n"
   ]
  },
  {
   "cell_type": "code",
   "execution_count": 18,
   "metadata": {},
   "outputs": [
    {
     "data": {
      "text/plain": [
       "[0, 1, 4, 9, 16, 25, 36, 49, 64, 81]"
      ]
     },
     "execution_count": 18,
     "metadata": {},
     "output_type": "execute_result"
    }
   ],
   "source": [
    "p2 = power(2)\n",
    "[p2(x) for x in range(10)]"
   ]
  },
  {
   "cell_type": "markdown",
   "metadata": {},
   "source": [
    "*  We can then loop over such functions"
   ]
  },
  {
   "cell_type": "code",
   "execution_count": 19,
   "metadata": {},
   "outputs": [
    {
     "data": {
      "text/plain": [
       "[[1, 1, 1, 1, 1, 1, 1, 1, 1, 1],\n",
       " [0, 1, 2, 3, 4, 5, 6, 7, 8, 9],\n",
       " [0, 1, 4, 9, 16, 25, 36, 49, 64, 81],\n",
       " [0, 1, 8, 27, 64, 125, 216, 343, 512, 729],\n",
       " [0, 1, 16, 81, 256, 625, 1296, 2401, 4096, 6561]]"
      ]
     },
     "execution_count": 19,
     "metadata": {},
     "output_type": "execute_result"
    }
   ],
   "source": [
    "powers = []\n",
    "for n in range(5):\n",
    "    p = power(n)\n",
    "    powers.append([p(x) for x in range(10)])\n",
    "powers    "
   ]
  },
  {
   "cell_type": "markdown",
   "metadata": {},
   "source": [
    "* Or, using list comprehension:"
   ]
  },
  {
   "cell_type": "code",
   "execution_count": 20,
   "metadata": {},
   "outputs": [
    {
     "data": {
      "text/plain": [
       "[[1, 1, 1, 1, 1, 1, 1, 1, 1, 1],\n",
       " [0, 1, 2, 3, 4, 5, 6, 7, 8, 9],\n",
       " [0, 1, 4, 9, 16, 25, 36, 49, 64, 81],\n",
       " [0, 1, 8, 27, 64, 125, 216, 343, 512, 729],\n",
       " [0, 1, 16, 81, 256, 625, 1296, 2401, 4096, 6561]]"
      ]
     },
     "execution_count": 20,
     "metadata": {},
     "output_type": "execute_result"
    }
   ],
   "source": [
    "[[power(n)(x) for x in range(10)] for n in range(5)]"
   ]
  },
  {
   "cell_type": "markdown",
   "metadata": {},
   "source": [
    "* Of course, `power(n)(x)` is and does the same as `x**n`"
   ]
  },
  {
   "cell_type": "code",
   "execution_count": 21,
   "metadata": {},
   "outputs": [
    {
     "data": {
      "text/plain": [
       "[[1, 1, 1, 1, 1, 1, 1, 1, 1, 1],\n",
       " [0, 1, 2, 3, 4, 5, 6, 7, 8, 9],\n",
       " [0, 1, 4, 9, 16, 25, 36, 49, 64, 81],\n",
       " [0, 1, 8, 27, 64, 125, 216, 343, 512, 729],\n",
       " [0, 1, 16, 81, 256, 625, 1296, 2401, 4096, 6561]]"
      ]
     },
     "execution_count": 21,
     "metadata": {},
     "output_type": "execute_result"
    }
   ],
   "source": [
    "[[x**n for x in range(10)] for n in range(5)]"
   ]
  },
  {
   "cell_type": "markdown",
   "metadata": {},
   "source": [
    "## Renaming Functions"
   ]
  },
  {
   "cell_type": "markdown",
   "metadata": {},
   "source": [
    "* Did I say that `len` is a bad choice of a name?\n",
    "* Well, it's easy to change to, say, `length`."
   ]
  },
  {
   "cell_type": "code",
   "execution_count": 22,
   "metadata": {},
   "outputs": [],
   "source": [
    "length = len"
   ]
  },
  {
   "cell_type": "code",
   "execution_count": 23,
   "metadata": {},
   "outputs": [
    {
     "data": {
      "text/plain": [
       "10"
      ]
     },
     "execution_count": 23,
     "metadata": {},
     "output_type": "execute_result"
    }
   ],
   "source": [
    "length(range(10))"
   ]
  },
  {
   "cell_type": "markdown",
   "metadata": {},
   "source": [
    "* How long is a piece of string?"
   ]
  },
  {
   "cell_type": "code",
   "execution_count": 24,
   "metadata": {},
   "outputs": [
    {
     "data": {
      "text/plain": [
       "17"
      ]
     },
     "execution_count": 24,
     "metadata": {},
     "output_type": "execute_result"
    }
   ],
   "source": [
    "length(\"a piece of string\")"
   ]
  },
  {
   "cell_type": "markdown",
   "metadata": {},
   "source": [
    "* Even the documentation works."
   ]
  },
  {
   "cell_type": "code",
   "execution_count": 25,
   "metadata": {},
   "outputs": [
    {
     "data": {
      "text/plain": [
       "\u001b[0;31mSignature:\u001b[0m \u001b[0mlength\u001b[0m\u001b[0;34m(\u001b[0m\u001b[0mobj\u001b[0m\u001b[0;34m,\u001b[0m \u001b[0;34m/\u001b[0m\u001b[0;34m)\u001b[0m\u001b[0;34m\u001b[0m\u001b[0;34m\u001b[0m\u001b[0m\n",
       "\u001b[0;31mDocstring:\u001b[0m Return the number of items in a container.\n",
       "\u001b[0;31mType:\u001b[0m      builtin_function_or_method"
      ]
     },
     "metadata": {},
     "output_type": "display_data"
    }
   ],
   "source": [
    "?length"
   ]
  },
  {
   "cell_type": "markdown",
   "metadata": {},
   "source": [
    "* But:"
   ]
  },
  {
   "cell_type": "code",
   "execution_count": 26,
   "metadata": {
    "scrolled": true
   },
   "outputs": [
    {
     "data": {
      "text/plain": [
       "'len'"
      ]
     },
     "execution_count": 26,
     "metadata": {},
     "output_type": "execute_result"
    }
   ],
   "source": [
    "length.__name__"
   ]
  },
  {
   "cell_type": "markdown",
   "metadata": {},
   "source": [
    "## Shifting and Stretching"
   ]
  },
  {
   "cell_type": "markdown",
   "metadata": {},
   "source": [
    "* Shifting ..."
   ]
  },
  {
   "cell_type": "code",
   "execution_count": 27,
   "metadata": {},
   "outputs": [],
   "source": [
    "def shifted(f, v, h):\n",
    "    return lambda x: f(x - h) + v"
   ]
  },
  {
   "cell_type": "code",
   "execution_count": 28,
   "metadata": {},
   "outputs": [],
   "source": [
    "def f(x):\n",
    "    return (x**3 - x + 1)/2"
   ]
  },
  {
   "cell_type": "code",
   "execution_count": 29,
   "metadata": {},
   "outputs": [
    {
     "data": {
      "text/plain": [
       "[<matplotlib.lines.Line2D at 0x7dee74a14c50>]"
      ]
     },
     "execution_count": 29,
     "metadata": {},
     "output_type": "execute_result"
    },
    {
     "data": {
      "image/png": "[encoded data removed]",
      "text/plain": [
       "<Figure size 640x480 with 1 Axes>"
      ]
     },
     "metadata": {},
     "output_type": "display_data"
    }
   ],
   "source": [
    "xxx = np.linspace(-1.8, 1.1, 50)\n",
    "f1, f2 = shifted(f, 2, 0), shifted(f, -2, 0)\n",
    "f3, f4 = shifted(f, 0, 1/2), shifted(f, 0, -1/2)\n",
    "plt.plot(xxx, [f(x) for x in xxx])    # blue\n",
    "plt.plot(xxx, [f1(x) for x in xxx])   # orange\n",
    "plt.plot(xxx, [f2(x) for x in xxx])   # green\n",
    "plt.plot(xxx+1/2, [f3(x) for x in xxx+1/2])  # red\n",
    "plt.plot(xxx-1/2, [f4(x) for x in xxx-1/2])  # purple"
   ]
  },
  {
   "cell_type": "markdown",
   "metadata": {},
   "source": [
    "* Or like this:"
   ]
  },
  {
   "cell_type": "code",
   "execution_count": 30,
   "metadata": {},
   "outputs": [
    {
     "data": {
      "image/png": "[encoded data removed]",
      "text/plain": [
       "<Figure size 640x480 with 1 Axes>"
      ]
     },
     "metadata": {},
     "output_type": "display_data"
    }
   ],
   "source": [
    "params = [(0,0), (2,0), (-1,0), (0,1/2), (0,-1/2)]\n",
    "for v, h in params:\n",
    "    plt.plot(xxx+h, [shifted(f, v, h)(x) for x in xxx+h])  "
   ]
  },
  {
   "cell_type": "markdown",
   "metadata": {},
   "source": [
    "* ... and stretching:"
   ]
  },
  {
   "cell_type": "code",
   "execution_count": 31,
   "metadata": {},
   "outputs": [],
   "source": [
    "def stretched(f, v, h):\n",
    "    return lambda x: v * f(x / h)"
   ]
  },
  {
   "cell_type": "code",
   "execution_count": 32,
   "metadata": {},
   "outputs": [],
   "source": [
    "def g(x):\n",
    "    return ((x-3)**3 - (x-3) + 5)/2"
   ]
  },
  {
   "cell_type": "code",
   "execution_count": 33,
   "metadata": {},
   "outputs": [
    {
     "data": {
      "image/png": "[encoded data removed]",
      "text/plain": [
       "<Figure size 640x480 with 1 Axes>"
      ]
     },
     "metadata": {},
     "output_type": "display_data"
    }
   ],
   "source": [
    "xxx = np.linspace(1.2, 4.1, 50)\n",
    "params = [(1,1), (2,1), (1/2,1), (1,3), (1,1/3)]\n",
    "for v, h in params:\n",
    "    plt.plot(xxx*h, [stretched(g, v, h)(x) for x in xxx*h]) "
   ]
  },
  {
   "cell_type": "markdown",
   "metadata": {},
   "source": [
    "### Newton's method\n",
    "\n",
    "* As motivation and example, we use [Newton's method](https://en.wikipedia.org/wiki/Newton%27s_method) for approximating  a solution of an equation $f(x) = 0$, where $f \\colon \\mathbb{R} \\to \\mathbb{R}$ is a real function.\n",
    "* The method supposes that we know the function $f(x)$ as well as its derivative $f'(x)$. Then it works as follows:\n",
    "  1. Choose an initial solution $x_0$ and a desired tolerance value $\\varepsilon$.\n",
    "  2. Iteratively improve the solution using the formula $$x_{n+1} = x_n - f(x_n)/f'(x_n)$$ until $f(x_n) < \\varepsilon$.\n"
   ]
  },
  {
   "cell_type": "markdown",
   "metadata": {},
   "source": [
    "* Let us try and implement Newton's method.\n",
    "* The first obstacle is that even if we have a Python function implementing the function $f(x)$ in the equation we wish to solve, we might not have a good way of determining it derivative $f'(x)$."
   ]
  },
  {
   "cell_type": "markdown",
   "metadata": {},
   "source": [
    "#### Computing the Derivative of A Function\n",
    "\n",
    "* So we start with implementing a Python function that computes an **approximation** to the derivative of $f(x)$.\n",
    "* Recall the **definition of the derivative** of a function $f(x)$:\n",
    "$$\n",
    "f'(x) = \\lim_{h \\rightarrow 0} \\frac{f(x+h) - f(x)}{h}.\n",
    "$$\n",
    "* Thus, for sufficiently small $h$, we get the following approximation of the derivative:\n",
    "$$\n",
    "f'(x) \\approx \\frac{f(x+h) - f(x)}{h}.\n",
    "$$\n",
    "* While it is not entirely clear what \"sufficiently small\" means, this is something we can implement in Python.\n",
    "* As a function `diff` with the following parameters:  \n",
    "  1. the function $f(x)$ that we wish to differentiate,\n",
    "  2. the value of $h$,    \n",
    "  returning a Python function that computes the derivative $f'(x)$."
   ]
  },
  {
   "cell_type": "code",
   "execution_count": 34,
   "metadata": {},
   "outputs": [],
   "source": [
    "def diff(f, h):\n",
    "    '''return an approximation of f'(x) using the formula\n",
    "       f'(x) ~ (f(x+h) - f(x))/h'''\n",
    "    def fprime(x):\n",
    "        return (f(x+h) - f(x))/h\n",
    "    return fprime"
   ]
  },
  {
   "cell_type": "markdown",
   "metadata": {},
   "source": [
    "* Or, using a lambda expression, like so:\n",
    "  "
   ]
  },
  {
   "cell_type": "code",
   "execution_count": 35,
   "metadata": {},
   "outputs": [],
   "source": [
    "def diff(f, h):\n",
    "    \"\"\"f'(x) ~ (f(x+h) - f(x))/h\"\"\"\n",
    "    return lambda x: (f(x+h) - f(x))/h"
   ]
  },
  {
   "cell_type": "markdown",
   "metadata": {},
   "source": [
    "* **Example.** We'll use the `diff` function to compute an approximation of the derivative of $f(x) = \\sin(x)$.\n",
    "* Let's take $h = 0.0001 = 10^{-4}$."
   ]
  },
  {
   "cell_type": "code",
   "execution_count": 36,
   "metadata": {},
   "outputs": [],
   "source": [
    "f = math.sin\n",
    "h = 10**-4\n",
    "fprime = diff(f, h)"
   ]
  },
  {
   "cell_type": "markdown",
   "metadata": {},
   "source": [
    "* Now, when we call `fprime` with some value, say 3, it returns\n",
    "  $$\n",
    "  \\frac{\\sin(3 + 10^{-4}) - \\sin(3)}{10^{-4}}\n",
    "  $$\n",
    "* Whatever the value of $x$, this function `fprime` will use the same value for `h` once and for all."
   ]
  },
  {
   "cell_type": "code",
   "execution_count": 37,
   "metadata": {},
   "outputs": [
    {
     "data": {
      "text/plain": [
       "-0.9899995509529691"
      ]
     },
     "execution_count": 37,
     "metadata": {},
     "output_type": "execute_result"
    }
   ],
   "source": [
    "fprime(3)"
   ]
  },
  {
   "cell_type": "code",
   "execution_count": 38,
   "metadata": {},
   "outputs": [
    {
     "data": {
      "text/plain": [
       "[-0.4161923007262036,\n",
       " -0.8011735378210538,\n",
       " -0.9899995509529691,\n",
       " -0.9364391465704891,\n",
       " -0.6536057796480144]"
      ]
     },
     "execution_count": 38,
     "metadata": {},
     "output_type": "execute_result"
    }
   ],
   "source": [
    "[fprime(x) for x in np.linspace(2, 4, 5)]"
   ]
  },
  {
   "cell_type": "markdown",
   "metadata": {},
   "source": [
    "#### Investigating `diff`.\n",
    "\n",
    "* You know that $f'(x) = \\cos x$.\n",
    "* Let's plot `math.cos(x)` and our `fprime` side by side, on the interval $[0, 2\\pi]$."
   ]
  },
  {
   "cell_type": "code",
   "execution_count": 39,
   "metadata": {},
   "outputs": [
    {
     "data": {
      "text/plain": [
       "[<matplotlib.lines.Line2D at 0x7dee74941ac0>]"
      ]
     },
     "execution_count": 39,
     "metadata": {},
     "output_type": "execute_result"
    },
    {
     "data": {
      "image/png": "[encoded data removed]",
      "text/plain": [
       "<Figure size 640x480 with 1 Axes>"
      ]
     },
     "metadata": {},
     "output_type": "display_data"
    }
   ],
   "source": [
    "xxx = np.linspace(0, 2*math.pi) # default: 50 x-values\n",
    "plt.plot(xxx, [fprime(x) for x in xxx])\n",
    "plt.plot(xxx, [math.cos(x) for x in xxx])"
   ]
  },
  {
   "cell_type": "markdown",
   "metadata": {},
   "source": [
    "* They're hard to tell apart: the orange curve (for `math.cos`) almost completely covers the blue curve (for `fprime`)!\n",
    "* Perhaps a plot of the actual difference between those two functions reveals more ..."
   ]
  },
  {
   "cell_type": "code",
   "execution_count": 40,
   "metadata": {},
   "outputs": [
    {
     "data": {
      "text/plain": [
       "[<matplotlib.lines.Line2D at 0x7dee749d0a10>]"
      ]
     },
     "execution_count": 40,
     "metadata": {},
     "output_type": "execute_result"
    },
    {
     "data": {
      "image/png": "[encoded data removed]",
      "text/plain": [
       "<Figure size 640x480 with 1 Axes>"
      ]
     },
     "metadata": {},
     "output_type": "display_data"
    }
   ],
   "source": [
    "yyy = [math.cos(x) - fprime(x) for x in xxx]\n",
    "plt.plot(xxx, yyy)"
   ]
  },
  {
   "cell_type": "markdown",
   "metadata": {},
   "source": [
    "* Hmm ...  (discuss)"
   ]
  },
  {
   "cell_type": "code",
   "execution_count": 41,
   "metadata": {},
   "outputs": [
    {
     "name": "stdout",
     "output_type": "stream",
     "text": [
      "[1.66666658252268e-09, 6.395511154111411e-06, 1.2684341347934946e-05, 1.8764895084899536e-05, 2.4537330176599426e-05, 2.9906862357598207e-05, 3.4785325056851946e-05, 3.909261365664385e-05, 4.275800156505749e-05, 4.5721306029478104e-05, 4.7933867574123656e-05, 4.935935453639906e-05, 4.997436427867097e-05, 4.9768795346669115e-05, 4.874602437432429e-05, 4.692284481155884e-05, 4.432919515656719e-05, 4.1007660899206044e-05, 3.701278023671151e-05, 3.2410152561057615e-05, 2.7275349859245956e-05, 2.169268759022458e-05, 1.575383133389785e-05, 9.55629751775433e-06, 3.2018498368202586e-06, -3.2051721594594795e-06, -9.559565263939085e-06, -1.5756990951132366e-05, -2.1695686969747108e-05, -2.727813964475967e-05, -3.241268675790998e-05, -3.701501809949548e-05, -4.1009567665617475e-05, -4.4330736462205866e-05, -4.6923997708447907e-05, -4.8746767243451616e-05, -4.976911590096056e-05, -4.99742573231432e-05, -4.9358822430789484e-05, -4.793291804755517e-05, -4.571995520119554e-05, -4.27562718757768e-05, -3.909053296702325e-05, -3.478292832392871e-05, -2.990418819937002e-05, -2.4534423151312268e-05, -1.876180333060251e-05, -1.2681114499257795e-05, -6.392202789307078e-06, 1.6689972737182757e-09]\n"
     ]
    }
   ],
   "source": [
    "print(yyy)"
   ]
  },
  {
   "cell_type": "markdown",
   "metadata": {},
   "source": [
    "#### Implementing Newton's Method"
   ]
  },
  {
   "cell_type": "markdown",
   "metadata": {},
   "source": [
    "* Next, we use `diff` to implement Newton's method as a function `newton` which takes as arguments the function `f` (from the equation $f(x) = 0$), a small tolerance `eps` (so that we stop can stop searching for $x$ once $|f(x)| < \\epsilon$), and the small value `h` needed for the derivative $f'(x)$.\n",
    "* A call to  `newton(f, eps, h)` will then **return a function** `solve(x)` that takes an initial guess `x`, and computes an **approximate root** to the function $f$.\n",
    "* As before, we fix `eps` and `h` from the start."
   ]
  },
  {
   "cell_type": "code",
   "execution_count": 42,
   "metadata": {},
   "outputs": [],
   "source": [
    "def newton(f, eps, h):\n",
    "    '''Return a function that given an initial guess, approximately solves f(x) = 0'''\n",
    "    fprime = diff(f, h) # fprime is the derivative of f\n",
    "    def solve(x):\n",
    "        while abs(f(x)) >= eps:\n",
    "            x -= f(x)/fprime(x)\n",
    "        return x\n",
    "    return solve"
   ]
  },
  {
   "cell_type": "markdown",
   "metadata": {},
   "source": [
    "* Let's try to solve an equation that we know the solution to, namely\n",
    "  $$\n",
    "  \\sin(x) = \\frac{\\sqrt{2}}{2}\n",
    "  $$\n",
    "* The solutions are: $x = \\pi/4 + 2\\pi n$ and $x = 3\\pi/4 + 2\\pi n$ for $n \\in \\mathbb{Z}$. (Check!)"
   ]
  },
  {
   "cell_type": "code",
   "execution_count": 43,
   "metadata": {},
   "outputs": [],
   "source": [
    "eps = h = 10**-5\n",
    "f = lambda x:  math.sin(x) - math.sqrt(2)/2\n",
    "eqsolve = newton(f, eps, h)"
   ]
  },
  {
   "cell_type": "code",
   "execution_count": 44,
   "metadata": {},
   "outputs": [
    {
     "name": "stdout",
     "output_type": "stream",
     "text": [
      "0.7853945557170668\n"
     ]
    }
   ],
   "source": [
    "approx_solution = eqsolve(0)\n",
    "print(approx_solution)"
   ]
  },
  {
   "cell_type": "markdown",
   "metadata": {},
   "source": [
    "* Compare this to the exact root $\\pi/4$."
   ]
  },
  {
   "cell_type": "code",
   "execution_count": 45,
   "metadata": {},
   "outputs": [
    {
     "data": {
      "text/plain": [
       "3.6076803814344416e-06"
      ]
     },
     "execution_count": 45,
     "metadata": {},
     "output_type": "execute_result"
    }
   ],
   "source": [
    "abs(math.pi/4 - approx_solution)"
   ]
  },
  {
   "cell_type": "markdown",
   "metadata": {},
   "source": [
    "* Let's get a list of approximate roots for different starting points."
   ]
  },
  {
   "cell_type": "code",
   "execution_count": 46,
   "metadata": {},
   "outputs": [
    {
     "name": "stdout",
     "output_type": "stream",
     "text": [
      "[  0.78539456   0.78539625   0.78539791   0.78539816   0.78539804\n",
      "   0.78539781   0.78539814   0.78539816   7.06858004   2.35619523\n",
      "   2.35620108   2.35619449   2.35620132   2.35619456   2.35619556\n",
      "   2.35619777   2.35619718   2.35619455   2.35620649   2.35620803\n",
      "  -3.92699057   0.78539777  -3.92698719 -87.17919636   7.06858347\n",
      "   8.63938339   8.63938341   7.06858347   7.06858347   7.06858347\n",
      "   7.06858139   7.06857997   7.06858204   7.06858334   7.06858347\n",
      "   7.06857861   7.06858161   7.06858331  19.63495277   8.6393798\n",
      "   8.63937992   8.6393813    8.63938316   8.6393798    8.63937995\n",
      "   8.63938131   8.63938335   8.63938179   8.6393798    8.6393798 ]\n"
     ]
    }
   ],
   "source": [
    "approxroots = np.array([eqsolve(x) for x in np.linspace(0,10)])\n",
    "print(approxroots)"
   ]
  },
  {
   "cell_type": "markdown",
   "metadata": {},
   "source": [
    "* Convert the solutions list to the integers $\\{k : \\frac{k \\pi}{4} \\in \\mathtt{approxroots}\\}$."
   ]
  },
  {
   "cell_type": "code",
   "execution_count": 47,
   "metadata": {},
   "outputs": [
    {
     "name": "stdout",
     "output_type": "stream",
     "text": [
      "[   0.99999541    0.99999756    0.99999967    1.            0.99999984\n",
      "    0.99999955    0.99999997    1.            8.99999564    3.00000094\n",
      "    3.00000839    3.            3.0000087     3.00000009    3.00000136\n",
      "    3.00000418    3.00000342    3.00000007    3.00001528    3.00001724\n",
      "   -4.99999968    0.9999995    -4.99999538 -111.00000028    9.\n",
      "   11.00000458   11.0000046     9.            9.            9.\n",
      "    8.99999735    8.99999555    8.99999818    8.99999984    9.\n",
      "    8.99999381    8.99999763    8.9999998    24.99999833   11.00000001\n",
      "   11.00000016   11.00000191   11.00000428   11.           11.00000019\n",
      "   11.00000193   11.00000453   11.00000254   11.           11.        ]\n"
     ]
    }
   ],
   "source": [
    "mults = approxroots * 4 / math.pi\n",
    "print(mults)"
   ]
  },
  {
   "cell_type": "markdown",
   "metadata": {},
   "source": [
    "* Round to actual integer values, and check how close the original approximations are to integer values."
   ]
  },
  {
   "cell_type": "code",
   "execution_count": 48,
   "metadata": {},
   "outputs": [
    {
     "name": "stdout",
     "output_type": "stream",
     "text": [
      "1.723738802761332e-05\n"
     ]
    }
   ],
   "source": [
    "numbers = np.round(mults, 0)\n",
    "print(np.max(np.abs(numbers - mults)))"
   ]
  },
  {
   "cell_type": "markdown",
   "metadata": {},
   "source": [
    "* Finally, list all the integers that occur, and the set of their values modulo $8$."
   ]
  },
  {
   "cell_type": "code",
   "execution_count": 49,
   "metadata": {},
   "outputs": [
    {
     "name": "stdout",
     "output_type": "stream",
     "text": [
      "[   1.    1.    1.    1.    1.    1.    1.    1.    9.    3.    3.    3.\n",
      "    3.    3.    3.    3.    3.    3.    3.    3.   -5.    1.   -5. -111.\n",
      "    9.   11.   11.    9.    9.    9.    9.    9.    9.    9.    9.    9.\n",
      "    9.    9.   25.   11.   11.   11.   11.   11.   11.   11.   11.   11.\n",
      "   11.   11.]\n",
      "{np.float64(1.0), np.float64(3.0)}\n"
     ]
    }
   ],
   "source": [
    "print(numbers)\n",
    "print(set(numbers % 8))"
   ]
  },
  {
   "cell_type": "markdown",
   "metadata": {},
   "source": [
    "* So, modulo $8$, only $\\frac{\\pi}{4}$ and $\\frac{3\\pi}{4}$ are found as solutions, which agrees with the actual solutions."
   ]
  },
  {
   "cell_type": "markdown",
   "metadata": {},
   "source": [
    "## References"
   ]
  },
  {
   "cell_type": "markdown",
   "metadata": {},
   "source": [
    "* Newton's Method: [wikipedia](https://en.wikipedia.org/wiki/Newton%27s_method)\n",
    "* Euler's Method: [wikipedia](https://en.wikipedia.org/wiki/Euler_method)"
   ]
  },
  {
   "cell_type": "markdown",
   "metadata": {},
   "source": [
    "### Python\n",
    "\n",
    "* [dir](https://docs.python.org/3/library/functions.html#dir)\n",
    "* [lambda](https://docs.python.org/3/reference/expressions.html#lambda)\n",
    "* [lambda expressions](https://realpython.com/python-lambda/)\n",
    "* [/](https://stackoverflow.com/questions/28243832/what-is-the-meaning-of-a-forward-slash-in-a-python-method-signature-as-show)"
   ]
  },
  {
   "cell_type": "markdown",
   "metadata": {},
   "source": [
    "##  Exercises"
   ]
  },
  {
   "cell_type": "markdown",
   "metadata": {},
   "source": [
    "* Implement Euler's method for the approximate numerical solution of a first-order initial value problem of the form\n",
    "  $$\n",
    "  \\begin{cases}\n",
    "  y' = f(t, y(t)) \\\\\n",
    "  y(t_0) = y_0\n",
    "  \\end{cases}\n",
    "  $$\n",
    "  as a function `euler` that takes $f$, $t_0$, $y_0$ and a stepsize $h$ as arguments, and constructs and returns a function `solver` with parameter `n` that computes a approximation of the solution $y(t_n)$, where $t_n = t_0 + nh$, and $y_{i+1} = y_i + h f(t_i, y_i)$."
   ]
  },
  {
   "cell_type": "code",
   "execution_count": null,
   "metadata": {},
   "outputs": [],
   "source": []
  },
  {
   "cell_type": "markdown",
   "metadata": {},
   "source": [
    "* Use your function `euler` to approximately solve the initial value problem\n",
    "  $$\n",
    "  \\begin{cases}\n",
    "  y' = 2y + t^2 - t \\\\\n",
    "  y(0) = 1\n",
    "  \\end{cases}\n",
    "  $$\n",
    "  using a step size of $h = 0.01$.  This initial-value problem has the exact solution $y(t) = e^{2t} -t^2/2$ which can be verified by differentiation.  Plot your solution and the exact solution over `np.linspace(0, 1, 101)`."
   ]
  },
  {
   "cell_type": "code",
   "execution_count": null,
   "metadata": {},
   "outputs": [],
   "source": []
  }
 ],
 "metadata": {
  "kernelspec": {
   "display_name": "Python 3 (ipykernel)",
   "language": "python",
   "name": "python3"
  },
  "language_info": {
   "codemirror_mode": {
    "name": "ipython",
    "version": 3
   },
   "file_extension": ".py",
   "mimetype": "text/x-python",
   "name": "python",
   "nbconvert_exporter": "python",
   "pygments_lexer": "ipython3",
   "version": "3.12.3"
  }
 },
 "nbformat": 4,
 "nbformat_minor": 4
}
