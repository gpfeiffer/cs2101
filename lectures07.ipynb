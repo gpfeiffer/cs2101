{
 "cells": [
  {
   "cell_type": "markdown",
   "metadata": {},
   "source": [
    "### CS2101 - Programming for Science and Finance\n",
    "Prof. Götz Pfeiffer<br />\n",
    "School of Mathematical and Statistical Sciences<br />\n",
    "University of Galway\n",
    "\n",
    "***"
   ]
  },
  {
   "cell_type": "markdown",
   "metadata": {},
   "source": [
    "# Week 7: Transformations"
   ]
  },
  {
   "cell_type": "markdown",
   "metadata": {},
   "source": [
    "## Linear Transformations"
   ]
  },
  {
   "cell_type": "markdown",
   "metadata": {},
   "source": [
    "* In this notebook we will look at **linear transformations** of images.\n",
    "* Instead of manipulating the colour intensities in each pixel, we shall now move the pixels around.\n",
    "* Examples that we have already seen are flips along the $x$-axis and along the $y$-axis, but we shall see examples of other kinds of transformations shortly. "
   ]
  },
  {
   "cell_type": "code",
   "execution_count": null,
   "metadata": {},
   "outputs": [],
   "source": [
    "import numpy as np\n",
    "from PIL import Image"
   ]
  },
  {
   "cell_type": "code",
   "execution_count": null,
   "metadata": {},
   "outputs": [],
   "source": [
    "img = Image.open('images/long_walk.png')\n",
    "pic = np.asarray(img)\n",
    "print(pic.shape)\n",
    "Image.fromarray(pic)"
   ]
  },
  {
   "cell_type": "markdown",
   "metadata": {},
   "source": [
    "* Let us extract a square part of the image. Say 201 by 201 pixels."
   ]
  },
  {
   "cell_type": "code",
   "execution_count": null,
   "metadata": {},
   "outputs": [],
   "source": [
    "part = pic[:,450:651,:]\n",
    "Image.fromarray(part)"
   ]
  },
  {
   "cell_type": "markdown",
   "metadata": {},
   "source": [
    "## Rotations\n",
    "\n",
    "* The **matrix** $R$ of a **counter-clockwise rotation** by an angle $\\alpha$ about the origin $(0,0)$ of the $x, y$-coordinate plane has the form\n",
    "  $$\n",
    "  R = \\left(\\begin{array}{cc}\n",
    "  \\cos \\alpha & -\\sin \\alpha \\\\ \\sin \\alpha & \\cos \\alpha\n",
    "  \\end{array}\\right).\n",
    "  $$\n",
    "* It maps a point $(x, y)$ to the point\n",
    "  $$\n",
    "  R \\left(\\begin{array}{c}\n",
    "  x \\\\ y\n",
    "  \\end{array}\\right) =\n",
    "  \\left(\\begin{array}{cc}\n",
    "  \\cos \\alpha & -\\sin \\alpha \\\\ \\sin \\alpha & \\cos \\alpha\n",
    "  \\end{array}\\right)\\left(\\begin{array}{c}\n",
    "  x \\\\ y\n",
    "  \\end{array}\\right)\n",
    "  =\n",
    "  \\left(\\begin{array}{c}\n",
    "  x \\cos \\alpha - y \\sin \\alpha \\\\ x \\sin \\alpha + y \\cos \\alpha\n",
    "  \\end{array}\\right).\n",
    "  $$\n",
    "* Let's check with numpy."
   ]
  },
  {
   "cell_type": "code",
   "execution_count": null,
   "metadata": {},
   "outputs": [],
   "source": [
    "from math import pi, sin, cos\n",
    "alpha = pi/4\n",
    "rot = np.array([[cos(alpha), -sin(alpha)],[sin(alpha), cos(alpha)]])\n",
    "rot"
   ]
  },
  {
   "cell_type": "code",
   "execution_count": null,
   "metadata": {},
   "outputs": [],
   "source": [
    "from math import sqrt\n",
    "1/sqrt(2)"
   ]
  },
  {
   "cell_type": "markdown",
   "metadata": {},
   "source": [
    "* Where are the standard basis vectors rotated to?"
   ]
  },
  {
   "cell_type": "code",
   "execution_count": null,
   "metadata": {},
   "outputs": [],
   "source": [
    "e0 = np.array([1,0])\n",
    "e1 = np.array([0,1])"
   ]
  },
  {
   "cell_type": "markdown",
   "metadata": {},
   "source": [
    "* Recall that Numpy uses the symbol `@` for matrix multiplication."
   ]
  },
  {
   "cell_type": "code",
   "execution_count": null,
   "metadata": {},
   "outputs": [],
   "source": [
    "rot @ e0"
   ]
  },
  {
   "cell_type": "code",
   "execution_count": null,
   "metadata": {},
   "outputs": [],
   "source": [
    "rot @ e1"
   ]
  },
  {
   "cell_type": "code",
   "execution_count": null,
   "metadata": {},
   "outputs": [],
   "source": [
    "rot @ rot @ e0"
   ]
  },
  {
   "cell_type": "markdown",
   "metadata": {},
   "source": [
    "## Rotating an Image"
   ]
  },
  {
   "cell_type": "markdown",
   "metadata": {},
   "source": [
    "* First we **rotate** by going through the source image pixel by pixel and filling out the corresponding rotated pixel in the target. (Later we will do it the other way round).\n",
    "* We are using `r` and `c` to denote the row and column in the picture - i.e. the coordinate system shown above:\n",
    "  * `r` starts at 0 the top and increases downwards,\n",
    "  * and `c` starts at `0` at the left and increases rightwards.\n",
    "* The coordinates `x` and `y` are in a **standard coordinate system** with the **origin at the center** pixel of the image.\n",
    "* We have to convert between $(r, c)$ and $(x, y)$ before applying the **transformation matrix**."
   ]
  },
  {
   "cell_type": "code",
   "execution_count": null,
   "metadata": {},
   "outputs": [],
   "source": [
    "# how to get (x, y) from (r, c)\n",
    "def xy_rc(N, r, c):\n",
    "    return c - N, N - r"
   ]
  },
  {
   "cell_type": "code",
   "execution_count": null,
   "metadata": {},
   "outputs": [],
   "source": [
    "# how to get (r, c) from (x, y)\n",
    "def rc_xy(N, x, y):\n",
    "    return N - y, x + N"
   ]
  },
  {
   "cell_type": "markdown",
   "metadata": {},
   "source": [
    "* Let's define an angle $\\alpha$, the `source` image, and a `target` of the same size, initially all black."
   ]
  },
  {
   "cell_type": "code",
   "execution_count": null,
   "metadata": {},
   "outputs": [],
   "source": [
    "alpha = pi/6\n",
    "source = part\n",
    "target = np.zeros(source.shape, dtype = np.uint8)\n",
    "N = source.shape[0]//2"
   ]
  },
  {
   "cell_type": "code",
   "execution_count": null,
   "metadata": {},
   "outputs": [],
   "source": [
    "Image.fromarray(target)"
   ]
  },
  {
   "cell_type": "markdown",
   "metadata": {},
   "source": [
    "* Now **loop** through the pixels of the source image.\n",
    "* Some pixels may have been rotated outside of the image array\n",
    "* So we need to check that their new position is valid before saving the values in the target array."
   ]
  },
  {
   "cell_type": "code",
   "execution_count": null,
   "metadata": {},
   "outputs": [],
   "source": [
    "for r in range(source.shape[0]):\n",
    "    for c in range(source.shape[1]):\n",
    "        x, y = xy_rc(N, r, c)\n",
    "\n",
    "        # rotate\n",
    "        x1 = int(x*cos(alpha) - y*sin(alpha))\n",
    "        y1 = int(x*sin(alpha) + y*cos(alpha))\n",
    "\n",
    "        r1, c1 = rc_xy(N, x1, y1)\n",
    "\n",
    "        # check validity of new position\n",
    "        if 0 <= r1 < target.shape[0] and 0 <= c1 < target.shape[1]:\n",
    "            target[r1,c1,:] = source[r,c,:]       "
   ]
  },
  {
   "cell_type": "code",
   "execution_count": null,
   "metadata": {},
   "outputs": [],
   "source": [
    "Image.fromarray(target)"
   ]
  },
  {
   "cell_type": "markdown",
   "metadata": {},
   "source": [
    "* The result looks kind of OK -- but some pixels seem to be missing.\n",
    "* That's why we will do it 'backwards': iterating over the pixels in the **target** image.\n",
    "* By doing that, we make sure that every pixel in the relevant area of the target image is filled with an appropriate value."
   ]
  },
  {
   "cell_type": "code",
   "execution_count": null,
   "metadata": {},
   "outputs": [],
   "source": [
    "# let's try to rotate:\n",
    "alpha = pi/12\n",
    "source = part\n",
    "target = np.zeros(part.shape, dtype = np.uint8)\n",
    "N = source.shape[0]//2"
   ]
  },
  {
   "cell_type": "markdown",
   "metadata": {},
   "source": [
    "* The **inverse** of a rotation by $\\alpha$ is a rotion by $-\\alpha$.\n",
    "* Using $\\sin(-\\alpha) = -\\sin(\\alpha)$ and $\\cos(-\\alpha) = \\cos(\\alpha)$, we have\n",
    "  $$\n",
    "  R^{-1} = \\left(\\begin{array}{cc}\n",
    "  \\cos \\alpha & \\sin \\alpha \\\\ -\\sin \\alpha & \\cos \\alpha\n",
    "  \\end{array}\\right).\n",
    "  $$"
   ]
  },
  {
   "cell_type": "markdown",
   "metadata": {},
   "source": [
    "* Check:"
   ]
  },
  {
   "cell_type": "code",
   "execution_count": null,
   "metadata": {},
   "outputs": [],
   "source": [
    "rot = np.array([[cos(alpha), -sin(alpha)],[sin(alpha), cos(alpha)]])\n",
    "rot1 = np.array([[cos(alpha), sin(alpha)],[-sin(alpha), cos(alpha)]])\n",
    "rot1 @ rot"
   ]
  },
  {
   "cell_type": "code",
   "execution_count": null,
   "metadata": {},
   "outputs": [],
   "source": [
    "# loop through the pixels of the target image.\n",
    "for r in range(target.shape[0]):\n",
    "    for c in range(target.shape[1]):\n",
    "        x, y = xy_rc(N, r, c)\n",
    "        \n",
    "        # compute the inverse image of this. multiply by the inverse of the rotation matrix!!\n",
    "        x1 = int(x*cos(alpha) + y*sin(alpha))\n",
    "        y1 = int(-x*sin(alpha) + y*cos(alpha))\n",
    "\n",
    "        r1, c1 = rc_xy(N, x1, y1)\n",
    "\n",
    "        # only save pixels that are inside the appropriate bounds for the array\n",
    "        if 0 <= r1 < source.shape[0] and 0 <= c1 < source.shape[1]:\n",
    "            target[r,c,:] = source[r1,c1,:]\n",
    "        "
   ]
  },
  {
   "cell_type": "code",
   "execution_count": null,
   "metadata": {},
   "outputs": [],
   "source": [
    "Image.fromarray(target)"
   ]
  },
  {
   "cell_type": "markdown",
   "metadata": {},
   "source": [
    "* Much better!"
   ]
  },
  {
   "cell_type": "markdown",
   "metadata": {},
   "source": [
    "* The code we just wrote works for all kinds of invertible linear transformations, not just rotations.\n",
    "* We should now write a **function** to do this."
   ]
  },
  {
   "cell_type": "code",
   "execution_count": null,
   "metadata": {},
   "outputs": [],
   "source": [
    "def lin_trans_im(image, arr):\n",
    "    \"\"\"apply a linear transformation.\n",
    "    image is a numpy array with dtype uint8 representing an image.\n",
    "    arr is an invertible 2x2 matrix\"\"\"\n",
    "\n",
    "    target = np.zeros(image.shape, dtype = np.uint8)\n",
    "    N = image.shape[0]//2\n",
    "\n",
    "    # compute the inverse of arr\n",
    "    arr1 = np.linalg.inv(arr)\n",
    "    \n",
    "    # loop through the pixels of the target image.\n",
    "    for r in range(target.shape[0]):\n",
    "        for c in range(target.shape[1]):\n",
    "            # now. First change the the (r,c) to (x,y) where the\n",
    "            # middle pixel has (x,y)-coordinates (0,0)\n",
    "            x, y = xy_rc(N, r, c)\n",
    "            # now compute the inverse image of this. multiply by the inverse of arr!!  \n",
    "            x1 = int(x*arr1[0,0] + y*arr1[0,1])\n",
    "            y1 = int(x*arr1[1,0] + y*arr1[1,1])\n",
    "            # compute the indices in the source image\n",
    "            r1, c1 = rc_xy(N, x1, y1)\n",
    "\n",
    "            if 0 <= r1 < image.shape[0] and 0 <= c1 < image.shape[1]:\n",
    "                target[r,c,:] = image[r1,c1,:]\n",
    "    return target"
   ]
  },
  {
   "cell_type": "markdown",
   "metadata": {},
   "source": [
    "* Questions on this code:\n",
    "  * Is there a more direct way to make an array of zeros, with shape and type of `image`?\n",
    "  * Can `N`, `M` be found by simultaneous assignment?\n",
    "  * What was the formula for the inverse of a $2 \\times 2$ matrix?\n",
    "  * Can one use matrix multiplication to find $x_1, y_1$?"
   ]
  },
  {
   "cell_type": "code",
   "execution_count": null,
   "metadata": {},
   "outputs": [],
   "source": [
    "rot = np.array([cos(alpha),-sin(alpha),sin(alpha),cos(alpha)]).reshape(2,2)\n",
    "rot"
   ]
  },
  {
   "cell_type": "code",
   "execution_count": null,
   "metadata": {},
   "outputs": [],
   "source": [
    "rotim = lin_trans_im(part,rot)"
   ]
  },
  {
   "cell_type": "code",
   "execution_count": null,
   "metadata": {},
   "outputs": [],
   "source": [
    "Image.fromarray(rotim)"
   ]
  },
  {
   "cell_type": "markdown",
   "metadata": {},
   "source": [
    "## Reflections\n",
    "\n",
    "The matrix for a reflection in a line through the origin with angle $\\alpha$ to the $x$-axis is given by\n",
    "$$\n",
    "\\begin{pmatrix}\n",
    "\\cos 2\\alpha & \\sin 2\\alpha \\\\\n",
    "\\sin 2\\alpha & -\\cos 2\\alpha\n",
    "\\end{pmatrix}\n",
    "$$\n",
    "\n",
    "We'll try that as well, with an angle of 45 degrees ( $ = \\pi/4$)."
   ]
  },
  {
   "cell_type": "code",
   "execution_count": null,
   "metadata": {},
   "outputs": [],
   "source": [
    "alpha = pi/4\n",
    "refl = np.array([cos(2*alpha), sin(2*alpha), sin(2*alpha), -cos(2*alpha)]).reshape(2,2)\n",
    "reflim = lin_trans_im(part,refl)"
   ]
  },
  {
   "cell_type": "code",
   "execution_count": null,
   "metadata": {},
   "outputs": [],
   "source": [
    "Image.fromarray(reflim)"
   ]
  },
  {
   "cell_type": "markdown",
   "metadata": {},
   "source": [
    "We can express a horizontal flip (a reflection in the $y$-axis) with the matrix\n",
    "$$\n",
    "\\begin{pmatrix}\n",
    "-1 & 0 \\\\\n",
    "0 & 1\n",
    "\\end{pmatrix}\n",
    "$$"
   ]
  },
  {
   "cell_type": "code",
   "execution_count": null,
   "metadata": {},
   "outputs": [],
   "source": [
    "flip = np.array([-1,0,0,1]).reshape((2,2))\n",
    "flipim = lin_trans_im(part, flip)"
   ]
  },
  {
   "cell_type": "code",
   "execution_count": null,
   "metadata": {},
   "outputs": [],
   "source": [
    "Image.fromarray(flipim)"
   ]
  },
  {
   "cell_type": "markdown",
   "metadata": {},
   "source": [
    "## References"
   ]
  },
  {
   "cell_type": "markdown",
   "metadata": {},
   "source": [
    "* Rotation ([wikipedia](https://en.wikipedia.org/wiki/Rotation_matrix))\n",
    "* Reflection ([wikipedia](https://en.wikipedia.org/wiki/Reflection_(mathematics)))"
   ]
  },
  {
   "cell_type": "markdown",
   "metadata": {},
   "source": [
    "### `python`"
   ]
  },
  {
   "cell_type": "markdown",
   "metadata": {},
   "source": [
    "### `numpy`\n",
    "\n",
    "* [`np.linalg.inv`](https://numpy.org/doc/stable/reference/generated/numpy.linalg.inv.html)\n",
    "* Matrix multiplication in [numpy](https://numpy.org/doc/stable/reference/generated/numpy.matmul.html)"
   ]
  },
  {
   "cell_type": "markdown",
   "metadata": {},
   "source": [
    "## Exercises"
   ]
  },
  {
   "cell_type": "code",
   "execution_count": null,
   "metadata": {},
   "outputs": [],
   "source": []
  }
 ],
 "metadata": {
  "kernelspec": {
   "display_name": "Python 3 (ipykernel)",
   "language": "python",
   "name": "python3"
  },
  "language_info": {
   "codemirror_mode": {
    "name": "ipython",
    "version": 3
   },
   "file_extension": ".py",
   "mimetype": "text/x-python",
   "name": "python",
   "nbconvert_exporter": "python",
   "pygments_lexer": "ipython3",
   "version": "3.12.3"
  }
 },
 "nbformat": 4,
 "nbformat_minor": 4
}
