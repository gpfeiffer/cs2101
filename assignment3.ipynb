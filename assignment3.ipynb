{
 "cells": [
  {
   "cell_type": "markdown",
   "metadata": {},
   "source": [
    "### CS2101 - Programming for Science and Finance\n",
    "Prof. Götz Pfeiffer<br />\n",
    "School of Mathematical and Statistical Sciences<br />\n",
    "University of Galway"
   ]
  },
  {
   "cell_type": "markdown",
   "metadata": {},
   "source": [
    "# Computer Lab 3"
   ]
  },
  {
   "cell_type": "markdown",
   "metadata": {},
   "source": [
    "Provide answers to the problems in the boxes provided.  Partial marks will be awarded for\n",
    "participation and engagement.\n",
    "\n",
    "**Important:** When finished, print this notebook into a **pdf** file and submit this pdf to\n",
    "**canvas**.  (Submissions in other formats will not be accepted.)\n",
    "\n",
    "**Deadline** is next Monday at 5pm."
   ]
  },
  {
   "cell_type": "markdown",
   "metadata": {},
   "source": [
    "## Setup"
   ]
  },
  {
   "cell_type": "markdown",
   "metadata": {},
   "source": [
    "This is a `jupyter` notebook.   You can open and interact\n",
    "with the notebook through one of sites recommended at\n",
    "its [github repository](https://github.com/gpfeiffer/cs2101).\n",
    "\n",
    "Or, you can\n",
    "install and use `jupyter` as a `python` package on your own laptop or PC.  "
   ]
  },
  {
   "attachments": {},
   "cell_type": "markdown",
   "metadata": {},
   "source": [
    "The main purpose of this lab is to learn how to interact with a `jupyter` notebook.\n",
    "\n",
    "* In general, a `jupyter` notebook is a sequence of **cells**.\n",
    "* A cell contains either **text** or `python`  **code**.\n",
    "* You can modify each cell as you like.\n",
    "* In order to run the code in a cell, use the mouse or arrow keys to highlight the box and then press SHIFT-RETURN ...\n",
    "* Should it ever happen that the notebook becomes unusable, start again with a fresh copy."
   ]
  },
  {
   "cell_type": "markdown",
   "metadata": {},
   "source": [
    "##  1. Payments.\n",
    "\n",
    "Construct a class `Payment` for financial payments with attributes `amount` and `description`.\n",
    "The `amount` should be a floating point number (perhaps rounded to 2 decimal digits).\n",
    "The `description` should be a (short) text describing the purpose of this payment.\n",
    "\n",
    "Methods to be defined in the class shnould include\n",
    "* a constructor `__init__` to make a `Payment` object and assign vlues to the attributes `amount` and `description`;\n",
    "* a string representation `__repr__`, perhaps printing the `Payment` object in the same was as it was constructed;\n",
    "* an addition function `__add__`, which returns a new `Payment` object whose amount is the sum of two given payements, and whose description is simply `\"sum\"` or so.\n",
    "* a negation function `__neg__`, which returns a new payment whose amount is the negative of a given payment\n",
    "* a subtraction function `__sub__`, which computes the difference of two given payments as the sum of one and the negative of the other."
   ]
  },
  {
   "cell_type": "code",
   "execution_count": null,
   "metadata": {},
   "outputs": [],
   "source": [
    "class Payment:\n",
    "    def __init__(self, amount, description):\n",
    "        # Your code goes here \n",
    "    def __repr__(self):\n",
    "        # Your code goes here \n",
    "    def __add__(self, other):\n",
    "        # Your code goes here \n",
    "    def __neg__(self):\n",
    "        # Your code goes here \n",
    "    def __sub__(self, other):\n",
    "        # Your code goes here \n"
   ]
  },
  {
   "cell_type": "markdown",
   "metadata": {},
   "source": [
    "* Test your class and objects with the following examples"
   ]
  },
  {
   "cell_type": "code",
   "execution_count": null,
   "metadata": {},
   "outputs": [],
   "source": [
    "coffee = Payment(2.56, \"Coffee\")\n",
    "deposit = Payment(0.50, \"Deposit\")\n",
    "print(coffee)\n",
    "print(deposit)"
   ]
  },
  {
   "cell_type": "code",
   "execution_count": null,
   "metadata": {},
   "outputs": [],
   "source": [
    "coffee + deposit"
   ]
  },
  {
   "cell_type": "code",
   "execution_count": null,
   "metadata": {},
   "outputs": [],
   "source": [
    "coffee - deposit"
   ]
  },
  {
   "cell_type": "markdown",
   "metadata": {},
   "source": [
    "## 2. Rational Numbers."
   ]
  },
  {
   "cell_type": "markdown",
   "metadata": {},
   "source": [
    "* Define a class `Rational` for **rational number objects** as follows.\n",
    "* A `Rational` object should have two (integer valued) attributes `num` (for the **numerator**) and `den` (for the **denominator**), so that it represents the value `num/den`.\n",
    "* Care should be taken to keep these attributes in **lowest terms**.\n",
    "* For this you might need a function `gcd` that computes the **greatest common divisor** of two integers:  use the one from class, or `from math import gcd`."
   ]
  },
  {
   "cell_type": "code",
   "execution_count": null,
   "metadata": {},
   "outputs": [],
   "source": []
  },
  {
   "cell_type": "code",
   "execution_count": null,
   "metadata": {},
   "outputs": [],
   "source": [
    "gcd(24, 16)"
   ]
  },
  {
   "cell_type": "markdown",
   "metadata": {},
   "source": [
    "1. Start with a class definition that defines a constructor `__init__` and a string representation method `__repr__` for rational number objects."
   ]
  },
  {
   "cell_type": "code",
   "execution_count": null,
   "metadata": {},
   "outputs": [],
   "source": [
    "class Rational:\n",
    "    def __init__(self, num, den):\n",
    "        # Your code goes here\n",
    "    def __repr__(self):\n",
    "        # Your code goes here\n"
   ]
  },
  {
   "cell_type": "markdown",
   "metadata": {},
   "source": [
    "2. Test the class on these objects:"
   ]
  },
  {
   "cell_type": "code",
   "execution_count": null,
   "metadata": {},
   "outputs": [],
   "source": [
    "print(Rational(2,3))\n",
    "print(Rational(-2,3))\n",
    "print(Rational(2, -3))"
   ]
  },
  {
   "cell_type": "markdown",
   "metadata": {},
   "source": [
    "3. Write a function `neg_rational` that computes and returns the **negative** of a rational number object as a rational number object."
   ]
  },
  {
   "cell_type": "code",
   "execution_count": null,
   "metadata": {},
   "outputs": [],
   "source": [
    "def neg_rational(rat):\n",
    "    # Your code goes here\n"
   ]
  },
  {
   "cell_type": "markdown",
   "metadata": {},
   "source": [
    "4.  Test your function:"
   ]
  },
  {
   "cell_type": "code",
   "execution_count": null,
   "metadata": {},
   "outputs": [],
   "source": [
    "neg_rational(Rational(3, 5))"
   ]
  },
  {
   "cell_type": "markdown",
   "metadata": {},
   "source": [
    "5.  Write a function `mul_rationals` that computes and returns the **product** of two rational number objects as a rational number object."
   ]
  },
  {
   "cell_type": "code",
   "execution_count": null,
   "metadata": {},
   "outputs": [],
   "source": [
    "def mul_rationals(lft, rgt):\n",
    "    # Your code goes here\n"
   ]
  },
  {
   "cell_type": "markdown",
   "metadata": {},
   "source": [
    "6.  Test your function:  "
   ]
  },
  {
   "cell_type": "code",
   "execution_count": null,
   "metadata": {},
   "outputs": [],
   "source": [
    "mul_rationals(Rational(2, 3), Rational(3,4))"
   ]
  },
  {
   "cell_type": "markdown",
   "metadata": {},
   "source": [
    "7.  Write a function `add_rationals` that computes and returns the **sum** of two rational number objects as a rational number object."
   ]
  },
  {
   "cell_type": "code",
   "execution_count": null,
   "metadata": {},
   "outputs": [],
   "source": [
    "def add_rationals(lft, rgt):\n",
    "    # Your code goes here\n"
   ]
  },
  {
   "cell_type": "markdown",
   "metadata": {},
   "source": [
    "8. Test your function:"
   ]
  },
  {
   "cell_type": "code",
   "execution_count": null,
   "metadata": {},
   "outputs": [],
   "source": [
    "add_rationals(Rational(1,2), Rational(2,3))"
   ]
  },
  {
   "cell_type": "markdown",
   "metadata": {},
   "source": [
    "9.  Write a function `sub_rationals` that computes and returns the **difference** of two rational number objects as a rational number object, perhaps as the sum of one and the negative of the other."
   ]
  },
  {
   "cell_type": "code",
   "execution_count": null,
   "metadata": {},
   "outputs": [],
   "source": [
    "def sub_rationals(lft, rgt):\n",
    "    # Your code goes here\n"
   ]
  },
  {
   "cell_type": "markdown",
   "metadata": {},
   "source": [
    "10. Test your function:"
   ]
  },
  {
   "cell_type": "code",
   "execution_count": null,
   "metadata": {},
   "outputs": [],
   "source": [
    "sub_rationals(Rational(2, 3), Rational(1,2))"
   ]
  },
  {
   "cell_type": "markdown",
   "metadata": {},
   "source": [
    "11. Write a function `eq_rationals` that tests two rational number objects for equality, i.e., it returns `True` if the two represent the same value, and it returns `False` if not."
   ]
  },
  {
   "cell_type": "code",
   "execution_count": null,
   "metadata": {},
   "outputs": [],
   "source": [
    "def eq_rationals(lft, rgt):\n",
    "    # Your code goes here\n"
   ]
  },
  {
   "cell_type": "markdown",
   "metadata": {},
   "source": [
    "12.  Test your function:"
   ]
  },
  {
   "cell_type": "code",
   "execution_count": null,
   "metadata": {},
   "outputs": [],
   "source": [
    "print(eq_rationals(Rational(1,2), Rational(2,4)))\n",
    "print(eq_rationals(Rational(1,2), Rational(3,4)))"
   ]
  },
  {
   "cell_type": "markdown",
   "metadata": {},
   "source": [
    "13.  Now rewrite your class definition for `Rational` objects  with **special methods**\n",
    "   * `__neg__` similar to `neg_rational`\n",
    "   * `__mul__` similar to `mul_rationals`\n",
    "   * `__add__` similar to `add_rationals`\n",
    "   * `__sub__` similar to `sub_rationals`\n",
    "   * `__eq__` similar to `eq_rationals`"
   ]
  },
  {
   "cell_type": "code",
   "execution_count": null,
   "metadata": {},
   "outputs": [],
   "source": [
    "class Rational:\n",
    "        # Your code goes here\n"
   ]
  },
  {
   "cell_type": "markdown",
   "metadata": {},
   "source": [
    "14.  Test your class:"
   ]
  },
  {
   "cell_type": "code",
   "execution_count": null,
   "metadata": {},
   "outputs": [],
   "source": [
    "print(Rational(2, 3))\n",
    "print(-Rational(3, 5))\n",
    "print(Rational(2, 3) * Rational(3, 4))\n",
    "print(Rational(1, 2) + Rational(2, 3))\n",
    "print(Rational(2, 3) - Rational(1, 2))\n",
    "print(Rational(1, 2) == Rational(2, 4))\n",
    "print(Rational(1, 2) == Rational(3, 4))"
   ]
  },
  {
   "cell_type": "markdown",
   "metadata": {},
   "source": [
    "15. What needs to be done so that comparisons like\n",
    "    ```python\n",
    "    Rational(1, 2) < Rational(2, 3)\n",
    "    Rational(1, 2) <= Rational(2, 3)    \n",
    "    ```\n",
    "    are evaluated in a meaningful way?"
   ]
  },
  {
   "cell_type": "code",
   "execution_count": null,
   "metadata": {},
   "outputs": [],
   "source": []
  },
  {
   "cell_type": "markdown",
   "metadata": {},
   "source": [
    "##  Submit your work in PDF format!"
   ]
  },
  {
   "cell_type": "code",
   "execution_count": null,
   "metadata": {},
   "outputs": [],
   "source": []
  }
 ],
 "metadata": {
  "kernelspec": {
   "display_name": "Python 3 (ipykernel)",
   "language": "python",
   "name": "python3"
  },
  "language_info": {
   "codemirror_mode": {
    "name": "ipython",
    "version": 3
   },
   "file_extension": ".py",
   "mimetype": "text/x-python",
   "name": "python",
   "nbconvert_exporter": "python",
   "pygments_lexer": "ipython3",
   "version": "3.12.3"
  }
 },
 "nbformat": 4,
 "nbformat_minor": 4
}
